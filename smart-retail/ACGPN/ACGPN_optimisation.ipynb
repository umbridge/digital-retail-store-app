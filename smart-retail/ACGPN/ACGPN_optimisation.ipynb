{
 "cells": [
  {
   "cell_type": "code",
   "execution_count": 1,
   "id": "c60aa981-c5f7-4cd6-b8c1-3203482467be",
   "metadata": {},
   "outputs": [
    {
     "name": "stdout",
     "output_type": "stream",
     "text": [
      "Cloning into 'ACGPN'...\n",
      "remote: Enumerating objects: 740, done.\u001b[K\n",
      "remote: Counting objects: 100% (665/665), done.\u001b[K\n",
      "remote: Compressing objects: 100% (542/542), done.\u001b[K\n",
      "remote: Total 740 (delta 122), reused 648 (delta 114), pack-reused 75\u001b[K\n",
      "Receiving objects: 100% (740/740), 8.05 MiB | 42.94 MiB/s, done.\n",
      "Resolving deltas: 100% (135/135), done.\n"
     ]
    }
   ],
   "source": [
    "\"\"\"Cloning ACGPN Repo\"\"\"\n",
    "!git clone https://github.com/Prajwal-Deloitte/ACGPN.git"
   ]
  },
  {
   "cell_type": "code",
   "execution_count": 2,
   "id": "a9b9c8fd-ed49-475f-9f4a-2fa4af91e4d1",
   "metadata": {},
   "outputs": [
    {
     "name": "stdout",
     "output_type": "stream",
     "text": [
      "/home/ec2-user/SageMaker/code\n"
     ]
    }
   ],
   "source": [
    "\"\"\"Change directory into ACGPN folder\"\"\"\n",
    "%cd code"
   ]
  },
  {
   "cell_type": "code",
   "execution_count": 3,
   "id": "5b46bb0e-3898-4fb8-9dcf-6a9d82229a40",
   "metadata": {},
   "outputs": [
    {
     "name": "stdout",
     "output_type": "stream",
     "text": [
      "/home/ec2-user/SageMaker/code\n"
     ]
    }
   ],
   "source": [
    "!pwd"
   ]
  },
  {
   "cell_type": "code",
   "execution_count": 3,
   "id": "afd2e269-28a1-45b5-b404-fb93c5cbe34a",
   "metadata": {
    "scrolled": true,
    "tags": []
   },
   "outputs": [
    {
     "name": "stdout",
     "output_type": "stream",
     "text": [
      "Looking in indexes: https://pypi.org/simple, https://pip.repos.neuron.amazonaws.com\n",
      "Collecting ipdb\n",
      "  Downloading ipdb-0.13.11-py3-none-any.whl (12 kB)\n",
      "Collecting opencv-python==4.6.0.66\n",
      "  Downloading opencv_python-4.6.0.66-cp36-abi3-manylinux_2_17_x86_64.manylinux2014_x86_64.whl (60.9 MB)\n",
      "\u001b[2K     \u001b[90m━━━━━━━━━━━━━━━━━━━━━━━━━━━━━━━━━━━━━━━━\u001b[0m \u001b[32m60.9/60.9 MB\u001b[0m \u001b[31m33.2 MB/s\u001b[0m eta \u001b[36m0:00:00\u001b[0m00:01\u001b[0m00:01\u001b[0m\n",
      "\u001b[?25hCollecting pillow==8.1.2\n",
      "  Downloading Pillow-8.1.2-cp37-cp37m-manylinux1_x86_64.whl (2.2 MB)\n",
      "\u001b[2K     \u001b[90m━━━━━━━━━━━━━━━━━━━━━━━━━━━━━━━━━━━━━━━━\u001b[0m \u001b[32m2.2/2.2 MB\u001b[0m \u001b[31m100.6 MB/s\u001b[0m eta \u001b[36m0:00:00\u001b[0m\n",
      "\u001b[?25hCollecting torch\n",
      "  Downloading torch-1.13.1-cp37-cp37m-manylinux1_x86_64.whl (887.5 MB)\n",
      "\u001b[2K     \u001b[90m━━━━━━━━━━━━━━━━━━━━━━━━━━━━━━━━━━━━━━━\u001b[0m \u001b[32m887.5/887.5 MB\u001b[0m \u001b[31m1.1 MB/s\u001b[0m eta \u001b[36m0:00:00\u001b[0m00:01\u001b[0m00:01\u001b[0m\n",
      "\u001b[?25hCollecting tensorboardX\n",
      "  Downloading tensorboardX-2.5.1-py2.py3-none-any.whl (125 kB)\n",
      "\u001b[2K     \u001b[90m━━━━━━━━━━━━━━━━━━━━━━━━━━━━━━━━━━━━━━━\u001b[0m \u001b[32m125.4/125.4 kB\u001b[0m \u001b[31m3.2 MB/s\u001b[0m eta \u001b[36m0:00:00\u001b[0m00:01\u001b[0m\n",
      "\u001b[?25hCollecting ninja==1.11.1\n",
      "  Downloading ninja-1.11.1-py2.py3-none-manylinux_2_12_x86_64.manylinux2010_x86_64.whl (145 kB)\n",
      "\u001b[2K     \u001b[90m━━━━━━━━━━━━━━━━━━━━━━━━━━━━━━━━━━━━━━\u001b[0m \u001b[32m146.0/146.0 kB\u001b[0m \u001b[31m35.9 MB/s\u001b[0m eta \u001b[36m0:00:00\u001b[0m\n",
      "\u001b[?25hRequirement already satisfied: numpy==1.21.6 in /home/ec2-user/anaconda3/envs/JupyterSystemEnv/lib/python3.7/site-packages (from -r requirements.txt (line 7)) (1.21.6)\n",
      "Collecting gdown==4.4.0\n",
      "  Downloading gdown-4.4.0.tar.gz (14 kB)\n",
      "  Installing build dependencies ... \u001b[?25ldone\n",
      "\u001b[?25h  Getting requirements to build wheel ... \u001b[?25ldone\n",
      "\u001b[?25h  Preparing metadata (pyproject.toml) ... \u001b[?25ldone\n",
      "\u001b[?25hRequirement already satisfied: pandas==1.3.5 in /home/ec2-user/anaconda3/envs/JupyterSystemEnv/lib/python3.7/site-packages (from -r requirements.txt (line 9)) (1.3.5)\n",
      "Collecting mediapipe==0.9.0.1\n",
      "  Downloading mediapipe-0.9.0.1-cp37-cp37m-manylinux_2_17_x86_64.manylinux2014_x86_64.whl (33.0 MB)\n",
      "\u001b[2K     \u001b[90m━━━━━━━━━━━━━━━━━━━━━━━━━━━━━━━━━━━━━━━━\u001b[0m \u001b[32m33.0/33.0 MB\u001b[0m \u001b[31m12.1 MB/s\u001b[0m eta \u001b[36m0:00:00\u001b[0m00:01\u001b[0m00:01\u001b[0m\n",
      "\u001b[?25hCollecting IPython==7.9.0\n",
      "  Downloading ipython-7.9.0-py3-none-any.whl (775 kB)\n",
      "\u001b[2K     \u001b[90m━━━━━━━━━━━━━━━━━━━━━━━━━━━━━━━━━━━━━━━\u001b[0m \u001b[32m775.3/775.3 kB\u001b[0m \u001b[31m7.2 MB/s\u001b[0m eta \u001b[36m0:00:00\u001b[0m00:01\u001b[0m\n",
      "\u001b[?25hCollecting scikit-image==0.19.3\n",
      "  Downloading scikit_image-0.19.3-cp37-cp37m-manylinux_2_12_x86_64.manylinux2010_x86_64.whl (13.5 MB)\n",
      "\u001b[2K     \u001b[90m━━━━━━━━━━━━━━━━━━━━━━━━━━━━━━━━━━━━━━━━\u001b[0m \u001b[32m13.5/13.5 MB\u001b[0m \u001b[31m99.0 MB/s\u001b[0m eta \u001b[36m0:00:00\u001b[0m00:01\u001b[0m00:01\u001b[0m\n",
      "\u001b[?25hCollecting torchvision\n",
      "  Downloading torchvision-0.14.1-cp37-cp37m-manylinux1_x86_64.whl (24.2 MB)\n",
      "\u001b[2K     \u001b[90m━━━━━━━━━━━━━━━━━━━━━━━━━━━━━━━━━━━━━━━━\u001b[0m \u001b[32m24.2/24.2 MB\u001b[0m \u001b[31m25.6 MB/s\u001b[0m eta \u001b[36m0:00:00\u001b[0m00:01\u001b[0m00:01\u001b[0m\n",
      "\u001b[?25hCollecting paddlepaddle\n",
      "  Downloading paddlepaddle-2.4.1-cp37-cp37m-manylinux1_x86_64.whl (121.6 MB)\n",
      "\u001b[2K     \u001b[90m━━━━━━━━━━━━━━━━━━━━━━━━━━━━━━━━━━━━━━━\u001b[0m \u001b[32m121.6/121.6 MB\u001b[0m \u001b[31m3.5 MB/s\u001b[0m eta \u001b[36m0:00:00\u001b[0m00:01\u001b[0m00:01\u001b[0m\n",
      "\u001b[?25hCollecting paddlehub\n",
      "  Downloading paddlehub-2.3.1-py3-none-any.whl (213 kB)\n",
      "\u001b[2K     \u001b[90m━━━━━━━━━━━━━━━━━━━━━━━━━━━━━━━━━━━━━━\u001b[0m \u001b[32m213.6/213.6 kB\u001b[0m \u001b[31m46.0 MB/s\u001b[0m eta \u001b[36m0:00:00\u001b[0m\n",
      "\u001b[?25hCollecting gradio\n",
      "  Downloading gradio-3.16.1-py3-none-any.whl (14.2 MB)\n",
      "\u001b[2K     \u001b[90m━━━━━━━━━━━━━━━━━━━━━━━━━━━━━━━━━━━━━━━━\u001b[0m \u001b[32m14.2/14.2 MB\u001b[0m \u001b[31m36.1 MB/s\u001b[0m eta \u001b[36m0:00:00\u001b[0m00:01\u001b[0m00:01\u001b[0m\n",
      "\u001b[?25hCollecting matplotlib\n",
      "  Downloading matplotlib-3.5.3-cp37-cp37m-manylinux_2_5_x86_64.manylinux1_x86_64.whl (11.2 MB)\n",
      "\u001b[2K     \u001b[90m━━━━━━━━━━━━━━━━━━━━━━━━━━━━━━━━━━━━━━━━\u001b[0m \u001b[32m11.2/11.2 MB\u001b[0m \u001b[31m36.9 MB/s\u001b[0m eta \u001b[36m0:00:00\u001b[0m00:01\u001b[0m00:01\u001b[0m\n",
      "\u001b[?25hCollecting cython\n",
      "  Downloading Cython-0.29.33-cp37-cp37m-manylinux_2_17_x86_64.manylinux2014_x86_64.manylinux_2_24_x86_64.whl (1.9 MB)\n",
      "\u001b[2K     \u001b[90m━━━━━━━━━━━━━━━━━━━━━━━━━━━━━━━━━━━━━━━━\u001b[0m \u001b[32m1.9/1.9 MB\u001b[0m \u001b[31m35.9 MB/s\u001b[0m eta \u001b[36m0:00:00\u001b[0m:00:01\u001b[0m\n",
      "\u001b[?25hRequirement already satisfied: requests in /home/ec2-user/anaconda3/envs/JupyterSystemEnv/lib/python3.7/site-packages (from -r requirements.txt (line 19)) (2.28.1)\n",
      "Requirement already satisfied: beautifulsoup4 in /home/ec2-user/anaconda3/envs/JupyterSystemEnv/lib/python3.7/site-packages (from gdown==4.4.0->-r requirements.txt (line 8)) (4.11.1)\n",
      "Collecting tqdm\n",
      "  Downloading tqdm-4.64.1-py2.py3-none-any.whl (78 kB)\n",
      "\u001b[2K     \u001b[90m━━━━━━━━━━━━━━━━━━━━━━━━━━━━━━━━━━━━━━━━\u001b[0m \u001b[32m78.5/78.5 kB\u001b[0m \u001b[31m20.7 MB/s\u001b[0m eta \u001b[36m0:00:00\u001b[0m\n",
      "\u001b[?25hCollecting filelock\n",
      "  Downloading filelock-3.9.0-py3-none-any.whl (9.7 kB)\n",
      "Requirement already satisfied: six in /home/ec2-user/anaconda3/envs/JupyterSystemEnv/lib/python3.7/site-packages (from gdown==4.4.0->-r requirements.txt (line 8)) (1.16.0)\n",
      "Requirement already satisfied: python-dateutil>=2.7.3 in /home/ec2-user/anaconda3/envs/JupyterSystemEnv/lib/python3.7/site-packages (from pandas==1.3.5->-r requirements.txt (line 9)) (2.8.2)\n",
      "Requirement already satisfied: pytz>=2017.3 in /home/ec2-user/anaconda3/envs/JupyterSystemEnv/lib/python3.7/site-packages (from pandas==1.3.5->-r requirements.txt (line 9)) (2022.7)\n",
      "Collecting opencv-contrib-python\n",
      "  Downloading opencv_contrib_python-4.7.0.68-cp37-abi3-manylinux_2_17_x86_64.manylinux2014_x86_64.whl (67.9 MB)\n",
      "\u001b[2K     \u001b[90m━━━━━━━━━━━━━━━━━━━━━━━━━━━━━━━━━━━━━━━━\u001b[0m \u001b[32m67.9/67.9 MB\u001b[0m \u001b[31m31.4 MB/s\u001b[0m eta \u001b[36m0:00:00\u001b[0m00:01\u001b[0m00:01\u001b[0m\n",
      "\u001b[?25hRequirement already satisfied: attrs>=19.1.0 in /home/ec2-user/anaconda3/envs/JupyterSystemEnv/lib/python3.7/site-packages (from mediapipe==0.9.0.1->-r requirements.txt (line 10)) (22.2.0)\n",
      "Requirement already satisfied: protobuf<4,>=3.11 in /home/ec2-user/anaconda3/envs/JupyterSystemEnv/lib/python3.7/site-packages (from mediapipe==0.9.0.1->-r requirements.txt (line 10)) (3.20.3)\n",
      "Collecting absl-py\n",
      "  Downloading absl_py-1.4.0-py3-none-any.whl (126 kB)\n",
      "\u001b[2K     \u001b[90m━━━━━━━━━━━━━━━━━━━━━━━━━━━━━━━━━━━━━━\u001b[0m \u001b[32m126.5/126.5 kB\u001b[0m \u001b[31m16.0 MB/s\u001b[0m eta \u001b[36m0:00:00\u001b[0m\n",
      "\u001b[?25hCollecting flatbuffers>=2.0\n",
      "  Downloading flatbuffers-23.1.4-py2.py3-none-any.whl (26 kB)\n",
      "Requirement already satisfied: pexpect in /home/ec2-user/anaconda3/envs/JupyterSystemEnv/lib/python3.7/site-packages (from IPython==7.9.0->-r requirements.txt (line 11)) (4.8.0)\n",
      "Requirement already satisfied: pickleshare in /home/ec2-user/anaconda3/envs/JupyterSystemEnv/lib/python3.7/site-packages (from IPython==7.9.0->-r requirements.txt (line 11)) (0.7.5)\n",
      "Requirement already satisfied: traitlets>=4.2 in /home/ec2-user/anaconda3/envs/JupyterSystemEnv/lib/python3.7/site-packages (from IPython==7.9.0->-r requirements.txt (line 11)) (5.8.0)\n",
      "Requirement already satisfied: decorator in /home/ec2-user/anaconda3/envs/JupyterSystemEnv/lib/python3.7/site-packages (from IPython==7.9.0->-r requirements.txt (line 11)) (5.1.1)\n",
      "Requirement already satisfied: pygments in /home/ec2-user/anaconda3/envs/JupyterSystemEnv/lib/python3.7/site-packages (from IPython==7.9.0->-r requirements.txt (line 11)) (2.14.0)\n",
      "Collecting prompt-toolkit<2.1.0,>=2.0.0\n",
      "  Downloading prompt_toolkit-2.0.10-py3-none-any.whl (340 kB)\n",
      "\u001b[2K     \u001b[90m━━━━━━━━━━━━━━━━━━━━━━━━━━━━━━━━━━━━━━\u001b[0m \u001b[32m340.0/340.0 kB\u001b[0m \u001b[31m10.1 MB/s\u001b[0m eta \u001b[36m0:00:00\u001b[0m\n",
      "\u001b[?25hRequirement already satisfied: setuptools>=18.5 in /home/ec2-user/anaconda3/envs/JupyterSystemEnv/lib/python3.7/site-packages (from IPython==7.9.0->-r requirements.txt (line 11)) (65.6.3)\n",
      "Requirement already satisfied: backcall in /home/ec2-user/anaconda3/envs/JupyterSystemEnv/lib/python3.7/site-packages (from IPython==7.9.0->-r requirements.txt (line 11)) (0.2.0)\n",
      "Requirement already satisfied: jedi>=0.10 in /home/ec2-user/anaconda3/envs/JupyterSystemEnv/lib/python3.7/site-packages (from IPython==7.9.0->-r requirements.txt (line 11)) (0.18.2)\n",
      "Collecting networkx>=2.2\n",
      "  Downloading networkx-2.6.3-py3-none-any.whl (1.9 MB)\n",
      "\u001b[2K     \u001b[90m━━━━━━━━━━━━━━━━━━━━━━━━━━━━━━━━━━━━━━━━\u001b[0m \u001b[32m1.9/1.9 MB\u001b[0m \u001b[31m29.1 MB/s\u001b[0m eta \u001b[36m0:00:00\u001b[0m:00:01\u001b[0m\n",
      "\u001b[?25hCollecting imageio>=2.4.1\n",
      "  Downloading imageio-2.24.0-py3-none-any.whl (3.4 MB)\n",
      "\u001b[2K     \u001b[90m━━━━━━━━━━━━━━━━━━━━━━━━━━━━━━━━━━━━━━━━\u001b[0m \u001b[32m3.4/3.4 MB\u001b[0m \u001b[31m30.0 MB/s\u001b[0m eta \u001b[36m0:00:00\u001b[0m:00:01\u001b[0m\n",
      "\u001b[?25hCollecting tifffile>=2019.7.26\n",
      "  Downloading tifffile-2021.11.2-py3-none-any.whl (178 kB)\n",
      "\u001b[2K     \u001b[90m━━━━━━━━━━━━━━━━━━━━━━━━━━━━━━━━━━━━━━\u001b[0m \u001b[32m178.9/178.9 kB\u001b[0m \u001b[31m42.1 MB/s\u001b[0m eta \u001b[36m0:00:00\u001b[0m\n",
      "\u001b[?25hCollecting PyWavelets>=1.1.1\n",
      "  Downloading PyWavelets-1.3.0-cp37-cp37m-manylinux_2_5_x86_64.manylinux1_x86_64.manylinux_2_12_x86_64.manylinux2010_x86_64.whl (6.4 MB)\n",
      "\u001b[2K     \u001b[90m━━━━━━━━━━━━━━━━━━━━━━━━━━━━━━━━━━━━━━━━\u001b[0m \u001b[32m6.4/6.4 MB\u001b[0m \u001b[31m28.1 MB/s\u001b[0m eta \u001b[36m0:00:00\u001b[0m00:01\u001b[0m:00:01\u001b[0m\n",
      "\u001b[?25hRequirement already satisfied: packaging>=20.0 in /home/ec2-user/anaconda3/envs/JupyterSystemEnv/lib/python3.7/site-packages (from scikit-image==0.19.3->-r requirements.txt (line 12)) (22.0)\n",
      "Collecting scipy>=1.4.1\n",
      "  Downloading scipy-1.7.3-cp37-cp37m-manylinux_2_12_x86_64.manylinux2010_x86_64.whl (38.1 MB)\n",
      "\u001b[2K     \u001b[90m━━━━━━━━━━━━━━━━━━━━━━━━━━━━━━━━━━━━━━━━\u001b[0m \u001b[32m38.1/38.1 MB\u001b[0m \u001b[31m18.1 MB/s\u001b[0m eta \u001b[36m0:00:00\u001b[0m00:01\u001b[0m00:01\u001b[0m\n",
      "\u001b[?25hRequirement already satisfied: tomli in /home/ec2-user/anaconda3/envs/JupyterSystemEnv/lib/python3.7/site-packages (from ipdb->-r requirements.txt (line 1)) (2.0.1)\n",
      "Collecting ipdb\n",
      "  Downloading ipdb-0.13.10.tar.gz (16 kB)\n",
      "  Installing build dependencies ... \u001b[?25ldone\n",
      "\u001b[33m  WARNING: Missing build requirements in pyproject.toml for ipdb from https://files.pythonhosted.org/packages/98/61/25480fc06aba3ecb3ce545ea78f1b15177e7953c2bcf54bda6bd1bcc9f83/ipdb-0.13.10.tar.gz (from -r requirements.txt (line 1)).\u001b[0m\u001b[33m\n",
      "\u001b[0m\u001b[33m  WARNING: The project does not specify a build backend, and pip cannot fall back to setuptools without 'wheel'.\u001b[0m\u001b[33m\n",
      "\u001b[0m\u001b[?25h  Getting requirements to build wheel ... \u001b[?25ldone\n",
      "\u001b[?25h  Installing backend dependencies ... \u001b[?25ldone\n",
      "\u001b[?25h  Preparing metadata (pyproject.toml) ... \u001b[?25ldone\n",
      "\u001b[?25h  Downloading ipdb-0.13.9.tar.gz (16 kB)\n",
      "  Preparing metadata (setup.py) ... \u001b[?25ldone\n",
      "\u001b[?25h  Downloading ipdb-0.13.8.tar.gz (16 kB)\n",
      "  Preparing metadata (setup.py) ... \u001b[?25ldone\n",
      "\u001b[?25h  Downloading ipdb-0.13.7.tar.gz (16 kB)\n",
      "  Preparing metadata (setup.py) ... \u001b[?25ldone\n",
      "\u001b[?25h  Downloading ipdb-0.13.6.tar.gz (16 kB)\n",
      "  Preparing metadata (setup.py) ... \u001b[?25ldone\n",
      "\u001b[?25h  Downloading ipdb-0.13.5.tar.gz (16 kB)\n",
      "  Preparing metadata (setup.py) ... \u001b[?25ldone\n",
      "\u001b[?25h  Downloading ipdb-0.13.4.tar.gz (15 kB)\n",
      "  Preparing metadata (setup.py) ... \u001b[?25ldone\n",
      "\u001b[?25hCollecting nvidia-cublas-cu11==11.10.3.66\n",
      "  Downloading nvidia_cublas_cu11-11.10.3.66-py3-none-manylinux1_x86_64.whl (317.1 MB)\n",
      "\u001b[2K     \u001b[90m━━━━━━━━━━━━━━━━━━━━━━━━━━━━━━━━━━━━━━━\u001b[0m \u001b[32m317.1/317.1 MB\u001b[0m \u001b[31m3.2 MB/s\u001b[0m eta \u001b[36m0:00:00\u001b[0m00:01\u001b[0m00:01\u001b[0m\n",
      "\u001b[?25hCollecting nvidia-cuda-nvrtc-cu11==11.7.99\n",
      "  Downloading nvidia_cuda_nvrtc_cu11-11.7.99-2-py3-none-manylinux1_x86_64.whl (21.0 MB)\n",
      "\u001b[2K     \u001b[90m━━━━━━━━━━━━━━━━━━━━━━━━━━━━━━━━━━━━━━━━\u001b[0m \u001b[32m21.0/21.0 MB\u001b[0m \u001b[31m18.2 MB/s\u001b[0m eta \u001b[36m0:00:00\u001b[0m00:01\u001b[0m00:01\u001b[0m\n",
      "\u001b[?25hCollecting nvidia-cuda-runtime-cu11==11.7.99\n",
      "  Downloading nvidia_cuda_runtime_cu11-11.7.99-py3-none-manylinux1_x86_64.whl (849 kB)\n",
      "\u001b[2K     \u001b[90m━━━━━━━━━━━━━━━━━━━━━━━━━━━━━━━━━━━━━━\u001b[0m \u001b[32m849.3/849.3 kB\u001b[0m \u001b[31m20.1 MB/s\u001b[0m eta \u001b[36m0:00:00\u001b[0m00:01\u001b[0m\n",
      "\u001b[?25hCollecting nvidia-cudnn-cu11==8.5.0.96\n",
      "  Downloading nvidia_cudnn_cu11-8.5.0.96-2-py3-none-manylinux1_x86_64.whl (557.1 MB)\n",
      "\u001b[2K     \u001b[90m━━━━━━━━━━━━━━━━━━━━━━━━━━━━━━━━━━━━━\u001b[0m \u001b[32m557.1/557.1 MB\u001b[0m \u001b[31m526.7 kB/s\u001b[0m eta \u001b[36m0:00:00\u001b[0m00:01\u001b[0m00:01\u001b[0m\n",
      "\u001b[?25hRequirement already satisfied: typing-extensions in /home/ec2-user/anaconda3/envs/JupyterSystemEnv/lib/python3.7/site-packages (from torch->-r requirements.txt (line 4)) (4.4.0)\n",
      "Requirement already satisfied: wheel in /home/ec2-user/anaconda3/envs/JupyterSystemEnv/lib/python3.7/site-packages (from nvidia-cublas-cu11==11.10.3.66->torch->-r requirements.txt (line 4)) (0.38.4)\n",
      "Collecting protobuf<4,>=3.11\n",
      "  Downloading protobuf-3.20.1-cp37-cp37m-manylinux_2_5_x86_64.manylinux1_x86_64.whl (1.0 MB)\n",
      "\u001b[2K     \u001b[90m━━━━━━━━━━━━━━━━━━━━━━━━━━━━━━━━━━━━━━━━\u001b[0m \u001b[32m1.0/1.0 MB\u001b[0m \u001b[31m8.3 MB/s\u001b[0m eta \u001b[36m0:00:00\u001b[0m0:00:01\u001b[0m\n",
      "\u001b[?25h  Downloading protobuf-3.20.0-cp37-cp37m-manylinux_2_5_x86_64.manylinux1_x86_64.whl (1.0 MB)\n",
      "\u001b[2K     \u001b[90m━━━━━━━━━━━━━━━━━━━━━━━━━━━━━━━━━━━━━━━━\u001b[0m \u001b[32m1.0/1.0 MB\u001b[0m \u001b[31m11.7 MB/s\u001b[0m eta \u001b[36m0:00:00\u001b[0m:00:01\u001b[0m\n",
      "\u001b[?25hCollecting opt-einsum==3.3.0\n",
      "  Downloading opt_einsum-3.3.0-py3-none-any.whl (65 kB)\n",
      "\u001b[2K     \u001b[90m━━━━━━━━━━━━━━━━━━━━━━━━━━━━━━━━━━━━━━━━\u001b[0m \u001b[32m65.5/65.5 kB\u001b[0m \u001b[31m20.4 MB/s\u001b[0m eta \u001b[36m0:00:00\u001b[0m\n",
      "\u001b[?25hCollecting paddle-bfloat==0.1.7\n",
      "  Downloading paddle_bfloat-0.1.7-cp37-cp37m-manylinux_2_17_x86_64.manylinux2014_x86_64.whl (394 kB)\n",
      "\u001b[2K     \u001b[90m━━━━━━━━━━━━━━━━━━━━━━━━━━━━━━━━━━━━━━━\u001b[0m \u001b[32m394.8/394.8 kB\u001b[0m \u001b[31m9.5 MB/s\u001b[0m eta \u001b[36m0:00:00\u001b[0m00:01\u001b[0m\n",
      "\u001b[?25hCollecting astor\n",
      "  Downloading astor-0.8.1-py2.py3-none-any.whl (27 kB)\n",
      "Collecting colorlog\n",
      "  Downloading colorlog-6.7.0-py2.py3-none-any.whl (11 kB)\n",
      "Collecting flask>=1.1.0\n",
      "  Downloading Flask-2.2.2-py3-none-any.whl (101 kB)\n",
      "\u001b[2K     \u001b[90m━━━━━━━━━━━━━━━━━━━━━━━━━━━━━━━━━━━━━━\u001b[0m \u001b[32m101.5/101.5 kB\u001b[0m \u001b[31m28.1 MB/s\u001b[0m eta \u001b[36m0:00:00\u001b[0m\n",
      "\u001b[?25hCollecting easydict\n",
      "  Downloading easydict-1.10.tar.gz (6.4 kB)\n",
      "  Preparing metadata (setup.py) ... \u001b[?25ldone\n",
      "\u001b[?25hRequirement already satisfied: colorama in /home/ec2-user/anaconda3/envs/JupyterSystemEnv/lib/python3.7/site-packages (from paddlehub->-r requirements.txt (line 15)) (0.4.4)\n",
      "Requirement already satisfied: pyyaml in /home/ec2-user/anaconda3/envs/JupyterSystemEnv/lib/python3.7/site-packages (from paddlehub->-r requirements.txt (line 15)) (5.4.1)\n",
      "Collecting rarfile\n",
      "  Downloading rarfile-4.0-py3-none-any.whl (28 kB)\n",
      "Collecting gunicorn>=19.10.0\n",
      "  Downloading gunicorn-20.1.0-py3-none-any.whl (79 kB)\n",
      "\u001b[2K     \u001b[90m━━━━━━━━━━━━━━━━━━━━━━━━━━━━━━━━━━━━━━━━\u001b[0m \u001b[32m79.5/79.5 kB\u001b[0m \u001b[31m24.0 MB/s\u001b[0m eta \u001b[36m0:00:00\u001b[0m\n",
      "\u001b[?25hCollecting paddlenlp>=2.0.0\n",
      "  Downloading paddlenlp-2.4.9-py3-none-any.whl (2.1 MB)\n",
      "\u001b[2K     \u001b[90m━━━━━━━━━━━━━━━━━━━━━━━━━━━━━━━━━━━━━━━━\u001b[0m \u001b[32m2.1/2.1 MB\u001b[0m \u001b[31m26.5 MB/s\u001b[0m eta \u001b[36m0:00:00\u001b[0m:00:01\u001b[0m\n",
      "\u001b[?25hCollecting visualdl>=2.0.0\n",
      "  Downloading visualdl-2.4.2-py3-none-any.whl (4.9 MB)\n",
      "\u001b[2K     \u001b[90m━━━━━━━━━━━━━━━━━━━━━━━━━━━━━━━━━━━━━━━━\u001b[0m \u001b[32m4.9/4.9 MB\u001b[0m \u001b[31m26.3 MB/s\u001b[0m eta \u001b[36m0:00:00\u001b[0m:00:01\u001b[0m\n",
      "\u001b[?25hRequirement already satisfied: pyzmq in /home/ec2-user/anaconda3/envs/JupyterSystemEnv/lib/python3.7/site-packages (from paddlehub->-r requirements.txt (line 15)) (24.0.1)\n",
      "Collecting paddle2onnx>=0.5.1\n",
      "  Downloading paddle2onnx-1.0.5-cp37-cp37m-manylinux_2_12_x86_64.manylinux2010_x86_64.whl (3.0 MB)\n",
      "\u001b[2K     \u001b[90m━━━━━━━━━━━━━━━━━━━━━━━━━━━━━━━━━━━━━━━━\u001b[0m \u001b[32m3.0/3.0 MB\u001b[0m \u001b[31m19.4 MB/s\u001b[0m eta \u001b[36m0:00:00\u001b[0m:00:01\u001b[0m\n",
      "\u001b[?25hCollecting altair>=4.2.0\n",
      "  Downloading altair-4.2.0-py3-none-any.whl (812 kB)\n",
      "\u001b[2K     \u001b[90m━━━━━━━━━━━━━━━━━━━━━━━━━━━━━━━━━━━━━━\u001b[0m \u001b[32m812.8/812.8 kB\u001b[0m \u001b[31m15.1 MB/s\u001b[0m eta \u001b[36m0:00:00\u001b[0m00:01\u001b[0m\n",
      "\u001b[?25hRequirement already satisfied: aiohttp in /home/ec2-user/anaconda3/envs/JupyterSystemEnv/lib/python3.7/site-packages (from gradio->-r requirements.txt (line 16)) (3.7.4)\n",
      "Requirement already satisfied: fsspec in /home/ec2-user/anaconda3/envs/JupyterSystemEnv/lib/python3.7/site-packages (from gradio->-r requirements.txt (line 16)) (2022.11.0)\n",
      "Collecting httpx\n",
      "  Downloading httpx-0.23.3-py3-none-any.whl (71 kB)\n",
      "\u001b[2K     \u001b[90m━━━━━━━━━━━━━━━━━━━━━━━━━━━━━━━━━━━━━━━━\u001b[0m \u001b[32m71.5/71.5 kB\u001b[0m \u001b[31m4.6 MB/s\u001b[0m eta \u001b[36m0:00:00\u001b[0m\n",
      "\u001b[?25hCollecting pycryptodome\n",
      "  Downloading pycryptodome-3.16.0-cp35-abi3-manylinux_2_5_x86_64.manylinux1_x86_64.manylinux_2_12_x86_64.manylinux2010_x86_64.whl (2.3 MB)\n",
      "\u001b[2K     \u001b[90m━━━━━━━━━━━━━━━━━━━━━━━━━━━━━━━━━━━━━━━━\u001b[0m \u001b[32m2.3/2.3 MB\u001b[0m \u001b[31m13.0 MB/s\u001b[0m eta \u001b[36m0:00:00\u001b[0m:00:01\u001b[0m\n",
      "\u001b[?25hRequirement already satisfied: jinja2 in /home/ec2-user/anaconda3/envs/JupyterSystemEnv/lib/python3.7/site-packages (from gradio->-r requirements.txt (line 16)) (3.1.2)\n",
      "Requirement already satisfied: markupsafe in /home/ec2-user/anaconda3/envs/JupyterSystemEnv/lib/python3.7/site-packages (from gradio->-r requirements.txt (line 16)) (2.1.1)\n",
      "Collecting pydantic\n",
      "  Downloading pydantic-1.10.4-cp37-cp37m-manylinux_2_17_x86_64.manylinux2014_x86_64.whl (3.1 MB)\n",
      "\u001b[2K     \u001b[90m━━━━━━━━━━━━━━━━━━━━━━━━━━━━━━━━━━━━━━━━\u001b[0m \u001b[32m3.1/3.1 MB\u001b[0m \u001b[31m25.0 MB/s\u001b[0m eta \u001b[36m0:00:00\u001b[0m:00:01\u001b[0m\n",
      "\u001b[?25hCollecting uvicorn\n",
      "  Downloading uvicorn-0.20.0-py3-none-any.whl (56 kB)\n",
      "\u001b[2K     \u001b[90m━━━━━━━━━━━━━━━━━━━━━━━━━━━━━━━━━━━━━━━━\u001b[0m \u001b[32m56.9/56.9 kB\u001b[0m \u001b[31m2.1 MB/s\u001b[0m eta \u001b[36m0:00:00\u001b[0m\n",
      "\u001b[?25hCollecting markdown-it-py[linkify,plugins]\n",
      "  Downloading markdown_it_py-2.1.0-py3-none-any.whl (84 kB)\n",
      "\u001b[2K     \u001b[90m━━━━━━━━━━━━━━━━━━━━━━━━━━━━━━━━━━━━━━━━\u001b[0m \u001b[32m84.5/84.5 kB\u001b[0m \u001b[31m17.2 MB/s\u001b[0m eta \u001b[36m0:00:00\u001b[0m\n",
      "\u001b[?25hCollecting orjson\n",
      "  Downloading orjson-3.8.5-cp37-cp37m-manylinux_2_17_x86_64.manylinux2014_x86_64.whl (270 kB)\n",
      "\u001b[2K     \u001b[90m━━━━━━━━━━━━━━━━━━━━━━━━━━━━━━━━━━━━━━━\u001b[0m \u001b[32m270.6/270.6 kB\u001b[0m \u001b[31m3.0 MB/s\u001b[0m eta \u001b[36m0:00:00\u001b[0m00:01\u001b[0m\n",
      "\u001b[?25hCollecting python-multipart\n",
      "  Downloading python-multipart-0.0.5.tar.gz (32 kB)\n",
      "  Preparing metadata (setup.py) ... \u001b[?25ldone\n",
      "\u001b[?25hCollecting fastapi\n",
      "  Downloading fastapi-0.89.1-py3-none-any.whl (55 kB)\n",
      "\u001b[2K     \u001b[90m━━━━━━━━━━━━━━━━━━━━━━━━━━━━━━━━━━━━━━━━\u001b[0m \u001b[32m55.8/55.8 kB\u001b[0m \u001b[31m6.3 MB/s\u001b[0m eta \u001b[36m0:00:00\u001b[0m\n",
      "\u001b[?25hCollecting ffmpy\n",
      "  Downloading ffmpy-0.3.0.tar.gz (4.8 kB)\n",
      "  Preparing metadata (setup.py) ... \u001b[?25ldone\n",
      "\u001b[?25hCollecting pydub\n",
      "  Downloading pydub-0.25.1-py2.py3-none-any.whl (32 kB)\n",
      "Collecting websockets>=10.0\n",
      "  Downloading websockets-10.4-cp37-cp37m-manylinux_2_5_x86_64.manylinux1_x86_64.manylinux_2_17_x86_64.manylinux2014_x86_64.whl (106 kB)\n",
      "\u001b[2K     \u001b[90m━━━━━━━━━━━━━━━━━━━━━━━━━━━━━━━━━━━━━━━\u001b[0m \u001b[32m106.7/106.7 kB\u001b[0m \u001b[31m5.1 MB/s\u001b[0m eta \u001b[36m0:00:00\u001b[0m\n",
      "\u001b[?25hCollecting fonttools>=4.22.0\n",
      "  Downloading fonttools-4.38.0-py3-none-any.whl (965 kB)\n",
      "\u001b[2K     \u001b[90m━━━━━━━━━━━━━━━━━━━━━━━━━━━━━━━━━━━━━━\u001b[0m \u001b[32m965.4/965.4 kB\u001b[0m \u001b[31m11.1 MB/s\u001b[0m eta \u001b[36m0:00:00\u001b[0m00:01\u001b[0m\n",
      "\u001b[?25hCollecting kiwisolver>=1.0.1\n",
      "  Downloading kiwisolver-1.4.4-cp37-cp37m-manylinux_2_5_x86_64.manylinux1_x86_64.whl (1.1 MB)\n",
      "\u001b[2K     \u001b[90m━━━━━━━━━━━━━━━━━━━━━━━━━━━━━━━━━━━━━━━━\u001b[0m \u001b[32m1.1/1.1 MB\u001b[0m \u001b[31m18.3 MB/s\u001b[0m eta \u001b[36m0:00:00\u001b[0m:00:01\u001b[0m\n",
      "\u001b[?25hCollecting cycler>=0.10\n",
      "  Downloading cycler-0.11.0-py3-none-any.whl (6.4 kB)\n",
      "Collecting pyparsing>=2.2.1\n",
      "  Downloading pyparsing-3.0.9-py3-none-any.whl (98 kB)\n",
      "\u001b[2K     \u001b[90m━━━━━━━━━━━━━━━━━━━━━━━━━━━━━━━━━━━━━━━━\u001b[0m \u001b[32m98.3/98.3 kB\u001b[0m \u001b[31m5.0 MB/s\u001b[0m eta \u001b[36m0:00:00\u001b[0m\n",
      "\u001b[?25hRequirement already satisfied: certifi>=2017.4.17 in /home/ec2-user/anaconda3/envs/JupyterSystemEnv/lib/python3.7/site-packages (from requests->-r requirements.txt (line 19)) (2022.12.7)\n",
      "Requirement already satisfied: urllib3<1.27,>=1.21.1 in /home/ec2-user/anaconda3/envs/JupyterSystemEnv/lib/python3.7/site-packages (from requests->-r requirements.txt (line 19)) (1.26.8)\n",
      "Requirement already satisfied: charset-normalizer<3,>=2 in /home/ec2-user/anaconda3/envs/JupyterSystemEnv/lib/python3.7/site-packages (from requests->-r requirements.txt (line 19)) (2.1.1)\n",
      "Requirement already satisfied: idna<4,>=2.5 in /home/ec2-user/anaconda3/envs/JupyterSystemEnv/lib/python3.7/site-packages (from requests->-r requirements.txt (line 19)) (3.4)\n",
      "Requirement already satisfied: jsonschema>=3.0 in /home/ec2-user/anaconda3/envs/JupyterSystemEnv/lib/python3.7/site-packages (from altair>=4.2.0->gradio->-r requirements.txt (line 16)) (3.2.0)\n",
      "Collecting toolz\n",
      "  Downloading toolz-0.12.0-py3-none-any.whl (55 kB)\n",
      "\u001b[2K     \u001b[90m━━━━━━━━━━━━━━━━━━━━━━━━━━━━━━━━━━━━━━━\u001b[0m \u001b[32m55.8/55.8 kB\u001b[0m \u001b[31m348.5 kB/s\u001b[0m eta \u001b[36m0:00:00\u001b[0ma \u001b[36m0:00:01\u001b[0m\n",
      "\u001b[?25hRequirement already satisfied: entrypoints in /home/ec2-user/anaconda3/envs/JupyterSystemEnv/lib/python3.7/site-packages (from altair>=4.2.0->gradio->-r requirements.txt (line 16)) (0.4)\n",
      "Requirement already satisfied: importlib-metadata>=3.6.0 in /home/ec2-user/anaconda3/envs/JupyterSystemEnv/lib/python3.7/site-packages (from flask>=1.1.0->paddlehub->-r requirements.txt (line 15)) (4.11.4)\n",
      "Collecting Werkzeug>=2.2.2\n",
      "  Downloading Werkzeug-2.2.2-py3-none-any.whl (232 kB)\n",
      "\u001b[2K     \u001b[90m━━━━━━━━━━━━━━━━━━━━━━━━━━━━━━━━━━━━━━━\u001b[0m \u001b[32m232.7/232.7 kB\u001b[0m \u001b[31m5.8 MB/s\u001b[0m eta \u001b[36m0:00:00\u001b[0ma \u001b[36m0:00:01\u001b[0m\n",
      "\u001b[?25hCollecting itsdangerous>=2.0\n",
      "  Downloading itsdangerous-2.1.2-py3-none-any.whl (15 kB)\n",
      "Collecting click>=8.0\n",
      "  Downloading click-8.1.3-py3-none-any.whl (96 kB)\n",
      "\u001b[2K     \u001b[90m━━━━━━━━━━━━━━━━━━━━━━━━━━━━━━━━━━━━━━━━\u001b[0m \u001b[32m96.6/96.6 kB\u001b[0m \u001b[31m1.3 MB/s\u001b[0m eta \u001b[36m0:00:00\u001b[0mta \u001b[36m0:00:01\u001b[0m\n",
      "\u001b[?25hCollecting imageio>=2.4.1\n",
      "  Downloading imageio-2.23.0-py3-none-any.whl (3.4 MB)\n",
      "\u001b[2K     \u001b[90m━━━━━━━━━━━━━━━━━━━━━━━━━━━━━━━━━━━━━━━━\u001b[0m \u001b[32m3.4/3.4 MB\u001b[0m \u001b[31m12.9 MB/s\u001b[0m eta \u001b[36m0:00:00\u001b[0m:00:01\u001b[0m\n",
      "\u001b[?25h  Downloading imageio-2.22.4-py3-none-any.whl (3.4 MB)\n",
      "\u001b[2K     \u001b[90m━━━━━━━━━━━━━━━━━━━━━━━━━━━━━━━━━━━━━━━━\u001b[0m \u001b[32m3.4/3.4 MB\u001b[0m \u001b[31m10.4 MB/s\u001b[0m eta \u001b[36m0:00:00\u001b[0m:00:01\u001b[0m\n",
      "\u001b[?25h  Downloading imageio-2.22.3-py3-none-any.whl (3.4 MB)\n",
      "\u001b[2K     \u001b[90m━━━━━━━━━━━━━━━━━━━━━━━━━━━━━━━━━━━━━━━━\u001b[0m \u001b[32m3.4/3.4 MB\u001b[0m \u001b[31m12.8 MB/s\u001b[0m eta \u001b[36m0:00:00\u001b[0m:00:01\u001b[0m\n",
      "\u001b[?25h  Downloading imageio-2.22.2-py3-none-any.whl (3.4 MB)\n",
      "\u001b[2K     \u001b[90m━━━━━━━━━━━━━━━━━━━━━━━━━━━━━━━━━━━━━━━━\u001b[0m \u001b[32m3.4/3.4 MB\u001b[0m \u001b[31m7.9 MB/s\u001b[0m eta \u001b[36m0:00:00\u001b[0m:00:01\u001b[0m:00:01\u001b[0m\n",
      "\u001b[?25h  Downloading imageio-2.22.1-py3-none-any.whl (3.4 MB)\n",
      "\u001b[2K     \u001b[90m━━━━━━━━━━━━━━━━━━━━━━━━━━━━━━━━━━━━━━━━\u001b[0m \u001b[32m3.4/3.4 MB\u001b[0m \u001b[31m11.9 MB/s\u001b[0m eta \u001b[36m0:00:00\u001b[0m:00:01\u001b[0m\n",
      "\u001b[?25h  Downloading imageio-2.22.0-py3-none-any.whl (3.4 MB)\n",
      "\u001b[2K     \u001b[90m━━━━━━━━━━━━━━━━━━━━━━━━━━━━━━━━━━━━━━━━\u001b[0m \u001b[32m3.4/3.4 MB\u001b[0m \u001b[31m11.5 MB/s\u001b[0m eta \u001b[36m0:00:00\u001b[0m:00:01\u001b[0m\n",
      "\u001b[?25h  Downloading imageio-2.21.3-py3-none-any.whl (3.4 MB)\n",
      "\u001b[2K     \u001b[90m━━━━━━━━━━━━━━━━━━━━━━━━━━━━━━━━━━━━━━━━\u001b[0m \u001b[32m3.4/3.4 MB\u001b[0m \u001b[31m10.4 MB/s\u001b[0m eta \u001b[36m0:00:00\u001b[0m:00:01\u001b[0m\n",
      "\u001b[?25h  Downloading imageio-2.21.2-py3-none-any.whl (3.4 MB)\n",
      "\u001b[2K     \u001b[90m━━━━━━━━━━━━━━━━━━━━━━━━━━━━━━━━━━━━━━━━\u001b[0m \u001b[32m3.4/3.4 MB\u001b[0m \u001b[31m13.6 MB/s\u001b[0m eta \u001b[36m0:00:00\u001b[0m:00:01\u001b[0m\n",
      "\u001b[?25h  Downloading imageio-2.21.1-py3-none-any.whl (3.4 MB)\n",
      "\u001b[2K     \u001b[90m━━━━━━━━━━━━━━━━━━━━━━━━━━━━━━━━━━━━━━━━\u001b[0m \u001b[32m3.4/3.4 MB\u001b[0m \u001b[31m12.7 MB/s\u001b[0m eta \u001b[36m0:00:00\u001b[0m:00:01\u001b[0m\n",
      "\u001b[?25h  Downloading imageio-2.21.0-py3-none-any.whl (3.4 MB)\n",
      "\u001b[2K     \u001b[90m━━━━━━━━━━━━━━━━━━━━━━━━━━━━━━━━━━━━━━━━\u001b[0m \u001b[32m3.4/3.4 MB\u001b[0m \u001b[31m13.6 MB/s\u001b[0m eta \u001b[36m0:00:00\u001b[0m:00:01\u001b[0m\n",
      "\u001b[?25h  Downloading imageio-2.20.0-py3-none-any.whl (3.4 MB)\n",
      "\u001b[2K     \u001b[90m━━━━━━━━━━━━━━━━━━━━━━━━━━━━━━━━━━━━━━━━\u001b[0m \u001b[32m3.4/3.4 MB\u001b[0m \u001b[31m14.1 MB/s\u001b[0m eta \u001b[36m0:00:00\u001b[0m:00:01\u001b[0m\n",
      "\u001b[?25h  Downloading imageio-2.19.5-py3-none-any.whl (3.4 MB)\n",
      "\u001b[2K     \u001b[90m━━━━━━━━━━━━━━━━━━━━━━━━━━━━━━━━━━━━━━━━\u001b[0m \u001b[32m3.4/3.4 MB\u001b[0m \u001b[31m10.3 MB/s\u001b[0m eta \u001b[36m0:00:00\u001b[0m:00:01\u001b[0m\n",
      "\u001b[?25h  Downloading imageio-2.19.3-py3-none-any.whl (3.4 MB)\n",
      "\u001b[2K     \u001b[90m━━━━━━━━━━━━━━━━━━━━━━━━━━━━━━━━━━━━━━━━\u001b[0m \u001b[32m3.4/3.4 MB\u001b[0m \u001b[31m16.1 MB/s\u001b[0m eta \u001b[36m0:00:00\u001b[0m:00:01\u001b[0m\n",
      "\u001b[?25h  Downloading imageio-2.19.2-py3-none-any.whl (3.4 MB)\n",
      "\u001b[2K     \u001b[90m━━━━━━━━━━━━━━━━━━━━━━━━━━━━━━━━━━━━━━━━\u001b[0m \u001b[32m3.4/3.4 MB\u001b[0m \u001b[31m10.2 MB/s\u001b[0m eta \u001b[36m0:00:00\u001b[0m:00:01\u001b[0m\n",
      "\u001b[?25h  Downloading imageio-2.19.1-py3-none-any.whl (3.4 MB)\n",
      "\u001b[2K     \u001b[90m━━━━━━━━━━━━━━━━━━━━━━━━━━━━━━━━━━━━━━━━\u001b[0m \u001b[32m3.4/3.4 MB\u001b[0m \u001b[31m10.7 MB/s\u001b[0m eta \u001b[36m0:00:00\u001b[0m:00:01\u001b[0m\n",
      "\u001b[?25h  Downloading imageio-2.19.0-py3-none-any.whl (3.4 MB)\n",
      "\u001b[2K     \u001b[90m━━━━━━━━━━━━━━━━━━━━━━━━━━━━━━━━━━━━━━━━\u001b[0m \u001b[32m3.4/3.4 MB\u001b[0m \u001b[31m62.8 MB/s\u001b[0m eta \u001b[36m0:00:00\u001b[0m:00:01\u001b[0m\n",
      "\u001b[?25h  Downloading imageio-2.18.0-py3-none-any.whl (3.4 MB)\n",
      "\u001b[2K     \u001b[90m━━━━━━━━━━━━━━━━━━━━━━━━━━━━━━━━━━━━━━━━\u001b[0m \u001b[32m3.4/3.4 MB\u001b[0m \u001b[31m28.8 MB/s\u001b[0m eta \u001b[36m0:00:00\u001b[0m:00:01\u001b[0m\n",
      "\u001b[?25h  Downloading imageio-2.17.0-py3-none-any.whl (3.4 MB)\n",
      "\u001b[2K     \u001b[90m━━━━━━━━━━━━━━━━━━━━━━━━━━━━━━━━━━━━━━━━\u001b[0m \u001b[32m3.4/3.4 MB\u001b[0m \u001b[31m9.8 MB/s\u001b[0m eta \u001b[36m0:00:00\u001b[0m:00:01\u001b[0m:00:01\u001b[0m\n",
      "\u001b[?25h  Downloading imageio-2.16.2-py3-none-any.whl (3.3 MB)\n",
      "\u001b[2K     \u001b[90m━━━━━━━━━━━━━━━━━━━━━━━━━━━━━━━━━━━━━━━━\u001b[0m \u001b[32m3.3/3.3 MB\u001b[0m \u001b[31m12.3 MB/s\u001b[0m eta \u001b[36m0:00:00\u001b[0m00:01\u001b[0m00:01\u001b[0mm\n",
      "\u001b[?25h  Downloading imageio-2.16.1-py3-none-any.whl (3.3 MB)\n",
      "\u001b[2K     \u001b[90m━━━━━━━━━━━━━━━━━━━━━━━━━━━━━━━━━━━━━━━━\u001b[0m \u001b[32m3.3/3.3 MB\u001b[0m \u001b[31m15.4 MB/s\u001b[0m eta \u001b[36m0:00:00\u001b[0m:00:01\u001b[0m\n",
      "\u001b[?25h  Downloading imageio-2.15.0-py3-none-any.whl (3.3 MB)\n",
      "\u001b[2K     \u001b[90m━━━━━━━━━━━━━━━━━━━━━━━━━━━━━━━━━━━━━━━━\u001b[0m \u001b[32m3.3/3.3 MB\u001b[0m \u001b[31m10.1 MB/s\u001b[0m eta \u001b[36m0:00:00\u001b[0m:00:01\u001b[0m\n",
      "\u001b[?25h  Downloading imageio-2.14.1-py3-none-any.whl (3.3 MB)\n",
      "\u001b[2K     \u001b[90m━━━━━━━━━━━━━━━━━━━━━━━━━━━━━━━━━━━━━━━━\u001b[0m \u001b[32m3.3/3.3 MB\u001b[0m \u001b[31m8.5 MB/s\u001b[0m eta \u001b[36m0:00:00\u001b[0m:00:01\u001b[0m:00:01\u001b[0m\n",
      "\u001b[?25h  Downloading imageio-2.14.0-py3-none-any.whl (3.3 MB)\n",
      "\u001b[2K     \u001b[90m━━━━━━━━━━━━━━━━━━━━━━━━━━━━━━━━━━━━━━━━\u001b[0m \u001b[32m3.3/3.3 MB\u001b[0m \u001b[31m9.5 MB/s\u001b[0m eta \u001b[36m0:00:00\u001b[0m:00:01\u001b[0m:00:01\u001b[0m\n",
      "\u001b[?25h  Downloading imageio-2.13.5-py3-none-any.whl (3.3 MB)\n",
      "\u001b[2K     \u001b[90m━━━━━━━━━━━━━━━━━━━━━━━━━━━━━━━━━━━━━━━━\u001b[0m \u001b[32m3.3/3.3 MB\u001b[0m \u001b[31m11.1 MB/s\u001b[0m eta \u001b[36m0:00:00\u001b[0m:00:01\u001b[0m\n",
      "\u001b[?25h  Downloading imageio-2.13.4-py3-none-any.whl (3.3 MB)\n",
      "\u001b[2K     \u001b[90m━━━━━━━━━━━━━━━━━━━━━━━━━━━━━━━━━━━━━━━━\u001b[0m \u001b[32m3.3/3.3 MB\u001b[0m \u001b[31m10.0 MB/s\u001b[0m eta \u001b[36m0:00:00\u001b[0m00:01\u001b[0m00:01\u001b[0m\n",
      "\u001b[?25h  Downloading imageio-2.13.3-py3-none-any.whl (3.3 MB)\n",
      "\u001b[2K     \u001b[90m━━━━━━━━━━━━━━━━━━━━━━━━━━━━━━━━━━━━━━━━\u001b[0m \u001b[32m3.3/3.3 MB\u001b[0m \u001b[31m11.6 MB/s\u001b[0m eta \u001b[36m0:00:00\u001b[0m:00:01\u001b[0m\n",
      "\u001b[?25h  Downloading imageio-2.13.2-py3-none-any.whl (3.3 MB)\n",
      "\u001b[2K     \u001b[90m━━━━━━━━━━━━━━━━━━━━━━━━━━━━━━━━━━━━━━━━\u001b[0m \u001b[32m3.3/3.3 MB\u001b[0m \u001b[31m6.7 MB/s\u001b[0m eta \u001b[36m0:00:00\u001b[0m0:00:01\u001b[0m\n",
      "\u001b[?25h  Downloading imageio-2.13.1-py3-none-any.whl (3.3 MB)\n",
      "\u001b[2K     \u001b[90m━━━━━━━━━━━━━━━━━━━━━━━━━━━━━━━━━━━━━━━━\u001b[0m \u001b[32m3.3/3.3 MB\u001b[0m \u001b[31m15.4 MB/s\u001b[0m eta \u001b[36m0:00:00\u001b[0m:00:01\u001b[0m\n",
      "\u001b[?25h  Downloading imageio-2.13.0-py3-none-any.whl (3.3 MB)\n",
      "\u001b[2K     \u001b[90m━━━━━━━━━━━━━━━━━━━━━━━━━━━━━━━━━━━━━━━━\u001b[0m \u001b[32m3.3/3.3 MB\u001b[0m \u001b[31m10.8 MB/s\u001b[0m eta \u001b[36m0:00:00\u001b[0m:00:01\u001b[0m\n",
      "\u001b[?25h  Downloading imageio-2.12.0-py3-none-any.whl (3.3 MB)\n",
      "\u001b[2K     \u001b[90m━━━━━━━━━━━━━━━━━━━━━━━━━━━━━━━━━━━━━━━━\u001b[0m \u001b[32m3.3/3.3 MB\u001b[0m \u001b[31m9.7 MB/s\u001b[0m eta \u001b[36m0:00:00\u001b[0m0:00:01\u001b[0m\n",
      "\u001b[?25h  Downloading imageio-2.11.1-py3-none-any.whl (3.3 MB)\n",
      "\u001b[2K     \u001b[90m━━━━━━━━━━━━━━━━━━━━━━━━━━━━━━━━━━━━━━━━\u001b[0m \u001b[32m3.3/3.3 MB\u001b[0m \u001b[31m21.5 MB/s\u001b[0m eta \u001b[36m0:00:00\u001b[0m:00:01\u001b[0m\n",
      "\u001b[?25h  Downloading imageio-2.11.0-py3-none-any.whl (3.3 MB)\n",
      "\u001b[2K     \u001b[90m━━━━━━━━━━━━━━━━━━━━━━━━━━━━━━━━━━━━━━━━\u001b[0m \u001b[32m3.3/3.3 MB\u001b[0m \u001b[31m10.6 MB/s\u001b[0m eta \u001b[36m0:00:00\u001b[0m:00:01\u001b[0m\n",
      "\u001b[?25h  Downloading imageio-2.10.5-py3-none-any.whl (3.3 MB)\n",
      "\u001b[2K     \u001b[90m━━━━━━━━━━━━━━━━━━━━━━━━━━━━━━━━━━━━━━━━\u001b[0m \u001b[32m3.3/3.3 MB\u001b[0m \u001b[31m13.4 MB/s\u001b[0m eta \u001b[36m0:00:00\u001b[0m:00:01\u001b[0m\n",
      "\u001b[?25h  Downloading imageio-2.10.4-py3-none-any.whl (3.3 MB)\n",
      "\u001b[2K     \u001b[90m━━━━━━━━━━━━━━━━━━━━━━━━━━━━━━━━━━━━━━━━\u001b[0m \u001b[32m3.3/3.3 MB\u001b[0m \u001b[31m38.7 MB/s\u001b[0m eta \u001b[36m0:00:00\u001b[0m:00:01\u001b[0m\n",
      "\u001b[?25h  Downloading imageio-2.10.3-py3-none-any.whl (3.3 MB)\n",
      "\u001b[2K     \u001b[90m━━━━━━━━━━━━━━━━━━━━━━━━━━━━━━━━━━━━━━━━\u001b[0m \u001b[32m3.3/3.3 MB\u001b[0m \u001b[31m22.8 MB/s\u001b[0m eta \u001b[36m0:00:00\u001b[0m:00:01\u001b[0m\n",
      "\u001b[?25h  Downloading imageio-2.10.2-py3-none-any.whl (3.3 MB)\n",
      "\u001b[2K     \u001b[90m━━━━━━━━━━━━━━━━━━━━━━━━━━━━━━━━━━━━━━━━\u001b[0m \u001b[32m3.3/3.3 MB\u001b[0m \u001b[31m12.2 MB/s\u001b[0m eta \u001b[36m0:00:00\u001b[0m:00:01\u001b[0m\n",
      "\u001b[?25h  Downloading imageio-2.10.1-py3-none-any.whl (3.3 MB)\n",
      "\u001b[2K     \u001b[90m━━━━━━━━━━━━━━━━━━━━━━━━━━━━━━━━━━━━━━━━\u001b[0m \u001b[32m3.3/3.3 MB\u001b[0m \u001b[31m16.3 MB/s\u001b[0m eta \u001b[36m0:00:00\u001b[0m:00:01\u001b[0m\n",
      "\u001b[?25h  Downloading imageio-2.9.0-py3-none-any.whl (3.3 MB)\n",
      "\u001b[2K     \u001b[90m━━━━━━━━━━━━━━━━━━━━━━━━━━━━━━━━━━━━━━━━\u001b[0m \u001b[32m3.3/3.3 MB\u001b[0m \u001b[31m13.4 MB/s\u001b[0m eta \u001b[36m0:00:00\u001b[0m:00:01\u001b[0m\n",
      "\u001b[?25hRequirement already satisfied: parso<0.9.0,>=0.8.0 in /home/ec2-user/anaconda3/envs/JupyterSystemEnv/lib/python3.7/site-packages (from jedi>=0.10->IPython==7.9.0->-r requirements.txt (line 11)) (0.8.3)\n",
      "Collecting dill<0.3.5\n",
      "  Downloading dill-0.3.4-py2.py3-none-any.whl (86 kB)\n",
      "\u001b[2K     \u001b[90m━━━━━━━━━━━━━━━━━━━━━━━━━━━━━━━━━━━━━━━━\u001b[0m \u001b[32m86.9/86.9 kB\u001b[0m \u001b[31m2.9 MB/s\u001b[0m eta \u001b[36m0:00:00\u001b[0m\n",
      "\u001b[?25hCollecting seqeval\n",
      "  Downloading seqeval-1.2.2.tar.gz (43 kB)\n",
      "\u001b[2K     \u001b[90m━━━━━━━━━━━━━━━━━━━━━━━━━━━━━━━━━━━━━━━\u001b[0m \u001b[32m43.6/43.6 kB\u001b[0m \u001b[31m521.2 kB/s\u001b[0m eta \u001b[36m0:00:00\u001b[0ma \u001b[36m0:00:01\u001b[0m\n",
      "\u001b[?25h  Preparing metadata (setup.py) ... \u001b[?25ldone\n",
      "\u001b[?25hCollecting datasets>=2.0.0\n",
      "  Downloading datasets-2.8.0-py3-none-any.whl (452 kB)\n",
      "\u001b[2K     \u001b[90m━━━━━━━━━━━━━━━━━━━━━━━━━━━━━━━━━━━━━━━\u001b[0m \u001b[32m452.9/452.9 kB\u001b[0m \u001b[31m7.4 MB/s\u001b[0m eta \u001b[36m0:00:00\u001b[0m00:01\u001b[0m\n",
      "\u001b[?25hCollecting sentencepiece\n",
      "  Downloading sentencepiece-0.1.97-cp37-cp37m-manylinux_2_17_x86_64.manylinux2014_x86_64.whl (1.3 MB)\n",
      "\u001b[2K     \u001b[90m━━━━━━━━━━━━━━━━━━━━━━━━━━━━━━━━━━━━━━━━\u001b[0m \u001b[32m1.3/1.3 MB\u001b[0m \u001b[31m21.1 MB/s\u001b[0m eta \u001b[36m0:00:00\u001b[0m:00:01\u001b[0m\n",
      "\u001b[?25hCollecting typer\n",
      "  Downloading typer-0.7.0-py3-none-any.whl (38 kB)\n",
      "Collecting rich\n",
      "  Downloading rich-13.0.1-py3-none-any.whl (238 kB)\n",
      "\u001b[2K     \u001b[90m━━━━━━━━━━━━━━━━━━━━━━━━━━━━━━━━━━━━━━━\u001b[0m \u001b[32m238.1/238.1 kB\u001b[0m \u001b[31m3.6 MB/s\u001b[0m eta \u001b[36m0:00:00\u001b[0m00:01\u001b[0m\n",
      "\u001b[?25hCollecting multiprocess<=0.70.12.2\n",
      "  Downloading multiprocess-0.70.12.2-py37-none-any.whl (112 kB)\n",
      "\u001b[2K     \u001b[90m━━━━━━━━━━━━━━━━━━━━━━━━━━━━━━━━━━━━━━━\u001b[0m \u001b[32m112.1/112.1 kB\u001b[0m \u001b[31m5.2 MB/s\u001b[0m eta \u001b[36m0:00:00\u001b[0m\n",
      "\u001b[?25hCollecting jieba\n",
      "  Downloading jieba-0.42.1.tar.gz (19.2 MB)\n",
      "\u001b[2K     \u001b[90m━━━━━━━━━━━━━━━━━━━━━━━━━━━━━━━━━━━━━━━━\u001b[0m \u001b[32m19.2/19.2 MB\u001b[0m \u001b[31m7.5 MB/s\u001b[0m eta \u001b[36m0:00:00\u001b[0m:00:01\u001b[0m00:01\u001b[0m\n",
      "\u001b[?25h  Preparing metadata (setup.py) ... \u001b[?25ldone\n",
      "\u001b[?25hCollecting paddlefsl\n",
      "  Downloading paddlefsl-1.1.0-py3-none-any.whl (101 kB)\n",
      "\u001b[2K     \u001b[90m━━━━━━━━━━━━━━━━━━━━━━━━━━━━━━━━━━━━━━━\u001b[0m \u001b[32m101.0/101.0 kB\u001b[0m \u001b[31m2.2 MB/s\u001b[0m eta \u001b[36m0:00:00\u001b[0ma \u001b[36m0:00:01\u001b[0m\n",
      "\u001b[?25hCollecting huggingface-hub>=0.11.1\n",
      "  Downloading huggingface_hub-0.11.1-py3-none-any.whl (182 kB)\n",
      "\u001b[2K     \u001b[90m━━━━━━━━━━━━━━━━━━━━━━━━━━━━━━━━━━━━━━━\u001b[0m \u001b[32m182.4/182.4 kB\u001b[0m \u001b[31m2.8 MB/s\u001b[0m eta \u001b[36m0:00:00\u001b[0ma \u001b[36m0:00:01\u001b[0m\n",
      "\u001b[?25hRequirement already satisfied: wcwidth in /home/ec2-user/anaconda3/envs/JupyterSystemEnv/lib/python3.7/site-packages (from prompt-toolkit<2.1.0,>=2.0.0->IPython==7.9.0->-r requirements.txt (line 11)) (0.2.5)\n",
      "Collecting bce-python-sdk\n",
      "  Downloading bce_python_sdk-0.8.74-py3-none-any.whl (204 kB)\n",
      "\u001b[2K     \u001b[90m━━━━━━━━━━━━━━━━━━━━━━━━━━━━━━━━━━━━━━━\u001b[0m \u001b[32m204.6/204.6 kB\u001b[0m \u001b[31m6.3 MB/s\u001b[0m eta \u001b[36m0:00:00\u001b[0m\n",
      "\u001b[?25hCollecting Flask-Babel>=1.0.0\n",
      "  Downloading Flask_Babel-2.0.0-py3-none-any.whl (9.3 kB)\n",
      "Requirement already satisfied: yarl<2.0,>=1.0 in /home/ec2-user/anaconda3/envs/JupyterSystemEnv/lib/python3.7/site-packages (from aiohttp->gradio->-r requirements.txt (line 16)) (1.7.2)\n",
      "Requirement already satisfied: multidict<7.0,>=4.5 in /home/ec2-user/anaconda3/envs/JupyterSystemEnv/lib/python3.7/site-packages (from aiohttp->gradio->-r requirements.txt (line 16)) (5.1.0)\n",
      "Requirement already satisfied: chardet<4.0,>=2.0 in /home/ec2-user/anaconda3/envs/JupyterSystemEnv/lib/python3.7/site-packages (from aiohttp->gradio->-r requirements.txt (line 16)) (3.0.4)\n",
      "Requirement already satisfied: async-timeout<4.0,>=3.0 in /home/ec2-user/anaconda3/envs/JupyterSystemEnv/lib/python3.7/site-packages (from aiohttp->gradio->-r requirements.txt (line 16)) (3.0.1)\n",
      "Requirement already satisfied: soupsieve>1.2 in /home/ec2-user/anaconda3/envs/JupyterSystemEnv/lib/python3.7/site-packages (from beautifulsoup4->gdown==4.4.0->-r requirements.txt (line 8)) (2.3.2.post1)\n",
      "Collecting starlette==0.22.0\n",
      "  Downloading starlette-0.22.0-py3-none-any.whl (64 kB)\n",
      "\u001b[2K     \u001b[90m━━━━━━━━━━━━━━━━━━━━━━━━━━━━━━━━━━━━━━━━\u001b[0m \u001b[32m64.3/64.3 kB\u001b[0m \u001b[31m2.4 MB/s\u001b[0m eta \u001b[36m0:00:00\u001b[0m\n",
      "\u001b[?25hRequirement already satisfied: anyio<5,>=3.4.0 in /home/ec2-user/anaconda3/envs/JupyterSystemEnv/lib/python3.7/site-packages (from starlette==0.22.0->fastapi->gradio->-r requirements.txt (line 16)) (3.6.2)\n",
      "Collecting httpcore<0.17.0,>=0.15.0\n",
      "  Downloading httpcore-0.16.3-py3-none-any.whl (69 kB)\n",
      "\u001b[2K     \u001b[90m━━━━━━━━━━━━━━━━━━━━━━━━━━━━━━━━━━━━━━━━\u001b[0m \u001b[32m69.6/69.6 kB\u001b[0m \u001b[31m14.6 MB/s\u001b[0m eta \u001b[36m0:00:00\u001b[0m\n",
      "\u001b[?25hRequirement already satisfied: sniffio in /home/ec2-user/anaconda3/envs/JupyterSystemEnv/lib/python3.7/site-packages (from httpx->gradio->-r requirements.txt (line 16)) (1.3.0)\n",
      "Collecting rfc3986[idna2008]<2,>=1.3\n",
      "  Downloading rfc3986-1.5.0-py2.py3-none-any.whl (31 kB)\n",
      "Collecting mdurl~=0.1\n",
      "  Downloading mdurl-0.1.2-py3-none-any.whl (10.0 kB)\n",
      "Collecting mdit-py-plugins\n",
      "  Downloading mdit_py_plugins-0.3.3-py3-none-any.whl (50 kB)\n",
      "\u001b[2K     \u001b[90m━━━━━━━━━━━━━━━━━━━━━━━━━━━━━━━━━━━━━━━━\u001b[0m \u001b[32m50.5/50.5 kB\u001b[0m \u001b[31m2.9 MB/s\u001b[0m eta \u001b[36m0:00:00\u001b[0m\n",
      "\u001b[?25hCollecting linkify-it-py~=1.0\n",
      "  Downloading linkify_it_py-1.0.3-py3-none-any.whl (19 kB)\n",
      "Requirement already satisfied: ptyprocess>=0.5 in /home/ec2-user/anaconda3/envs/JupyterSystemEnv/lib/python3.7/site-packages (from pexpect->IPython==7.9.0->-r requirements.txt (line 11)) (0.7.0)\n",
      "Requirement already satisfied: PySocks!=1.5.7,>=1.5.6 in /home/ec2-user/anaconda3/envs/JupyterSystemEnv/lib/python3.7/site-packages (from requests->-r requirements.txt (line 19)) (1.7.1)\n",
      "Collecting h11>=0.8\n",
      "  Downloading h11-0.14.0-py3-none-any.whl (58 kB)\n",
      "\u001b[2K     \u001b[90m━━━━━━━━━━━━━━━━━━━━━━━━━━━━━━━━━━━━━━━━\u001b[0m \u001b[32m58.3/58.3 kB\u001b[0m \u001b[31m1.3 MB/s\u001b[0m eta \u001b[36m0:00:00\u001b[0mta \u001b[36m0:00:01\u001b[0m\n",
      "\u001b[?25hCollecting xxhash\n",
      "  Downloading xxhash-3.2.0-cp37-cp37m-manylinux_2_17_x86_64.manylinux2014_x86_64.whl (213 kB)\n",
      "\u001b[2K     \u001b[90m━━━━━━━━━━━━━━━━━━━━━━━━━━━━━━━━━━━━━━━\u001b[0m \u001b[32m213.1/213.1 kB\u001b[0m \u001b[31m2.2 MB/s\u001b[0m eta \u001b[36m0:00:00\u001b[0ma \u001b[36m0:00:01\u001b[0m\n",
      "\u001b[?25hCollecting responses<0.19\n",
      "  Downloading responses-0.18.0-py3-none-any.whl (38 kB)\n",
      "Collecting pyarrow>=6.0.0\n",
      "  Downloading pyarrow-10.0.1-cp37-cp37m-manylinux_2_17_x86_64.manylinux2014_x86_64.whl (36.0 MB)\n",
      "\u001b[2K     \u001b[90m━━━━━━━━━━━━━━━━━━━━━━━━━━━━━━━━━━━━━━━━\u001b[0m \u001b[32m36.0/36.0 MB\u001b[0m \u001b[31m5.3 MB/s\u001b[0m eta \u001b[36m0:00:00\u001b[0m:00:01\u001b[0m00:01\u001b[0m\n",
      "\u001b[?25hRequirement already satisfied: Babel>=2.3 in /home/ec2-user/anaconda3/envs/JupyterSystemEnv/lib/python3.7/site-packages (from Flask-Babel>=1.0.0->visualdl>=2.0.0->paddlehub->-r requirements.txt (line 15)) (2.11.0)\n",
      "Requirement already satisfied: zipp>=0.5 in /home/ec2-user/anaconda3/envs/JupyterSystemEnv/lib/python3.7/site-packages (from importlib-metadata>=3.6.0->flask>=1.1.0->paddlehub->-r requirements.txt (line 15)) (3.11.0)\n",
      "Requirement already satisfied: pyrsistent>=0.14.0 in /home/ec2-user/anaconda3/envs/JupyterSystemEnv/lib/python3.7/site-packages (from jsonschema>=3.0->altair>=4.2.0->gradio->-r requirements.txt (line 16)) (0.18.1)\n",
      "Collecting uc-micro-py\n",
      "  Downloading uc_micro_py-1.0.1-py3-none-any.whl (6.2 kB)\n",
      "Collecting future>=0.6.0\n",
      "  Downloading future-0.18.2.tar.gz (829 kB)\n",
      "\u001b[2K     \u001b[90m━━━━━━━━━━━━━━━━━━━━━━━━━━━━━━━━━━━━━━\u001b[0m \u001b[32m829.2/829.2 kB\u001b[0m \u001b[31m31.7 MB/s\u001b[0m eta \u001b[36m0:00:00\u001b[0m\n",
      "\u001b[?25h  Preparing metadata (setup.py) ... \u001b[?25ldone\n",
      "\u001b[?25hCollecting commonmark<0.10.0,>=0.9.0\n",
      "  Downloading commonmark-0.9.1-py2.py3-none-any.whl (51 kB)\n",
      "\u001b[2K     \u001b[90m━━━━━━━━━━━━━━━━━━━━━━━━━━━━━━━━━━━━━━━\u001b[0m \u001b[32m51.1/51.1 kB\u001b[0m \u001b[31m898.2 kB/s\u001b[0m eta \u001b[36m0:00:00\u001b[0ma \u001b[36m0:00:01\u001b[0m\n",
      "\u001b[?25hCollecting scikit-learn>=0.21.3\n",
      "  Downloading scikit_learn-1.0.2-cp37-cp37m-manylinux_2_17_x86_64.manylinux2014_x86_64.whl (24.8 MB)\n",
      "\u001b[2K     \u001b[90m━━━━━━━━━━━━━━━━━━━━━━━━━━━━━━━━━━━━━━━━\u001b[0m \u001b[32m24.8/24.8 MB\u001b[0m \u001b[31m14.9 MB/s\u001b[0m eta \u001b[36m0:00:00\u001b[0m00:01\u001b[0m00:01\u001b[0m\n",
      "\u001b[?25hCollecting threadpoolctl>=2.0.0\n",
      "  Downloading threadpoolctl-3.1.0-py3-none-any.whl (14 kB)\n",
      "Collecting joblib>=0.11\n",
      "  Downloading joblib-1.2.0-py3-none-any.whl (297 kB)\n",
      "\u001b[2K     \u001b[90m━━━━━━━━━━━━━━━━━━━━━━━━━━━━━━━━━━━━━━━\u001b[0m \u001b[32m298.0/298.0 kB\u001b[0m \u001b[31m2.9 MB/s\u001b[0m eta \u001b[36m0:00:00\u001b[0m00:01\u001b[0m\n",
      "\u001b[?25hBuilding wheels for collected packages: gdown, ipdb, easydict, ffmpy, python-multipart, jieba, seqeval, future\n",
      "  Building wheel for gdown (pyproject.toml) ... \u001b[?25ldone\n",
      "\u001b[?25h  Created wheel for gdown: filename=gdown-4.4.0-py3-none-any.whl size=14759 sha256=0350fda745da5039011e035fdea0d5c244c1db1df7cde53e9a69ea6f7565c928\n",
      "  Stored in directory: /home/ec2-user/.cache/pip/wheels/aa/e4/34/d4a9b76320fabd95e9619f4f491351e445377507e9d8f60a7b\n",
      "  Building wheel for ipdb (setup.py) ... \u001b[?25ldone\n",
      "\u001b[?25h  Created wheel for ipdb: filename=ipdb-0.13.4-py3-none-any.whl size=10979 sha256=d395f2a1494f39b832078ce8d07d2a06c7fe89b062d3f4e63c2881364e148206\n",
      "  Stored in directory: /home/ec2-user/.cache/pip/wheels/38/a3/38/7d70fc10160b2335414766ccfdd2a196edf30e22dcd3cc5078\n",
      "  Building wheel for easydict (setup.py) ... \u001b[?25ldone\n",
      "\u001b[?25h  Created wheel for easydict: filename=easydict-1.10-py3-none-any.whl size=6492 sha256=720422d4b61da055924feac91d2c0ad0e4d1a951fccac813332237d3ef657477\n",
      "  Stored in directory: /home/ec2-user/.cache/pip/wheels/b2/1b/d3/f62c62ef34ada48875060505e5087884443bacc9ac21338bb8\n",
      "  Building wheel for ffmpy (setup.py) ... \u001b[?25ldone\n",
      "\u001b[?25h  Created wheel for ffmpy: filename=ffmpy-0.3.0-py3-none-any.whl size=4693 sha256=90f1b85d03d1953ce1ce4f348be51ee507f05ebfe4096ca3fbd5a172c52be1f2\n",
      "  Stored in directory: /home/ec2-user/.cache/pip/wheels/c0/96/80/1aeaaf27265398a7393b296714b84e51a7d00101f8a665a25a\n",
      "  Building wheel for python-multipart (setup.py) ... \u001b[?25ldone\n",
      "\u001b[?25h  Created wheel for python-multipart: filename=python_multipart-0.0.5-py3-none-any.whl size=31670 sha256=a8ae346ece3ffcb79c0bb1b261cbdb33aa60b318d0c56efe4671f096d83f8cc6\n",
      "  Stored in directory: /home/ec2-user/.cache/pip/wheels/7b/24/20/55941b99a69639d6e3a3bce7d2d7b6a2d633f05125042a544a\n",
      "  Building wheel for jieba (setup.py) ... \u001b[?25ldone\n",
      "\u001b[?25h  Created wheel for jieba: filename=jieba-0.42.1-py3-none-any.whl size=19314458 sha256=cf3d4db54dd8a568ba5fc9a563da1c3da9a79a12b972062c9d5257e8f1d048db\n",
      "  Stored in directory: /home/ec2-user/.cache/pip/wheels/db/52/18/8bcb952dbe08a07ad986c94a1ccca7d5cdd02746bd60d3e846\n",
      "  Building wheel for seqeval (setup.py) ... \u001b[?25ldone\n",
      "\u001b[?25h  Created wheel for seqeval: filename=seqeval-1.2.2-py3-none-any.whl size=16164 sha256=4d4a7e0caa32cc6ef3aebc0b5a9f02c73bf8c7befd57ceb9f65fe523080d5756\n",
      "  Stored in directory: /home/ec2-user/.cache/pip/wheels/b2/a1/b7/0d3b008d0c77cd57332d724b92cf7650b4185b493dc785f00a\n",
      "  Building wheel for future (setup.py) ... \u001b[?25ldone\n",
      "\u001b[?25h  Created wheel for future: filename=future-0.18.2-py3-none-any.whl size=491059 sha256=683f89bd505fa2c63a85d76fca4e502fd8173cb6fcf8dca9f7a24e16a0be4d5f\n",
      "  Stored in directory: /home/ec2-user/.cache/pip/wheels/3e/3c/b4/7132d27620dd551cf00823f798a7190e7320ae7ffb71d1e989\n",
      "Successfully built gdown ipdb easydict ffmpy python-multipart jieba seqeval future\n",
      "Installing collected packages: sentencepiece, rfc3986, rarfile, pydub, paddle2onnx, paddle-bfloat, ninja, jieba, flatbuffers, ffmpy, easydict, commonmark, xxhash, Werkzeug, websockets, uc-micro-py, tqdm, toolz, tifffile, threadpoolctl, scipy, rich, PyWavelets, python-multipart, pyparsing, pydantic, pycryptodome, pyarrow, protobuf, prompt-toolkit, pillow, orjson, opt-einsum, opencv-python, opencv-contrib-python, nvidia-cuda-runtime-cu11, nvidia-cuda-nvrtc-cu11, nvidia-cublas-cu11, networkx, mdurl, kiwisolver, joblib, itsdangerous, h11, gunicorn, future, fonttools, filelock, dill, cython, cycler, colorlog, astor, absl-py, tensorboardX, starlette, scikit-learn, responses, paddlepaddle, paddlefsl, nvidia-cudnn-cu11, multiprocess, matplotlib, markdown-it-py, linkify-it-py, IPython, imageio, huggingface-hub, httpcore, click, bce-python-sdk, uvicorn, typer, torch, seqeval, scikit-image, mediapipe, mdit-py-plugins, ipdb, httpx, gdown, flask, fastapi, altair, torchvision, Flask-Babel, datasets, visualdl, gradio, paddlenlp, paddlehub\n",
      "  Attempting uninstall: protobuf\n",
      "    Found existing installation: protobuf 3.20.3\n",
      "    Uninstalling protobuf-3.20.3:\n",
      "      Successfully uninstalled protobuf-3.20.3\n",
      "  Attempting uninstall: prompt-toolkit\n",
      "    Found existing installation: prompt-toolkit 3.0.36\n",
      "    Uninstalling prompt-toolkit-3.0.36:\n",
      "      Successfully uninstalled prompt-toolkit-3.0.36\n",
      "  Attempting uninstall: dill\n",
      "    Found existing installation: dill 0.3.6\n",
      "    Uninstalling dill-0.3.6:\n",
      "      Successfully uninstalled dill-0.3.6\n",
      "  Attempting uninstall: multiprocess\n",
      "    Found existing installation: multiprocess 0.70.14\n",
      "    Uninstalling multiprocess-0.70.14:\n",
      "      Successfully uninstalled multiprocess-0.70.14\n",
      "  Attempting uninstall: IPython\n",
      "    Found existing installation: ipython 7.33.0\n",
      "    Uninstalling ipython-7.33.0:\n",
      "      Successfully uninstalled ipython-7.33.0\n",
      "\u001b[31mERROR: pip's dependency resolver does not currently take into account all the packages that are installed. This behaviour is the source of the following dependency conflicts.\n",
      "sparkmagic 0.20.3 requires nest-asyncio==1.5.5, but you have nest-asyncio 1.5.6 which is incompatible.\n",
      "pathos 0.3.0 requires dill>=0.3.6, but you have dill 0.3.4 which is incompatible.\n",
      "pathos 0.3.0 requires multiprocess>=0.70.14, but you have multiprocess 0.70.12.2 which is incompatible.\n",
      "jupyter-console 6.4.4 requires jupyter-client>=7.0.0, but you have jupyter-client 6.1.12 which is incompatible.\u001b[0m\u001b[31m\n",
      "\u001b[0mSuccessfully installed Flask-Babel-2.0.0 IPython-7.9.0 PyWavelets-1.3.0 Werkzeug-2.2.2 absl-py-1.4.0 altair-4.2.0 astor-0.8.1 bce-python-sdk-0.8.74 click-8.1.3 colorlog-6.7.0 commonmark-0.9.1 cycler-0.11.0 cython-0.29.33 datasets-2.8.0 dill-0.3.4 easydict-1.10 fastapi-0.89.1 ffmpy-0.3.0 filelock-3.9.0 flask-2.2.2 flatbuffers-23.1.4 fonttools-4.38.0 future-0.18.2 gdown-4.4.0 gradio-3.16.1 gunicorn-20.1.0 h11-0.14.0 httpcore-0.16.3 httpx-0.23.3 huggingface-hub-0.11.1 imageio-2.9.0 ipdb-0.13.4 itsdangerous-2.1.2 jieba-0.42.1 joblib-1.2.0 kiwisolver-1.4.4 linkify-it-py-1.0.3 markdown-it-py-2.1.0 matplotlib-3.5.3 mdit-py-plugins-0.3.3 mdurl-0.1.2 mediapipe-0.9.0.1 multiprocess-0.70.12.2 networkx-2.6.3 ninja-1.11.1 nvidia-cublas-cu11-11.10.3.66 nvidia-cuda-nvrtc-cu11-11.7.99 nvidia-cuda-runtime-cu11-11.7.99 nvidia-cudnn-cu11-8.5.0.96 opencv-contrib-python-4.7.0.68 opencv-python-4.6.0.66 opt-einsum-3.3.0 orjson-3.8.5 paddle-bfloat-0.1.7 paddle2onnx-1.0.5 paddlefsl-1.1.0 paddlehub-2.3.1 paddlenlp-2.4.9 paddlepaddle-2.4.1 pillow-8.1.2 prompt-toolkit-2.0.10 protobuf-3.20.0 pyarrow-10.0.1 pycryptodome-3.16.0 pydantic-1.10.4 pydub-0.25.1 pyparsing-3.0.9 python-multipart-0.0.5 rarfile-4.0 responses-0.18.0 rfc3986-1.5.0 rich-13.0.1 scikit-image-0.19.3 scikit-learn-1.0.2 scipy-1.7.3 sentencepiece-0.1.97 seqeval-1.2.2 starlette-0.22.0 tensorboardX-2.5.1 threadpoolctl-3.1.0 tifffile-2021.11.2 toolz-0.12.0 torch-1.13.1 torchvision-0.14.1 tqdm-4.64.1 typer-0.7.0 uc-micro-py-1.0.1 uvicorn-0.20.0 visualdl-2.4.2 websockets-10.4 xxhash-3.2.0\n"
     ]
    }
   ],
   "source": [
    "\"\"\"Installing requirements\"\"\"\n",
    "!pip install -r requirements.txt"
   ]
  },
  {
   "cell_type": "code",
   "execution_count": 4,
   "id": "b1e9b798-22ae-4465-b09e-05591b9591e4",
   "metadata": {
    "tags": []
   },
   "outputs": [
    {
     "name": "stdout",
     "output_type": "stream",
     "text": [
      "Looking in indexes: https://pypi.org/simple, https://pip.repos.neuron.amazonaws.com\n",
      "Collecting gdown\n",
      "  Downloading gdown-4.6.0-py3-none-any.whl (14 kB)\n",
      "Requirement already satisfied: six in /home/ec2-user/anaconda3/envs/JupyterSystemEnv/lib/python3.7/site-packages (from gdown) (1.16.0)\n",
      "Collecting tqdm\n",
      "  Downloading tqdm-4.64.1-py2.py3-none-any.whl (78 kB)\n",
      "\u001b[2K     \u001b[90m━━━━━━━━━━━━━━━━━━━━━━━━━━━━━━━━━━━━━━━━\u001b[0m \u001b[32m78.5/78.5 kB\u001b[0m \u001b[31m43.4 MB/s\u001b[0m eta \u001b[36m0:00:00\u001b[0m\n",
      "\u001b[?25hCollecting filelock\n",
      "  Downloading filelock-3.9.0-py3-none-any.whl (9.7 kB)\n",
      "Requirement already satisfied: beautifulsoup4 in /home/ec2-user/anaconda3/envs/JupyterSystemEnv/lib/python3.7/site-packages (from gdown) (4.11.1)\n",
      "Requirement already satisfied: requests[socks] in /home/ec2-user/anaconda3/envs/JupyterSystemEnv/lib/python3.7/site-packages (from gdown) (2.28.1)\n",
      "Requirement already satisfied: soupsieve>1.2 in /home/ec2-user/anaconda3/envs/JupyterSystemEnv/lib/python3.7/site-packages (from beautifulsoup4->gdown) (2.3.2.post1)\n",
      "Requirement already satisfied: charset-normalizer<3,>=2 in /home/ec2-user/anaconda3/envs/JupyterSystemEnv/lib/python3.7/site-packages (from requests[socks]->gdown) (2.1.1)\n",
      "Requirement already satisfied: urllib3<1.27,>=1.21.1 in /home/ec2-user/anaconda3/envs/JupyterSystemEnv/lib/python3.7/site-packages (from requests[socks]->gdown) (1.26.8)\n",
      "Requirement already satisfied: certifi>=2017.4.17 in /home/ec2-user/anaconda3/envs/JupyterSystemEnv/lib/python3.7/site-packages (from requests[socks]->gdown) (2022.12.7)\n",
      "Requirement already satisfied: idna<4,>=2.5 in /home/ec2-user/anaconda3/envs/JupyterSystemEnv/lib/python3.7/site-packages (from requests[socks]->gdown) (3.4)\n",
      "Requirement already satisfied: PySocks!=1.5.7,>=1.5.6 in /home/ec2-user/anaconda3/envs/JupyterSystemEnv/lib/python3.7/site-packages (from requests[socks]->gdown) (1.7.1)\n",
      "Installing collected packages: tqdm, filelock, gdown\n",
      "Successfully installed filelock-3.9.0 gdown-4.6.0 tqdm-4.64.1\n"
     ]
    }
   ],
   "source": [
    "\"\"\"In case of gdown issues\"\"\"\n",
    "!pip install --upgrade --no-cache-dir gdown"
   ]
  },
  {
   "cell_type": "code",
   "execution_count": 13,
   "id": "94706a0d-9a14-4758-be44-eea05ae7551c",
   "metadata": {},
   "outputs": [
    {
     "name": "stdout",
     "output_type": "stream",
     "text": [
      "Cloning into 'U-2-Net'...\n",
      "remote: Enumerating objects: 520, done.\u001b[K\n",
      "remote: Total 520 (delta 0), reused 0 (delta 0), pack-reused 520\u001b[K\n",
      "Receiving objects: 100% (520/520), 12.39 MiB | 56.12 MiB/s, done.\n",
      "Resolving deltas: 100% (236/236), done.\n"
     ]
    }
   ],
   "source": [
    "\"\"\" Clone ackground removal code \"\"\"\n",
    "!git clone https://github.com/shreyas-bk/U-2-Net"
   ]
  },
  {
   "cell_type": "code",
   "execution_count": 17,
   "id": "a9d8836d-e435-42c8-bfe0-e2dcd6c5dfa1",
   "metadata": {},
   "outputs": [
    {
     "name": "stdout",
     "output_type": "stream",
     "text": [
      "/home/ec2-user/SageMaker/code\n",
      "/home/ec2-user/SageMaker/code\n"
     ]
    }
   ],
   "source": [
    "%cd code\n",
    "!pwd"
   ]
  },
  {
   "cell_type": "code",
   "execution_count": 5,
   "id": "9cdf58e9-32a2-4bd3-8aa9-152372d42bce",
   "metadata": {
    "tags": []
   },
   "outputs": [
    {
     "name": "stdout",
     "output_type": "stream",
     "text": [
      "/home/ec2-user/SageMaker/code/pose\n",
      "/home/ec2-user/anaconda3/envs/JupyterSystemEnv/lib/python3.7/site-packages/gdown/cli.py:125: FutureWarning: Option `--id` was deprecated in version 4.3.1 and will be removed in 5.0. You don't need to pass it anymore to use a file ID.\n",
      "  category=FutureWarning,\n",
      "Downloading...\n",
      "From: https://drive.google.com/uc?id=1hOHMFHEjhoJuLEQY0Ndurn5hfiA9mwko\n",
      "To: /home/ec2-user/SageMaker/code/pose/pose_iter_440000.caffemodel\n",
      "100%|████████████████████████████████████████| 209M/209M [00:03<00:00, 64.8MB/s]\n",
      "/home/ec2-user/SageMaker/code\n"
     ]
    }
   ],
   "source": [
    "\"\"\"Downloading caffe model for pose\"\"\"\n",
    "%cd pose\n",
    "!gdown --id 1hOHMFHEjhoJuLEQY0Ndurn5hfiA9mwko\n",
    "%cd .."
   ]
  },
  {
   "cell_type": "code",
   "execution_count": 6,
   "id": "ff963fb3-6b31-4c18-a573-2d6aa872b556",
   "metadata": {
    "tags": []
   },
   "outputs": [
    {
     "name": "stdout",
     "output_type": "stream",
     "text": [
      "fatal: destination path 'Self-Correction-Human-Parsing-for-ACGPN' already exists and is not an empty directory.\n",
      "Cloning into 'U-2-Net'...\n",
      "remote: Enumerating objects: 822, done.\u001b[K\n",
      "remote: Total 822 (delta 0), reused 0 (delta 0), pack-reused 822\u001b[K\n",
      "Receiving objects: 100% (822/822), 30.72 MiB | 61.08 MiB/s, done.\n",
      "Resolving deltas: 100% (379/379), done.\n"
     ]
    }
   ],
   "source": [
    "\"\"\"Downloading 2 ML models' git repositories that assisst in creating virtual try-on images\"\"\"\n",
    "!git clone https://github.com/levindabhi/Self-Correction-Human-Parsing-for-ACGPN\n",
    "!git clone https://github.com/levindabhi/U-2-Net.git"
   ]
  },
  {
   "cell_type": "code",
   "execution_count": 10,
   "id": "00ce8fa7-cfd4-4967-a761-606377d88a18",
   "metadata": {},
   "outputs": [
    {
     "name": "stdout",
     "output_type": "stream",
     "text": [
      "/home/ec2-user/anaconda3/envs/JupyterSystemEnv/lib/python3.7/site-packages/gdown/cli.py:125: FutureWarning: Option `--id` was deprecated in version 4.3.1 and will be removed in 5.0. You don't need to pass it anymore to use a file ID.\n",
      "  category=FutureWarning,\n",
      "Downloading...\n",
      "From: https://drive.google.com/uc?id=1k4dllHpu0bdx38J7H28rVVLpU-kOHmnH\n",
      "To: /home/ec2-user/SageMaker/code/exp-schp-201908261155-lip.pth\n",
      "100%|█████████████████████████████████████████| 267M/267M [00:00<00:00, 269MB/s]\n"
     ]
    }
   ],
   "source": [
    "\"\"\"Pretrained model for segmentation mask generation - lip_final.pth\"\"\" \n",
    "!gdown --id 1k4dllHpu0bdx38J7H28rVVLpU-kOHmnH  \n"
   ]
  },
  {
   "cell_type": "code",
   "execution_count": 9,
   "id": "04422dad-9937-4e4f-9a23-a8de5355ca7c",
   "metadata": {
    "tags": []
   },
   "outputs": [
    {
     "ename": "ModuleNotFoundError",
     "evalue": "No module named 'gdown'",
     "output_type": "error",
     "traceback": [
      "\u001b[0;31m---------------------------------------------------------------------------\u001b[0m",
      "\u001b[0;31mModuleNotFoundError\u001b[0m                       Traceback (most recent call last)",
      "Cell \u001b[0;32mIn [9], line 2\u001b[0m\n\u001b[1;32m      1\u001b[0m \u001b[38;5;124;03m\"\"\"Pretrained model for segmentation mask generation\"\"\"\u001b[39;00m\n\u001b[0;32m----> 2\u001b[0m \u001b[38;5;28;01mimport\u001b[39;00m \u001b[38;5;21;01mgdown\u001b[39;00m\n\u001b[1;32m      3\u001b[0m url \u001b[38;5;241m=\u001b[39m \u001b[38;5;124m'\u001b[39m\u001b[38;5;124mhttps://drive.google.com/uc?id=1k4dllHpu0bdx38J7H28rVVLpU-kOHmnH\u001b[39m\u001b[38;5;124m'\u001b[39m\n\u001b[1;32m      4\u001b[0m output \u001b[38;5;241m=\u001b[39m \u001b[38;5;124m'\u001b[39m\u001b[38;5;124mlip_final.pth\u001b[39m\u001b[38;5;124m'\u001b[39m\n",
      "\u001b[0;31mModuleNotFoundError\u001b[0m: No module named 'gdown'"
     ]
    }
   ],
   "source": [
    "\"\"\"Pretrained model for segmentation mask generation\"\"\"\n",
    "import gdown\n",
    "url = 'https://drive.google.com/uc?id=1k4dllHpu0bdx38J7H28rVVLpU-kOHmnH'\n",
    "output = 'lip_final.pth'\n",
    "gdown.download(url, output, quiet=False)"
   ]
  },
  {
   "cell_type": "code",
   "execution_count": null,
   "id": "81bf926a-f389-4d0c-9ff0-fa0f7588ab64",
   "metadata": {
    "tags": []
   },
   "outputs": [],
   "source": [
    "\"\"\"Adding pretrained models in respective directories\"\"\"\n",
    "%cd U2Net\n",
    "!mkdir saved_models\n",
    "!mkdir saved_models/u2net\n",
    "!mkdir saved_models/u2netp\n",
    "\n",
    "gdown.download('https://drive.google.com/uc?id=1ao1ovG1Qtx4b7EoskHXmi2E9rp5CHLcZ&confirm=t', 'saved_models/u2net/u2net.pth', quiet=False)\n",
    "gdown.download('https://drive.google.com/uc?id=1rbSTGKAE-MTxBYHd-51l2hMOQPT_7EPy&confirm=t', 'saved_models/u2netp/u2netp.pth', quiet=False)"
   ]
  },
  {
   "cell_type": "code",
   "execution_count": 21,
   "id": "e39f3639-c351-4076-924a-ca43d32a31af",
   "metadata": {},
   "outputs": [
    {
     "name": "stdout",
     "output_type": "stream",
     "text": [
      "Looking in indexes: https://pypi.org/simple, https://pip.repos.neuron.amazonaws.com\n",
      "Collecting gdown\n",
      "  Downloading gdown-4.6.0-py3-none-any.whl (14 kB)\n",
      "Requirement already satisfied: six in /home/ec2-user/anaconda3/envs/JupyterSystemEnv/lib/python3.7/site-packages (from gdown) (1.16.0)\n",
      "Requirement already satisfied: filelock in /home/ec2-user/anaconda3/envs/JupyterSystemEnv/lib/python3.7/site-packages (from gdown) (3.9.0)\n",
      "Requirement already satisfied: tqdm in /home/ec2-user/anaconda3/envs/JupyterSystemEnv/lib/python3.7/site-packages (from gdown) (4.64.1)\n",
      "Requirement already satisfied: beautifulsoup4 in /home/ec2-user/anaconda3/envs/JupyterSystemEnv/lib/python3.7/site-packages (from gdown) (4.11.1)\n",
      "Requirement already satisfied: requests[socks] in /home/ec2-user/anaconda3/envs/JupyterSystemEnv/lib/python3.7/site-packages (from gdown) (2.28.1)\n",
      "Requirement already satisfied: soupsieve>1.2 in /home/ec2-user/anaconda3/envs/JupyterSystemEnv/lib/python3.7/site-packages (from beautifulsoup4->gdown) (2.3.2.post1)\n",
      "Requirement already satisfied: certifi>=2017.4.17 in /home/ec2-user/anaconda3/envs/JupyterSystemEnv/lib/python3.7/site-packages (from requests[socks]->gdown) (2022.12.7)\n",
      "Requirement already satisfied: idna<4,>=2.5 in /home/ec2-user/anaconda3/envs/JupyterSystemEnv/lib/python3.7/site-packages (from requests[socks]->gdown) (3.4)\n",
      "Requirement already satisfied: charset-normalizer<3,>=2 in /home/ec2-user/anaconda3/envs/JupyterSystemEnv/lib/python3.7/site-packages (from requests[socks]->gdown) (2.1.1)\n",
      "Requirement already satisfied: urllib3<1.27,>=1.21.1 in /home/ec2-user/anaconda3/envs/JupyterSystemEnv/lib/python3.7/site-packages (from requests[socks]->gdown) (1.26.8)\n",
      "Requirement already satisfied: PySocks!=1.5.7,>=1.5.6 in /home/ec2-user/anaconda3/envs/JupyterSystemEnv/lib/python3.7/site-packages (from requests[socks]->gdown) (1.7.1)\n",
      "Installing collected packages: gdown\n",
      "Successfully installed gdown-4.6.0\n"
     ]
    }
   ],
   "source": [
    "!pip install gdown"
   ]
  },
  {
   "cell_type": "code",
   "execution_count": 11,
   "id": "233a7de7-8db8-441d-a89a-2c39a3a39c74",
   "metadata": {},
   "outputs": [
    {
     "name": "stdout",
     "output_type": "stream",
     "text": [
      "/home/ec2-user/anaconda3/envs/JupyterSystemEnv/lib/python3.7/site-packages/gdown/cli.py:125: FutureWarning: Option `--id` was deprecated in version 4.3.1 and will be removed in 5.0. You don't need to pass it anymore to use a file ID.\n",
      "  category=FutureWarning,\n",
      "Downloading...\n",
      "From: https://drive.google.com/uc?id=1UWT6esQIU_d4tUm8cjxDKMhB8joQbrFx\n",
      "To: /home/ec2-user/SageMaker/code/ACGPN_checkpoints.zip\n",
      "100%|█████████████████████████████████████████| 524M/524M [00:03<00:00, 174MB/s]\n",
      "Archive:  ACGPN_checkpoints.zip\n",
      "   creating: label2city/\n",
      "  inflating: label2city/latest_net_G.pth  \n",
      "  inflating: label2city/latest_net_G1.pth  \n",
      "  inflating: label2city/latest_net_G2.pth  \n",
      "  inflating: label2city/latest_net_U.pth  \n",
      "  inflating: label2city/opt.txt      \n"
     ]
    }
   ],
   "source": [
    "!gdown --id 1UWT6esQIU_d4tUm8cjxDKMhB8joQbrFx\n",
    "!unzip ACGPN_checkpoints"
   ]
  },
  {
   "cell_type": "code",
   "execution_count": 27,
   "id": "f5815a3d-1f11-47de-8b26-062bb4a9a787",
   "metadata": {
    "tags": []
   },
   "outputs": [
    {
     "ename": "ModuleNotFoundError",
     "evalue": "No module named 'gdown'",
     "output_type": "error",
     "traceback": [
      "\u001b[0;31m---------------------------------------------------------------------------\u001b[0m",
      "\u001b[0;31mModuleNotFoundError\u001b[0m                       Traceback (most recent call last)",
      "Cell \u001b[0;32mIn [27], line 3\u001b[0m\n\u001b[1;32m      1\u001b[0m \u001b[38;5;124;03m\"\"\"Downloading checkpoints\"\"\"\u001b[39;00m\n\u001b[1;32m      2\u001b[0m \u001b[38;5;66;03m# %cd code\u001b[39;00m\n\u001b[0;32m----> 3\u001b[0m \u001b[38;5;28;01mimport\u001b[39;00m \u001b[38;5;21;01mgdown\u001b[39;00m\n\u001b[1;32m      4\u001b[0m get_ipython()\u001b[38;5;241m.\u001b[39msystem(\u001b[38;5;124m'\u001b[39m\u001b[38;5;124mmkdir checkpoints\u001b[39m\u001b[38;5;124m'\u001b[39m)\n\u001b[1;32m      5\u001b[0m gdown\u001b[38;5;241m.\u001b[39mdownload(\u001b[38;5;124m'\u001b[39m\u001b[38;5;124mhttps://drive.google.com/uc?id=1UWT6esQIU_d4tUm8cjxDKMhB8joQbrFx&confirm=t\u001b[39m\u001b[38;5;124m'\u001b[39m,output\u001b[38;5;241m=\u001b[39m\u001b[38;5;124m'\u001b[39m\u001b[38;5;124mcheckpoints/ACGPN_checkpoints.zip\u001b[39m\u001b[38;5;124m'\u001b[39m, quiet\u001b[38;5;241m=\u001b[39m\u001b[38;5;28;01mFalse\u001b[39;00m)\n",
      "\u001b[0;31mModuleNotFoundError\u001b[0m: No module named 'gdown'"
     ]
    }
   ],
   "source": [
    "\"\"\"Downloading checkpoints\"\"\"\n",
    "# %cd code\n",
    "import gdown\n",
    "!mkdir checkpoints\n",
    "gdown.download('https://drive.google.com/uc?id=1UWT6esQIU_d4tUm8cjxDKMhB8joQbrFx&confirm=t',output='checkpoints/ACGPN_checkpoints.zip', quiet=False)\n",
    "%cd checkpoints\n",
    "!unzip ACGPN_checkpoints\n",
    "%cd .."
   ]
  },
  {
   "cell_type": "code",
   "execution_count": null,
   "id": "832d5eb8-400d-432f-a261-3669615dd2a5",
   "metadata": {
    "tags": []
   },
   "outputs": [],
   "source": [
    "\"\"\"Preprocessing and testing - generation of output\"\"\"\n",
    "!python preprocessing.py greengirl tshirt"
   ]
  },
  {
   "cell_type": "code",
   "execution_count": 19,
   "id": "66b14dba-047d-4657-bf95-53ee093d7f95",
   "metadata": {},
   "outputs": [
    {
     "name": "stdout",
     "output_type": "stream",
     "text": [
      "/home/ec2-user/SageMaker/optimisation_work\n"
     ]
    }
   ],
   "source": [
    "!pwd"
   ]
  },
  {
   "cell_type": "code",
   "execution_count": 55,
   "id": "c3103e21-5cfe-4b87-ba66-2c577aabc9e6",
   "metadata": {},
   "outputs": [],
   "source": [
    "import tarfile\n",
    "with tarfile.open(\"model.tar.gz\", \"w:gz\") as f:\n",
    "    f.add(\"model.pth\")\n",
    "    f.add(\"code\")"
   ]
  },
  {
   "cell_type": "code",
   "execution_count": 56,
   "id": "7d140ac8-5ee1-4226-bd1d-f2312570d66f",
   "metadata": {},
   "outputs": [],
   "source": [
    "import boto3\n",
    "from boto3 import client\n",
    "s3 = boto3.resource('s3')\n",
    "s3.meta.client.upload_file(\"model.tar.gz\",'cp6-digitailinstore-bucket','model.tar.gz')"
   ]
  },
  {
   "cell_type": "code",
   "execution_count": 1,
   "id": "b127fd70-dc8a-44a1-ae58-47b747a60c19",
   "metadata": {
    "tags": []
   },
   "outputs": [],
   "source": [
    "import boto3\n",
    "import base64\n",
    "from boto3 import client\n",
    "from sagemaker.pytorch import PyTorchModel\n",
    "from sagemaker import get_execution_role"
   ]
  },
  {
   "cell_type": "code",
   "execution_count": 2,
   "id": "aad2b574-bef8-4c6b-8129-8f0e1ae18d61",
   "metadata": {
    "tags": []
   },
   "outputs": [],
   "source": [
    "role = get_execution_role()"
   ]
  },
  {
   "cell_type": "code",
   "execution_count": 3,
   "id": "f5f70f34-a584-4b08-bb6d-8e92040a44a0",
   "metadata": {
    "tags": []
   },
   "outputs": [],
   "source": [
    "pytorch_model = PyTorchModel(model_data='s3://cp6-digitailinstore-bucket/model.tar.gz',\n",
    "                             role=role, entry_point='test.py', source_dir= 's3://cp6-digitailinstore-bucket/model.tar.gz',\n",
    "                             framework_version='1.5.0', py_version='py3')"
   ]
  },
  {
   "cell_type": "code",
   "execution_count": 4,
   "id": "d270be3f-9331-4408-b673-61dae091191f",
   "metadata": {
    "tags": []
   },
   "outputs": [
    {
     "name": "stdout",
     "output_type": "stream",
     "text": [
      "----------!"
     ]
    }
   ],
   "source": [
    "predictor = pytorch_model.deploy(instance_type='ml.g4dn.xlarge', initial_instance_count=1)"
   ]
  },
  {
   "cell_type": "code",
   "execution_count": 5,
   "id": "3e9be308-b578-4c57-a39e-8d904ca8e588",
   "metadata": {
    "tags": []
   },
   "outputs": [
    {
     "name": "stderr",
     "output_type": "stream",
     "text": [
      "The endpoint attribute has been renamed in sagemaker>=2.\n",
      "See: https://sagemaker.readthedocs.io/en/stable/v2.html for details.\n"
     ]
    },
    {
     "data": {
      "text/plain": [
       "'pytorch-inference-2023-02-28-06-50-05-490'"
      ]
     },
     "execution_count": 5,
     "metadata": {},
     "output_type": "execute_result"
    }
   ],
   "source": [
    "predictor.endpoint"
   ]
  },
  {
   "cell_type": "code",
   "execution_count": 6,
   "id": "36559e17-c46b-4277-8017-77a33ab7a112",
   "metadata": {
    "tags": []
   },
   "outputs": [
    {
     "name": "stdout",
     "output_type": "stream",
     "text": [
      "252_5_Blue.png\n"
     ]
    }
   ],
   "source": [
    "import boto3\n",
    "import json\n",
    "\n",
    "runtime_client = boto3.client('sagemaker-runtime')\n",
    "content_type = \"application/json\"\n",
    "request_body = {'Input': [\"252\", \"5_Blue.png\"]}\n",
    "data = json.loads(json.dumps(request_body))\n",
    "payload = json.dumps(data)\n",
    "endpoint_name = \"pytorch-inference-2023-02-28-06-50-05-490\"\n",
    "\n",
    "response = runtime_client.invoke_endpoint(\n",
    "    EndpointName=endpoint_name,\n",
    "    ContentType=content_type,\n",
    "    Body=payload)\n",
    "result = json.loads(response['Body'].read().decode())['Output']\n",
    "print(result)"
   ]
  },
  {
   "cell_type": "code",
   "execution_count": 8,
   "id": "f8add294-d217-4a5a-a9f0-5857586f0014",
   "metadata": {},
   "outputs": [
    {
     "name": "stdout",
     "output_type": "stream",
     "text": [
      "/home/ec2-user/SageMaker/optimisation_work\n"
     ]
    }
   ],
   "source": [
    "!pwd"
   ]
  },
  {
   "cell_type": "code",
   "execution_count": 8,
   "id": "c7e66c72-81c7-42b4-8e63-7606eb8b36bb",
   "metadata": {},
   "outputs": [],
   "source": [
    "import boto3\n",
    "s3 = boto3.resource('s3')"
   ]
  },
  {
   "cell_type": "code",
   "execution_count": 9,
   "id": "9ce19e2f-270f-47fd-baee-c4d7d2460cad",
   "metadata": {},
   "outputs": [],
   "source": [
    "request_body = {\"Input\": [\"122.png\", \"1_Blue.png\"]}\n",
    "inpVar = request_body['Input']\n",
    "person_inbucket_path = \"user_images/\"+inpVar[0]\n",
    "cloth_inbucket_path = \"products/\"+inpVar[1]"
   ]
  },
  {
   "cell_type": "code",
   "execution_count": 40,
   "id": "31670ec8-9d60-4902-8547-2184a831c180",
   "metadata": {},
   "outputs": [],
   "source": [
    "s3.meta.client.upload_file(\"122.jpg\", \"cp6-digitailinstore-bucket\", \"user_images/122.jpg\")"
   ]
  },
  {
   "cell_type": "code",
   "execution_count": 56,
   "id": "689fb3e8-344f-4673-8aae-bc9a4789e305",
   "metadata": {},
   "outputs": [],
   "source": [
    "s3.meta.client.download_file('cp6-digitailinstore-bucket', person_inbucket_path , \"person.png\")"
   ]
  },
  {
   "cell_type": "code",
   "execution_count": 58,
   "id": "9f89a0dd-ca69-4f62-b30e-874b946477b9",
   "metadata": {},
   "outputs": [],
   "source": [
    "s3.meta.client.download_file('cp6-digitailinstore-bucket', cloth_inbucket_path  , \"cloth.png\")"
   ]
  },
  {
   "cell_type": "code",
   "execution_count": 12,
   "id": "402ca1d7-a0a8-41e4-85c2-5bbf2b96f2c7",
   "metadata": {},
   "outputs": [],
   "source": [
    "s3.meta.client.download_file('cp6-digitailinstore-bucket', \"user_images/102.png\"  , \"102.png\")"
   ]
  },
  {
   "cell_type": "code",
   "execution_count": 9,
   "id": "de7e5c76-d5dc-4418-b122-f042f34c7339",
   "metadata": {},
   "outputs": [],
   "source": [
    "s3.meta.client.download_file('cp6-digitailinstore-bucket', \"results/252_5_Blue.png\"  , \"result_252_5_Blue.png\")"
   ]
  },
  {
   "cell_type": "code",
   "execution_count": 14,
   "id": "ad552582-35b6-4bdd-beaa-1b5f085453ad",
   "metadata": {},
   "outputs": [
    {
     "name": "stdout",
     "output_type": "stream",
     "text": [
      "/home/ec2-user/SageMaker/optimisation_work\n",
      "/home/ec2-user/SageMaker/optimisation_work\n"
     ]
    }
   ],
   "source": [
    "%cd optimisation_work\n",
    "!pwd"
   ]
  },
  {
   "cell_type": "code",
   "execution_count": 18,
   "id": "55a0ea5b-6ec4-4885-a21f-573122700320",
   "metadata": {},
   "outputs": [],
   "source": [
    "import tarfile\n",
    "with tarfile.open(\"code_backup.tar.gz\", \"w:gz\") as f:\n",
    "    f.add(\"ACGPN_optimisation.ipynb\")\n",
    "    f.add(\"code\")\n",
    "    f.add(\"U2Net_Bg\")\n",
    "    f.add(\"preprocessing.ipynb\")"
   ]
  },
  {
   "cell_type": "code",
   "execution_count": 5,
   "id": "0d2a04ad-c466-40a3-ac4b-fbdf41d46e3c",
   "metadata": {
    "collapsed": true,
    "jupyter": {
     "outputs_hidden": true
    },
    "tags": []
   },
   "outputs": [
    {
     "name": "stdout",
     "output_type": "stream",
     "text": [
      "['ACGPN_inference.ipynb', 'code', 'code/.git', 'code/.git/HEAD', 'code/.git/branches', 'code/.git/config', 'code/.git/description', 'code/.git/hooks', 'code/.git/hooks/applypatch-msg.sample', 'code/.git/hooks/commit-msg.sample', 'code/.git/hooks/fsmonitor-watchman.sample', 'code/.git/hooks/post-update.sample', 'code/.git/hooks/pre-applypatch.sample', 'code/.git/hooks/pre-commit.sample', 'code/.git/hooks/pre-merge-commit.sample', 'code/.git/hooks/pre-push.sample', 'code/.git/hooks/pre-rebase.sample', 'code/.git/hooks/pre-receive.sample', 'code/.git/hooks/prepare-commit-msg.sample', 'code/.git/hooks/push-to-checkout.sample', 'code/.git/hooks/update.sample', 'code/.git/index', 'code/.git/info', 'code/.git/info/exclude', 'code/.git/logs', 'code/.git/logs/HEAD', 'code/.git/logs/refs', 'code/.git/logs/refs/heads', 'code/.git/logs/refs/heads/main', 'code/.git/logs/refs/remotes', 'code/.git/logs/refs/remotes/origin', 'code/.git/logs/refs/remotes/origin/HEAD', 'code/.git/objects', 'code/.git/objects/info', 'code/.git/objects/pack', 'code/.git/objects/pack/pack-ceaeba5111b9732f3e548bd5808396ab755061b6.idx', 'code/.git/objects/pack/pack-ceaeba5111b9732f3e548bd5808396ab755061b6.pack', 'code/.git/packed-refs', 'code/.git/refs', 'code/.git/refs/heads', 'code/.git/refs/heads/main', 'code/.git/refs/remotes', 'code/.git/refs/remotes/origin', 'code/.git/refs/remotes/origin/HEAD', 'code/.git/refs/tags', 'code/.ipynb_checkpoints', 'code/.ipynb_checkpoints/grid_sample-checkpoint.py', 'code/.ipynb_checkpoints/predict_pose-checkpoint.py', 'code/.ipynb_checkpoints/preprocessing-checkpoint.py', 'code/.ipynb_checkpoints/requirements-checkpoint.txt', 'code/.ipynb_checkpoints/test-checkpoint.py', 'code/Data_preprocessing', 'code/Data_preprocessing/.ipynb_checkpoints', 'code/Data_preprocessing/.ipynb_checkpoints/test_pairs-checkpoint.txt', 'code/Data_preprocessing/.ipynb_checkpoints/test_pairs_same-checkpoint.txt', 'code/Data_preprocessing/Partition_label.tar.gz', 'code/Data_preprocessing/test_color', 'code/Data_preprocessing/test_colormask', 'code/Data_preprocessing/test_edge', 'code/Data_preprocessing/test_img', 'code/Data_preprocessing/test_label', 'code/Data_preprocessing/test_mask', 'code/Data_preprocessing/test_pairs.txt', 'code/Data_preprocessing/test_pairs_same.txt', 'code/Data_preprocessing/test_pose', 'code/Self-Correction-Human-Parsing-for-ACGPN', 'code/Self-Correction-Human-Parsing-for-ACGPN/.gitignore', 'code/Self-Correction-Human-Parsing-for-ACGPN/LICENSE', 'code/Self-Correction-Human-Parsing-for-ACGPN/README.md', 'code/Self-Correction-Human-Parsing-for-ACGPN/datasets', 'code/Self-Correction-Human-Parsing-for-ACGPN/datasets/__init__.py', 'code/Self-Correction-Human-Parsing-for-ACGPN/datasets/datasets.py', 'code/Self-Correction-Human-Parsing-for-ACGPN/datasets/simple_extractor_dataset.py', 'code/Self-Correction-Human-Parsing-for-ACGPN/datasets/target_generation.py', 'code/Self-Correction-Human-Parsing-for-ACGPN/demo', 'code/Self-Correction-Human-Parsing-for-ACGPN/demo/demo.jpg', 'code/Self-Correction-Human-Parsing-for-ACGPN/demo/demo_atr.png', 'code/Self-Correction-Human-Parsing-for-ACGPN/demo/demo_lip.png', 'code/Self-Correction-Human-Parsing-for-ACGPN/demo/demo_pascal.png', 'code/Self-Correction-Human-Parsing-for-ACGPN/demo/lip-visualization.jpg', 'code/Self-Correction-Human-Parsing-for-ACGPN/environment.yaml', 'code/Self-Correction-Human-Parsing-for-ACGPN/evaluate.py', 'code/Self-Correction-Human-Parsing-for-ACGPN/mhp_extension', 'code/Self-Correction-Human-Parsing-for-ACGPN/mhp_extension/.ipynb_checkpoints', 'code/Self-Correction-Human-Parsing-for-ACGPN/mhp_extension/.ipynb_checkpoints/demo-checkpoint.ipynb', 'code/Self-Correction-Human-Parsing-for-ACGPN/mhp_extension/README.md', 'code/Self-Correction-Human-Parsing-for-ACGPN/mhp_extension/coco_style_annotation_creator', 'code/Self-Correction-Human-Parsing-for-ACGPN/mhp_extension/coco_style_annotation_creator/human_to_coco.py', 'code/Self-Correction-Human-Parsing-for-ACGPN/mhp_extension/coco_style_annotation_creator/pycococreatortools.py', 'code/Self-Correction-Human-Parsing-for-ACGPN/mhp_extension/coco_style_annotation_creator/test_human2coco_format.py', 'code/Self-Correction-Human-Parsing-for-ACGPN/mhp_extension/demo', 'code/Self-Correction-Human-Parsing-for-ACGPN/mhp_extension/demo/demo.jpg', 'code/Self-Correction-Human-Parsing-for-ACGPN/mhp_extension/demo/demo_global_human_parsing.png', 'code/Self-Correction-Human-Parsing-for-ACGPN/mhp_extension/demo/demo_instance_human_mask.png', 'code/Self-Correction-Human-Parsing-for-ACGPN/mhp_extension/demo/demo_multiple_human_parsing.png', 'code/Self-Correction-Human-Parsing-for-ACGPN/mhp_extension/demo.ipynb', 'code/Self-Correction-Human-Parsing-for-ACGPN/mhp_extension/detectron2', 'code/Self-Correction-Human-Parsing-for-ACGPN/mhp_extension/detectron2/.circleci', 'code/Self-Correction-Human-Parsing-for-ACGPN/mhp_extension/detectron2/.circleci/config.yml', 'code/Self-Correction-Human-Parsing-for-ACGPN/mhp_extension/detectron2/.clang-format', 'code/Self-Correction-Human-Parsing-for-ACGPN/mhp_extension/detectron2/.flake8', 'code/Self-Correction-Human-Parsing-for-ACGPN/mhp_extension/detectron2/.github', 'code/Self-Correction-Human-Parsing-for-ACGPN/mhp_extension/detectron2/.github/CODE_OF_CONDUCT.md', 'code/Self-Correction-Human-Parsing-for-ACGPN/mhp_extension/detectron2/.github/CONTRIBUTING.md', 'code/Self-Correction-Human-Parsing-for-ACGPN/mhp_extension/detectron2/.github/Detectron2-Logo-Horz.svg', 'code/Self-Correction-Human-Parsing-for-ACGPN/mhp_extension/detectron2/.github/ISSUE_TEMPLATE', 'code/Self-Correction-Human-Parsing-for-ACGPN/mhp_extension/detectron2/.github/ISSUE_TEMPLATE/bugs.md', 'code/Self-Correction-Human-Parsing-for-ACGPN/mhp_extension/detectron2/.github/ISSUE_TEMPLATE/config.yml', 'code/Self-Correction-Human-Parsing-for-ACGPN/mhp_extension/detectron2/.github/ISSUE_TEMPLATE/feature-request.md', 'code/Self-Correction-Human-Parsing-for-ACGPN/mhp_extension/detectron2/.github/ISSUE_TEMPLATE/questions-help-support.md', 'code/Self-Correction-Human-Parsing-for-ACGPN/mhp_extension/detectron2/.github/ISSUE_TEMPLATE/unexpected-problems-bugs.md', 'code/Self-Correction-Human-Parsing-for-ACGPN/mhp_extension/detectron2/.github/ISSUE_TEMPLATE.md', 'code/Self-Correction-Human-Parsing-for-ACGPN/mhp_extension/detectron2/.github/pull_request_template.md', 'code/Self-Correction-Human-Parsing-for-ACGPN/mhp_extension/detectron2/.gitignore', 'code/Self-Correction-Human-Parsing-for-ACGPN/mhp_extension/detectron2/GETTING_STARTED.md', 'code/Self-Correction-Human-Parsing-for-ACGPN/mhp_extension/detectron2/INSTALL.md', 'code/Self-Correction-Human-Parsing-for-ACGPN/mhp_extension/detectron2/LICENSE', 'code/Self-Correction-Human-Parsing-for-ACGPN/mhp_extension/detectron2/MODEL_ZOO.md', 'code/Self-Correction-Human-Parsing-for-ACGPN/mhp_extension/detectron2/README.md', 'code/Self-Correction-Human-Parsing-for-ACGPN/mhp_extension/detectron2/configs', 'code/Self-Correction-Human-Parsing-for-ACGPN/mhp_extension/detectron2/configs/Base-RCNN-C4.yaml', 'code/Self-Correction-Human-Parsing-for-ACGPN/mhp_extension/detectron2/configs/Base-RCNN-DilatedC5.yaml', 'code/Self-Correction-Human-Parsing-for-ACGPN/mhp_extension/detectron2/configs/Base-RCNN-FPN.yaml', 'code/Self-Correction-Human-Parsing-for-ACGPN/mhp_extension/detectron2/configs/Base-RetinaNet.yaml', 'code/Self-Correction-Human-Parsing-for-ACGPN/mhp_extension/detectron2/configs/COCO-Detection', 'code/Self-Correction-Human-Parsing-for-ACGPN/mhp_extension/detectron2/configs/COCO-Detection/fast_rcnn_R_50_FPN_1x.yaml', 'code/Self-Correction-Human-Parsing-for-ACGPN/mhp_extension/detectron2/configs/COCO-Detection/faster_rcnn_R_101_C4_3x.yaml', 'code/Self-Correction-Human-Parsing-for-ACGPN/mhp_extension/detectron2/configs/COCO-Detection/faster_rcnn_R_101_DC5_3x.yaml', 'code/Self-Correction-Human-Parsing-for-ACGPN/mhp_extension/detectron2/configs/COCO-Detection/faster_rcnn_R_101_FPN_3x.yaml', 'code/Self-Correction-Human-Parsing-for-ACGPN/mhp_extension/detectron2/configs/COCO-Detection/faster_rcnn_R_50_C4_1x.yaml', 'code/Self-Correction-Human-Parsing-for-ACGPN/mhp_extension/detectron2/configs/COCO-Detection/faster_rcnn_R_50_C4_3x.yaml', 'code/Self-Correction-Human-Parsing-for-ACGPN/mhp_extension/detectron2/configs/COCO-Detection/faster_rcnn_R_50_DC5_1x.yaml', 'code/Self-Correction-Human-Parsing-for-ACGPN/mhp_extension/detectron2/configs/COCO-Detection/faster_rcnn_R_50_DC5_3x.yaml', 'code/Self-Correction-Human-Parsing-for-ACGPN/mhp_extension/detectron2/configs/COCO-Detection/faster_rcnn_R_50_FPN_1x.yaml', 'code/Self-Correction-Human-Parsing-for-ACGPN/mhp_extension/detectron2/configs/COCO-Detection/faster_rcnn_R_50_FPN_3x.yaml', 'code/Self-Correction-Human-Parsing-for-ACGPN/mhp_extension/detectron2/configs/COCO-Detection/faster_rcnn_X_101_32x8d_FPN_3x.yaml', 'code/Self-Correction-Human-Parsing-for-ACGPN/mhp_extension/detectron2/configs/COCO-Detection/retinanet_R_101_FPN_3x.yaml', 'code/Self-Correction-Human-Parsing-for-ACGPN/mhp_extension/detectron2/configs/COCO-Detection/retinanet_R_50_FPN_1x.yaml', 'code/Self-Correction-Human-Parsing-for-ACGPN/mhp_extension/detectron2/configs/COCO-Detection/retinanet_R_50_FPN_3x.yaml', 'code/Self-Correction-Human-Parsing-for-ACGPN/mhp_extension/detectron2/configs/COCO-Detection/rpn_R_50_C4_1x.yaml', 'code/Self-Correction-Human-Parsing-for-ACGPN/mhp_extension/detectron2/configs/COCO-Detection/rpn_R_50_FPN_1x.yaml', 'code/Self-Correction-Human-Parsing-for-ACGPN/mhp_extension/detectron2/configs/COCO-InstanceSegmentation/', 'code/Self-Correction-Human-Parsing-for-ACGPN/mhp_extension/detectron2/configs/COCO-InstanceSegmentation/mask_rcnn_R_101_C4_3x.yaml', 'code/Self-Correction-Human-Parsing-for-ACGPN/mhp_extension/detectron2/configs/COCO-InstanceSegmentation/mask_rcnn_R_101_DC5_3x.yaml', 'code/Self-Correction-Human-Parsing-for-ACGPN/mhp_extension/detectron2/configs/COCO-InstanceSegmentation/mask_rcnn_R_101_FPN_3x.yaml', 'code/Self-Correction-Human-Parsing-for-ACGPN/mhp_extension/detectron2/configs/COCO-InstanceSegmentation/mask_rcnn_R_50_C4_1x.yaml', 'code/Self-Correction-Human-Parsing-for-ACGPN/mhp_extension/detectron2/configs/COCO-InstanceSegmentation/mask_rcnn_R_50_C4_3x.yaml', 'code/Self-Correction-Human-Parsing-for-ACGPN/mhp_extension/detectron2/configs/COCO-InstanceSegmentation/mask_rcnn_R_50_DC5_1x.yaml', 'code/Self-Correction-Human-Parsing-for-ACGPN/mhp_extension/detectron2/configs/COCO-InstanceSegmentation/mask_rcnn_R_50_DC5_3x.yaml', 'code/Self-Correction-Human-Parsing-for-ACGPN/mhp_extension/detectron2/configs/COCO-InstanceSegmentation/mask_rcnn_R_50_FPN_1x.yaml', 'code/Self-Correction-Human-Parsing-for-ACGPN/mhp_extension/detectron2/configs/COCO-InstanceSegmentation/mask_rcnn_R_50_FPN_3x.yaml', 'code/Self-Correction-Human-Parsing-for-ACGPN/mhp_extension/detectron2/configs/COCO-InstanceSegmentation/mask_rcnn_X_101_32x8d_FPN_3x.yaml', 'code/Self-Correction-Human-Parsing-for-ACGPN/mhp_extension/detectron2/configs/COCO-Keypoints', 'code/Self-Correction-Human-Parsing-for-ACGPN/mhp_extension/detectron2/configs/COCO-Keypoints/Base-Keypoint-RCNN-FPN.yaml', 'code/Self-Correction-Human-Parsing-for-ACGPN/mhp_extension/detectron2/configs/COCO-Keypoints/keypoint_rcnn_R_101_FPN_3x.yaml', 'code/Self-Correction-Human-Parsing-for-ACGPN/mhp_extension/detectron2/configs/COCO-Keypoints/keypoint_rcnn_R_50_FPN_1x.yaml', 'code/Self-Correction-Human-Parsing-for-ACGPN/mhp_extension/detectron2/configs/COCO-Keypoints/keypoint_rcnn_R_50_FPN_3x.yaml', 'code/Self-Correction-Human-Parsing-for-ACGPN/mhp_extension/detectron2/configs/COCO-Keypoints/keypoint_rcnn_X_101_32x8d_FPN_3x.yaml', 'code/Self-Correction-Human-Parsing-for-ACGPN/mhp_extension/detectron2/configs/COCO-PanopticSegmentation/', 'code/Self-Correction-Human-Parsing-for-ACGPN/mhp_extension/detectron2/configs/COCO-PanopticSegmentation/Base-Panoptic-FPN.yaml', 'code/Self-Correction-Human-Parsing-for-ACGPN/mhp_extension/detectron2/configs/COCO-PanopticSegmentation/panoptic_fpn_R_101_3x.yaml', 'code/Self-Correction-Human-Parsing-for-ACGPN/mhp_extension/detectron2/configs/COCO-PanopticSegmentation/panoptic_fpn_R_50_1x.yaml', 'code/Self-Correction-Human-Parsing-for-ACGPN/mhp_extension/detectron2/configs/COCO-PanopticSegmentation/panoptic_fpn_R_50_3x.yaml', 'code/Self-Correction-Human-Parsing-for-ACGPN/mhp_extension/detectron2/configs/Cityscapes', 'code/Self-Correction-Human-Parsing-for-ACGPN/mhp_extension/detectron2/configs/Cityscapes/mask_rcnn_R_50_FPN.yaml', 'code/Self-Correction-Human-Parsing-for-ACGPN/mhp_extension/detectron2/configs/Detectron1-Comparisons/', 'code/Self-Correction-Human-Parsing-for-ACGPN/mhp_extension/detectron2/configs/Detectron1-Comparisons/README.md', 'code/Self-Correction-Human-Parsing-for-ACGPN/mhp_extension/detectron2/configs/Detectron1-Comparisons/faster_rcnn_R_50_FPN_noaug_1x.yaml', 'code/Self-Correction-Human-Parsing-for-ACGPN/mhp_extension/detectron2/configs/Detectron1-Comparisons/keypoint_rcnn_R_50_FPN_1x.yaml', 'code/Self-Correction-Human-Parsing-for-ACGPN/mhp_extension/detectron2/configs/Detectron1-Comparisons/mask_rcnn_R_50_FPN_noaug_1x.yaml', 'code/Self-Correction-Human-Parsing-for-ACGPN/mhp_extension/detectron2/configs/LVIS-InstanceSegmentation/', 'code/Self-Correction-Human-Parsing-for-ACGPN/mhp_extension/detectron2/configs/LVIS-InstanceSegmentation/mask_rcnn_R_101_FPN_1x.yaml', 'code/Self-Correction-Human-Parsing-for-ACGPN/mhp_extension/detectron2/configs/LVIS-InstanceSegmentation/mask_rcnn_R_50_FPN_1x.yaml', 'code/Self-Correction-Human-Parsing-for-ACGPN/mhp_extension/detectron2/configs/LVIS-InstanceSegmentation/mask_rcnn_X_101_32x8d_FPN_1x.yaml', 'code/Self-Correction-Human-Parsing-for-ACGPN/mhp_extension/detectron2/configs/Misc', 'code/Self-Correction-Human-Parsing-for-ACGPN/mhp_extension/detectron2/configs/Misc/cascade_mask_rcnn_R_50_FPN_1x.yaml', 'code/Self-Correction-Human-Parsing-for-ACGPN/mhp_extension/detectron2/configs/Misc/cascade_mask_rcnn_R_50_FPN_3x.yaml', 'code/Self-Correction-Human-Parsing-for-ACGPN/mhp_extension/detectron2/configs/Misc/cascade_mask_rcnn_X_152_32x8d_FPN_IN5k_gn_dconv.yaml', 'code/Self-Correction-Human-Parsing-for-ACGPN/mhp_extension/detectron2/configs/Misc/cascade_mask_rcnn_X_152_32x8d_FPN_IN5k_gn_dconv_parsing.yaml', 'code/Self-Correction-Human-Parsing-for-ACGPN/mhp_extension/detectron2/configs/Misc/demo.yaml', 'code/Self-Correction-Human-Parsing-for-ACGPN/mhp_extension/detectron2/configs/Misc/mask_rcnn_R_50_FPN_1x_cls_agnostic.yaml', 'code/Self-Correction-Human-Parsing-for-ACGPN/mhp_extension/detectron2/configs/Misc/mask_rcnn_R_50_FPN_1x_dconv_c3-c5.yaml', 'code/Self-Correction-Human-Parsing-for-ACGPN/mhp_extension/detectron2/configs/Misc/mask_rcnn_R_50_FPN_3x_dconv_c3-c5.yaml', 'code/Self-Correction-Human-Parsing-for-ACGPN/mhp_extension/detectron2/configs/Misc/mask_rcnn_R_50_FPN_3x_gn.yaml', 'code/Self-Correction-Human-Parsing-for-ACGPN/mhp_extension/detectron2/configs/Misc/mask_rcnn_R_50_FPN_3x_syncbn.yaml', 'code/Self-Correction-Human-Parsing-for-ACGPN/mhp_extension/detectron2/configs/Misc/panoptic_fpn_R_101_dconv_cascade_gn_3x.yaml', 'code/Self-Correction-Human-Parsing-for-ACGPN/mhp_extension/detectron2/configs/Misc/parsing_finetune_cihp.yaml', 'code/Self-Correction-Human-Parsing-for-ACGPN/mhp_extension/detectron2/configs/Misc/parsing_inference.yaml', 'code/Self-Correction-Human-Parsing-for-ACGPN/mhp_extension/detectron2/configs/Misc/scratch_mask_rcnn_R_50_FPN_3x_gn.yaml', 'code/Self-Correction-Human-Parsing-for-ACGPN/mhp_extension/detectron2/configs/Misc/scratch_mask_rcnn_R_50_FPN_9x_gn.yaml', 'code/Self-Correction-Human-Parsing-for-ACGPN/mhp_extension/detectron2/configs/Misc/scratch_mask_rcnn_R_50_FPN_9x_syncbn.yaml', 'code/Self-Correction-Human-Parsing-for-ACGPN/mhp_extension/detectron2/configs/Misc/semantic_R_50_FPN_1x.yaml', 'code/Self-Correction-Human-Parsing-for-ACGPN/mhp_extension/detectron2/configs/PascalVOC-Detection', 'code/Self-Correction-Human-Parsing-for-ACGPN/mhp_extension/detectron2/configs/PascalVOC-Detection/faster_rcnn_R_50_C4.yaml', 'code/Self-Correction-Human-Parsing-for-ACGPN/mhp_extension/detectron2/configs/PascalVOC-Detection/faster_rcnn_R_50_FPN.yaml', 'code/Self-Correction-Human-Parsing-for-ACGPN/mhp_extension/detectron2/configs/my_Base-RCNN-FPN.yaml', 'code/Self-Correction-Human-Parsing-for-ACGPN/mhp_extension/detectron2/configs/quick_schedules', 'code/Self-Correction-Human-Parsing-for-ACGPN/mhp_extension/detectron2/configs/quick_schedules/README.md', 'code/Self-Correction-Human-Parsing-for-ACGPN/mhp_extension/detectron2/configs/quick_schedules/cascade_mask_rcnn_R_50_FPN_inference_acc_test.yaml', 'code/Self-Correction-Human-Parsing-for-ACGPN/mhp_extension/detectron2/configs/quick_schedules/cascade_mask_rcnn_R_50_FPN_instant_test.yaml', 'code/Self-Correction-Human-Parsing-for-ACGPN/mhp_extension/detectron2/configs/quick_schedules/fast_rcnn_R_50_FPN_inference_acc_test.yaml', 'code/Self-Correction-Human-Parsing-for-ACGPN/mhp_extension/detectron2/configs/quick_schedules/fast_rcnn_R_50_FPN_instant_test.yaml', 'code/Self-Correction-Human-Parsing-for-ACGPN/mhp_extension/detectron2/configs/quick_schedules/keypoint_rcnn_R_50_FPN_inference_acc_test.yaml', 'code/Self-Correction-Human-Parsing-for-ACGPN/mhp_extension/detectron2/configs/quick_schedules/keypoint_rcnn_R_50_FPN_instant_test.yaml', 'code/Self-Correction-Human-Parsing-for-ACGPN/mhp_extension/detectron2/configs/quick_schedules/keypoint_rcnn_R_50_FPN_normalized_training_acc_test.yaml', 'code/Self-Correction-Human-Parsing-for-ACGPN/mhp_extension/detectron2/configs/quick_schedules/keypoint_rcnn_R_50_FPN_training_acc_test.yaml', 'code/Self-Correction-Human-Parsing-for-ACGPN/mhp_extension/detectron2/configs/quick_schedules/mask_rcnn_R_50_C4_GCV_instant_test.yaml', 'code/Self-Correction-Human-Parsing-for-ACGPN/mhp_extension/detectron2/configs/quick_schedules/mask_rcnn_R_50_C4_inference_acc_test.yaml', 'code/Self-Correction-Human-Parsing-for-ACGPN/mhp_extension/detectron2/configs/quick_schedules/mask_rcnn_R_50_C4_instant_test.yaml', 'code/Self-Correction-Human-Parsing-for-ACGPN/mhp_extension/detectron2/configs/quick_schedules/mask_rcnn_R_50_C4_training_acc_test.yaml', 'code/Self-Correction-Human-Parsing-for-ACGPN/mhp_extension/detectron2/configs/quick_schedules/mask_rcnn_R_50_DC5_inference_acc_test.yaml', 'code/Self-Correction-Human-Parsing-for-ACGPN/mhp_extension/detectron2/configs/quick_schedules/mask_rcnn_R_50_FPN_inference_acc_test.yaml', 'code/Self-Correction-Human-Parsing-for-ACGPN/mhp_extension/detectron2/configs/quick_schedules/mask_rcnn_R_50_FPN_instant_test.yaml', 'code/Self-Correction-Human-Parsing-for-ACGPN/mhp_extension/detectron2/configs/quick_schedules/mask_rcnn_R_50_FPN_training_acc_test.yaml', 'code/Self-Correction-Human-Parsing-for-ACGPN/mhp_extension/detectron2/configs/quick_schedules/panoptic_fpn_R_50_inference_acc_test.yaml', 'code/Self-Correction-Human-Parsing-for-ACGPN/mhp_extension/detectron2/configs/quick_schedules/panoptic_fpn_R_50_instant_test.yaml', 'code/Self-Correction-Human-Parsing-for-ACGPN/mhp_extension/detectron2/configs/quick_schedules/panoptic_fpn_R_50_training_acc_test.yaml', 'code/Self-Correction-Human-Parsing-for-ACGPN/mhp_extension/detectron2/configs/quick_schedules/retinanet_R_50_FPN_inference_acc_test.yaml', 'code/Self-Correction-Human-Parsing-for-ACGPN/mhp_extension/detectron2/configs/quick_schedules/retinanet_R_50_FPN_instant_test.yaml', 'code/Self-Correction-Human-Parsing-for-ACGPN/mhp_extension/detectron2/configs/quick_schedules/rpn_R_50_FPN_inference_acc_test.yaml', 'code/Self-Correction-Human-Parsing-for-ACGPN/mhp_extension/detectron2/configs/quick_schedules/rpn_R_50_FPN_instant_test.yaml', 'code/Self-Correction-Human-Parsing-for-ACGPN/mhp_extension/detectron2/configs/quick_schedules/semantic_R_50_FPN_inference_acc_test.yaml', 'code/Self-Correction-Human-Parsing-for-ACGPN/mhp_extension/detectron2/configs/quick_schedules/semantic_R_50_FPN_instant_test.yaml', 'code/Self-Correction-Human-Parsing-for-ACGPN/mhp_extension/detectron2/configs/quick_schedules/semantic_R_50_FPN_training_acc_test.yaml', 'code/Self-Correction-Human-Parsing-for-ACGPN/mhp_extension/detectron2/demo', 'code/Self-Correction-Human-Parsing-for-ACGPN/mhp_extension/detectron2/demo/README.md', 'code/Self-Correction-Human-Parsing-for-ACGPN/mhp_extension/detectron2/demo/demo.py', 'code/Self-Correction-Human-Parsing-for-ACGPN/mhp_extension/detectron2/demo/predictor.py', 'code/Self-Correction-Human-Parsing-for-ACGPN/mhp_extension/detectron2/detectron2', 'code/Self-Correction-Human-Parsing-for-ACGPN/mhp_extension/detectron2/detectron2/__init__.py', 'code/Self-Correction-Human-Parsing-for-ACGPN/mhp_extension/detectron2/detectron2/checkpoint', 'code/Self-Correction-Human-Parsing-for-ACGPN/mhp_extension/detectron2/detectron2/checkpoint/__init__.py', 'code/Self-Correction-Human-Parsing-for-ACGPN/mhp_extension/detectron2/detectron2/checkpoint/c2_model_loading.py', 'code/Self-Correction-Human-Parsing-for-ACGPN/mhp_extension/detectron2/detectron2/checkpoint/catalog.py', 'code/Self-Correction-Human-Parsing-for-ACGPN/mhp_extension/detectron2/detectron2/checkpoint/detection_checkpoint.py', 'code/Self-Correction-Human-Parsing-for-ACGPN/mhp_extension/detectron2/detectron2/config', 'code/Self-Correction-Human-Parsing-for-ACGPN/mhp_extension/detectron2/detectron2/config/__init__.py', 'code/Self-Correction-Human-Parsing-for-ACGPN/mhp_extension/detectron2/detectron2/config/compat.py', 'code/Self-Correction-Human-Parsing-for-ACGPN/mhp_extension/detectron2/detectron2/config/config.py', 'code/Self-Correction-Human-Parsing-for-ACGPN/mhp_extension/detectron2/detectron2/config/defaults.py', 'code/Self-Correction-Human-Parsing-for-ACGPN/mhp_extension/detectron2/detectron2/engine', 'code/Self-Correction-Human-Parsing-for-ACGPN/mhp_extension/detectron2/detectron2/engine/__init__.py', 'code/Self-Correction-Human-Parsing-for-ACGPN/mhp_extension/detectron2/detectron2/engine/defaults.py', 'code/Self-Correction-Human-Parsing-for-ACGPN/mhp_extension/detectron2/detectron2/engine/hooks.py', 'code/Self-Correction-Human-Parsing-for-ACGPN/mhp_extension/detectron2/detectron2/engine/launch.py', 'code/Self-Correction-Human-Parsing-for-ACGPN/mhp_extension/detectron2/detectron2/engine/train_loop.py', 'code/Self-Correction-Human-Parsing-for-ACGPN/mhp_extension/detectron2/detectron2/evaluation', 'code/Self-Correction-Human-Parsing-for-ACGPN/mhp_extension/detectron2/detectron2/evaluation/__init__.py', 'code/Self-Correction-Human-Parsing-for-ACGPN/mhp_extension/detectron2/detectron2/evaluation/cityscapes_evaluation.py', 'code/Self-Correction-Human-Parsing-for-ACGPN/mhp_extension/detectron2/detectron2/evaluation/coco_evaluation.py', 'code/Self-Correction-Human-Parsing-for-ACGPN/mhp_extension/detectron2/detectron2/evaluation/evaluator.py', 'code/Self-Correction-Human-Parsing-for-ACGPN/mhp_extension/detectron2/detectron2/evaluation/lvis_evaluation.py', 'code/Self-Correction-Human-Parsing-for-ACGPN/mhp_extension/detectron2/detectron2/evaluation/panoptic_evaluation.py', 'code/Self-Correction-Human-Parsing-for-ACGPN/mhp_extension/detectron2/detectron2/evaluation/pascal_voc_evaluation.py', 'code/Self-Correction-Human-Parsing-for-ACGPN/mhp_extension/detectron2/detectron2/evaluation/rotated_coco_evaluation.py', 'code/Self-Correction-Human-Parsing-for-ACGPN/mhp_extension/detectron2/detectron2/evaluation/sem_seg_evaluation.py', 'code/Self-Correction-Human-Parsing-for-ACGPN/mhp_extension/detectron2/detectron2/evaluation/testing.py', 'code/Self-Correction-Human-Parsing-for-ACGPN/mhp_extension/detectron2/detectron2/export', 'code/Self-Correction-Human-Parsing-for-ACGPN/mhp_extension/detectron2/detectron2/export/README.md', 'code/Self-Correction-Human-Parsing-for-ACGPN/mhp_extension/detectron2/detectron2/export/__init__.py', 'code/Self-Correction-Human-Parsing-for-ACGPN/mhp_extension/detectron2/detectron2/export/api.py', 'code/Self-Correction-Human-Parsing-for-ACGPN/mhp_extension/detectron2/detectron2/export/c10.py', 'code/Self-Correction-Human-Parsing-for-ACGPN/mhp_extension/detectron2/detectron2/export/caffe2_export.py', 'code/Self-Correction-Human-Parsing-for-ACGPN/mhp_extension/detectron2/detectron2/export/caffe2_inference.py', 'code/Self-Correction-Human-Parsing-for-ACGPN/mhp_extension/detectron2/detectron2/export/caffe2_modeling.py', 'code/Self-Correction-Human-Parsing-for-ACGPN/mhp_extension/detectron2/detectron2/export/patcher.py', 'code/Self-Correction-Human-Parsing-for-ACGPN/mhp_extension/detectron2/detectron2/export/shared.py', 'code/Self-Correction-Human-Parsing-for-ACGPN/mhp_extension/detectron2/detectron2/layers', 'code/Self-Correction-Human-Parsing-for-ACGPN/mhp_extension/detectron2/detectron2/layers/__init__.py', 'code/Self-Correction-Human-Parsing-for-ACGPN/mhp_extension/detectron2/detectron2/layers/batch_norm.py', 'code/Self-Correction-Human-Parsing-for-ACGPN/mhp_extension/detectron2/detectron2/layers/blocks.py', 'code/Self-Correction-Human-Parsing-for-ACGPN/mhp_extension/detectron2/detectron2/layers/csrc', 'code/Self-Correction-Human-Parsing-for-ACGPN/mhp_extension/detectron2/detectron2/layers/csrc/README.md', 'code/Self-Correction-Human-Parsing-for-ACGPN/mhp_extension/detectron2/detectron2/layers/csrc/ROIAlign/', 'code/Self-Correction-Human-Parsing-for-ACGPN/mhp_extension/detectron2/detectron2/layers/csrc/ROIAlign/ROIAlign.h', 'code/Self-Correction-Human-Parsing-for-ACGPN/mhp_extension/detectron2/detectron2/layers/csrc/ROIAlign/ROIAlign_cpu.cpp', 'code/Self-Correction-Human-Parsing-for-ACGPN/mhp_extension/detectron2/detectron2/layers/csrc/ROIAlign/ROIAlign_cuda.cu', 'code/Self-Correction-Human-Parsing-for-ACGPN/mhp_extension/detectron2/detectron2/layers/csrc/ROIAlignRotated/', 'code/Self-Correction-Human-Parsing-for-ACGPN/mhp_extension/detectron2/detectron2/layers/csrc/ROIAlignRotated/ROIAlignRotated.h', 'code/Self-Correction-Human-Parsing-for-ACGPN/mhp_extension/detectron2/detectron2/layers/csrc/ROIAlignRotated/ROIAlignRotated_cpu.cpp', 'code/Self-Correction-Human-Parsing-for-ACGPN/mhp_extension/detectron2/detectron2/layers/csrc/ROIAlignRotated/ROIAlignRotated_cuda.cu', 'code/Self-Correction-Human-Parsing-for-ACGPN/mhp_extension/detectron2/detectron2/layers/csrc/box_iou_rotated/', 'code/Self-Correction-Human-Parsing-for-ACGPN/mhp_extension/detectron2/detectron2/layers/csrc/box_iou_rotated/box_iou_rotated.h', 'code/Self-Correction-Human-Parsing-for-ACGPN/mhp_extension/detectron2/detectron2/layers/csrc/box_iou_rotated/box_iou_rotated_cpu.cpp', 'code/Self-Correction-Human-Parsing-for-ACGPN/mhp_extension/detectron2/detectron2/layers/csrc/box_iou_rotated/box_iou_rotated_cuda.cu', 'code/Self-Correction-Human-Parsing-for-ACGPN/mhp_extension/detectron2/detectron2/layers/csrc/box_iou_rotated/box_iou_rotated_utils.h', 'code/Self-Correction-Human-Parsing-for-ACGPN/mhp_extension/detectron2/detectron2/layers/csrc/cuda_version.cu', 'code/Self-Correction-Human-Parsing-for-ACGPN/mhp_extension/detectron2/detectron2/layers/csrc/deformable/', 'code/Self-Correction-Human-Parsing-for-ACGPN/mhp_extension/detectron2/detectron2/layers/csrc/deformable/deform_conv.h', 'code/Self-Correction-Human-Parsing-for-ACGPN/mhp_extension/detectron2/detectron2/layers/csrc/deformable/deform_conv_cuda.cu', 'code/Self-Correction-Human-Parsing-for-ACGPN/mhp_extension/detectron2/detectron2/layers/csrc/deformable/deform_conv_cuda_kernel.cu', 'code/Self-Correction-Human-Parsing-for-ACGPN/mhp_extension/detectron2/detectron2/layers/csrc/nms_rotated/', 'code/Self-Correction-Human-Parsing-for-ACGPN/mhp_extension/detectron2/detectron2/layers/csrc/nms_rotated/nms_rotated.h', 'code/Self-Correction-Human-Parsing-for-ACGPN/mhp_extension/detectron2/detectron2/layers/csrc/nms_rotated/nms_rotated_cpu.cpp', 'code/Self-Correction-Human-Parsing-for-ACGPN/mhp_extension/detectron2/detectron2/layers/csrc/nms_rotated/nms_rotated_cuda.cu', 'code/Self-Correction-Human-Parsing-for-ACGPN/mhp_extension/detectron2/detectron2/layers/csrc/vision.cpp', 'code/Self-Correction-Human-Parsing-for-ACGPN/mhp_extension/detectron2/detectron2/layers/deform_conv.py', 'code/Self-Correction-Human-Parsing-for-ACGPN/mhp_extension/detectron2/detectron2/layers/mask_ops.py', 'code/Self-Correction-Human-Parsing-for-ACGPN/mhp_extension/detectron2/detectron2/layers/nms.py', 'code/Self-Correction-Human-Parsing-for-ACGPN/mhp_extension/detectron2/detectron2/layers/roi_align.py', 'code/Self-Correction-Human-Parsing-for-ACGPN/mhp_extension/detectron2/detectron2/layers/roi_align_rotated.py', 'code/Self-Correction-Human-Parsing-for-ACGPN/mhp_extension/detectron2/detectron2/layers/rotated_boxes.py', 'code/Self-Correction-Human-Parsing-for-ACGPN/mhp_extension/detectron2/detectron2/layers/shape_spec.py', 'code/Self-Correction-Human-Parsing-for-ACGPN/mhp_extension/detectron2/detectron2/layers/wrappers.py', 'code/Self-Correction-Human-Parsing-for-ACGPN/mhp_extension/detectron2/detectron2/model_zoo', 'code/Self-Correction-Human-Parsing-for-ACGPN/mhp_extension/detectron2/detectron2/model_zoo/__init__.py', 'code/Self-Correction-Human-Parsing-for-ACGPN/mhp_extension/detectron2/detectron2/model_zoo/model_zoo.py', 'code/Self-Correction-Human-Parsing-for-ACGPN/mhp_extension/detectron2/detectron2/modeling', 'code/Self-Correction-Human-Parsing-for-ACGPN/mhp_extension/detectron2/detectron2/modeling/__init__.py', 'code/Self-Correction-Human-Parsing-for-ACGPN/mhp_extension/detectron2/detectron2/modeling/anchor_generator.py', 'code/Self-Correction-Human-Parsing-for-ACGPN/mhp_extension/detectron2/detectron2/modeling/backbone', 'code/Self-Correction-Human-Parsing-for-ACGPN/mhp_extension/detectron2/detectron2/modeling/backbone/__init__.py', 'code/Self-Correction-Human-Parsing-for-ACGPN/mhp_extension/detectron2/detectron2/modeling/backbone/backbone.py', 'code/Self-Correction-Human-Parsing-for-ACGPN/mhp_extension/detectron2/detectron2/modeling/backbone/build.py', 'code/Self-Correction-Human-Parsing-for-ACGPN/mhp_extension/detectron2/detectron2/modeling/backbone/fpn.py', 'code/Self-Correction-Human-Parsing-for-ACGPN/mhp_extension/detectron2/detectron2/modeling/backbone/resnet.py', 'code/Self-Correction-Human-Parsing-for-ACGPN/mhp_extension/detectron2/detectron2/modeling/box_regression.py', 'code/Self-Correction-Human-Parsing-for-ACGPN/mhp_extension/detectron2/detectron2/modeling/matcher.py', 'code/Self-Correction-Human-Parsing-for-ACGPN/mhp_extension/detectron2/detectron2/modeling/meta_arch', 'code/Self-Correction-Human-Parsing-for-ACGPN/mhp_extension/detectron2/detectron2/modeling/meta_arch/__init__.py', 'code/Self-Correction-Human-Parsing-for-ACGPN/mhp_extension/detectron2/detectron2/modeling/meta_arch/build.py', 'code/Self-Correction-Human-Parsing-for-ACGPN/mhp_extension/detectron2/detectron2/modeling/meta_arch/panoptic_fpn.py', 'code/Self-Correction-Human-Parsing-for-ACGPN/mhp_extension/detectron2/detectron2/modeling/meta_arch/rcnn.py', 'code/Self-Correction-Human-Parsing-for-ACGPN/mhp_extension/detectron2/detectron2/modeling/meta_arch/retinanet.py', 'code/Self-Correction-Human-Parsing-for-ACGPN/mhp_extension/detectron2/detectron2/modeling/meta_arch/semantic_seg.py', 'code/Self-Correction-Human-Parsing-for-ACGPN/mhp_extension/detectron2/detectron2/modeling/poolers.py', 'code/Self-Correction-Human-Parsing-for-ACGPN/mhp_extension/detectron2/detectron2/modeling/postprocessing.py', 'code/Self-Correction-Human-Parsing-for-ACGPN/mhp_extension/detectron2/detectron2/modeling/proposal_generator/', 'code/Self-Correction-Human-Parsing-for-ACGPN/mhp_extension/detectron2/detectron2/modeling/proposal_generator/__init__.py', 'code/Self-Correction-Human-Parsing-for-ACGPN/mhp_extension/detectron2/detectron2/modeling/proposal_generator/build.py', 'code/Self-Correction-Human-Parsing-for-ACGPN/mhp_extension/detectron2/detectron2/modeling/proposal_generator/proposal_utils.py', 'code/Self-Correction-Human-Parsing-for-ACGPN/mhp_extension/detectron2/detectron2/modeling/proposal_generator/rpn.py', 'code/Self-Correction-Human-Parsing-for-ACGPN/mhp_extension/detectron2/detectron2/modeling/proposal_generator/rpn_outputs.py', 'code/Self-Correction-Human-Parsing-for-ACGPN/mhp_extension/detectron2/detectron2/modeling/proposal_generator/rrpn.py', 'code/Self-Correction-Human-Parsing-for-ACGPN/mhp_extension/detectron2/detectron2/modeling/roi_heads', 'code/Self-Correction-Human-Parsing-for-ACGPN/mhp_extension/detectron2/detectron2/modeling/roi_heads/__init__.py', 'code/Self-Correction-Human-Parsing-for-ACGPN/mhp_extension/detectron2/detectron2/modeling/roi_heads/box_head.py', 'code/Self-Correction-Human-Parsing-for-ACGPN/mhp_extension/detectron2/detectron2/modeling/roi_heads/cascade_rcnn.py', 'code/Self-Correction-Human-Parsing-for-ACGPN/mhp_extension/detectron2/detectron2/modeling/roi_heads/fast_rcnn.py', 'code/Self-Correction-Human-Parsing-for-ACGPN/mhp_extension/detectron2/detectron2/modeling/roi_heads/keypoint_head.py', 'code/Self-Correction-Human-Parsing-for-ACGPN/mhp_extension/detectron2/detectron2/modeling/roi_heads/mask_head.py', 'code/Self-Correction-Human-Parsing-for-ACGPN/mhp_extension/detectron2/detectron2/modeling/roi_heads/roi_heads.py', 'code/Self-Correction-Human-Parsing-for-ACGPN/mhp_extension/detectron2/detectron2/modeling/roi_heads/rotated_fast_rcnn.py', 'code/Self-Correction-Human-Parsing-for-ACGPN/mhp_extension/detectron2/detectron2/modeling/sampling.py', 'code/Self-Correction-Human-Parsing-for-ACGPN/mhp_extension/detectron2/detectron2/modeling/test_time_augmentation.py', 'code/Self-Correction-Human-Parsing-for-ACGPN/mhp_extension/detectron2/detectron2/solver', 'code/Self-Correction-Human-Parsing-for-ACGPN/mhp_extension/detectron2/detectron2/solver/__init__.py', 'code/Self-Correction-Human-Parsing-for-ACGPN/mhp_extension/detectron2/detectron2/solver/build.py', 'code/Self-Correction-Human-Parsing-for-ACGPN/mhp_extension/detectron2/detectron2/solver/lr_scheduler.py', 'code/Self-Correction-Human-Parsing-for-ACGPN/mhp_extension/detectron2/detectron2/structures', 'code/Self-Correction-Human-Parsing-for-ACGPN/mhp_extension/detectron2/detectron2/structures/__init__.py', 'code/Self-Correction-Human-Parsing-for-ACGPN/mhp_extension/detectron2/detectron2/structures/boxes.py', 'code/Self-Correction-Human-Parsing-for-ACGPN/mhp_extension/detectron2/detectron2/structures/image_list.py', 'code/Self-Correction-Human-Parsing-for-ACGPN/mhp_extension/detectron2/detectron2/structures/instances.py', 'code/Self-Correction-Human-Parsing-for-ACGPN/mhp_extension/detectron2/detectron2/structures/keypoints.py', 'code/Self-Correction-Human-Parsing-for-ACGPN/mhp_extension/detectron2/detectron2/structures/masks.py', 'code/Self-Correction-Human-Parsing-for-ACGPN/mhp_extension/detectron2/detectron2/structures/rotated_boxes.py', 'code/Self-Correction-Human-Parsing-for-ACGPN/mhp_extension/detectron2/detectron2/utils', 'code/Self-Correction-Human-Parsing-for-ACGPN/mhp_extension/detectron2/detectron2/utils/README.md', 'code/Self-Correction-Human-Parsing-for-ACGPN/mhp_extension/detectron2/detectron2/utils/__init__.py', 'code/Self-Correction-Human-Parsing-for-ACGPN/mhp_extension/detectron2/detectron2/utils/analysis.py', 'code/Self-Correction-Human-Parsing-for-ACGPN/mhp_extension/detectron2/detectron2/utils/collect_env.py', 'code/Self-Correction-Human-Parsing-for-ACGPN/mhp_extension/detectron2/detectron2/utils/colormap.py', 'code/Self-Correction-Human-Parsing-for-ACGPN/mhp_extension/detectron2/detectron2/utils/comm.py', 'code/Self-Correction-Human-Parsing-for-ACGPN/mhp_extension/detectron2/detectron2/utils/env.py', 'code/Self-Correction-Human-Parsing-for-ACGPN/mhp_extension/detectron2/detectron2/utils/events.py', 'code/Self-Correction-Human-Parsing-for-ACGPN/mhp_extension/detectron2/detectron2/utils/logger.py', 'code/Self-Correction-Human-Parsing-for-ACGPN/mhp_extension/detectron2/detectron2/utils/memory.py', 'code/Self-Correction-Human-Parsing-for-ACGPN/mhp_extension/detectron2/detectron2/utils/registry.py', 'code/Self-Correction-Human-Parsing-for-ACGPN/mhp_extension/detectron2/detectron2/utils/serialize.py', 'code/Self-Correction-Human-Parsing-for-ACGPN/mhp_extension/detectron2/detectron2/utils/video_visualizer.py', 'code/Self-Correction-Human-Parsing-for-ACGPN/mhp_extension/detectron2/detectron2/utils/visualizer.py', 'code/Self-Correction-Human-Parsing-for-ACGPN/mhp_extension/detectron2/dev', 'code/Self-Correction-Human-Parsing-for-ACGPN/mhp_extension/detectron2/dev/README.md', 'code/Self-Correction-Human-Parsing-for-ACGPN/mhp_extension/detectron2/dev/linter.sh', 'code/Self-Correction-Human-Parsing-for-ACGPN/mhp_extension/detectron2/dev/packaging', 'code/Self-Correction-Human-Parsing-for-ACGPN/mhp_extension/detectron2/dev/packaging/README.md', 'code/Self-Correction-Human-Parsing-for-ACGPN/mhp_extension/detectron2/dev/packaging/build_all_wheels.sh', 'code/Self-Correction-Human-Parsing-for-ACGPN/mhp_extension/detectron2/dev/packaging/build_wheel.sh', 'code/Self-Correction-Human-Parsing-for-ACGPN/mhp_extension/detectron2/dev/packaging/gen_wheel_index.sh', 'code/Self-Correction-Human-Parsing-for-ACGPN/mhp_extension/detectron2/dev/packaging/pkg_helpers.bash', 'code/Self-Correction-Human-Parsing-for-ACGPN/mhp_extension/detectron2/dev/parse_results.sh', 'code/Self-Correction-Human-Parsing-for-ACGPN/mhp_extension/detectron2/dev/run_inference_tests.sh', 'code/Self-Correction-Human-Parsing-for-ACGPN/mhp_extension/detectron2/dev/run_instant_tests.sh', 'code/Self-Correction-Human-Parsing-for-ACGPN/mhp_extension/detectron2/docker', 'code/Self-Correction-Human-Parsing-for-ACGPN/mhp_extension/detectron2/docker/Dockerfile', 'code/Self-Correction-Human-Parsing-for-ACGPN/mhp_extension/detectron2/docker/Dockerfile-circleci', 'code/Self-Correction-Human-Parsing-for-ACGPN/mhp_extension/detectron2/docker/README.md', 'code/Self-Correction-Human-Parsing-for-ACGPN/mhp_extension/detectron2/docker/docker-compose.yml', 'code/Self-Correction-Human-Parsing-for-ACGPN/mhp_extension/detectron2/docs', 'code/Self-Correction-Human-Parsing-for-ACGPN/mhp_extension/detectron2/docs/.gitignore', 'code/Self-Correction-Human-Parsing-for-ACGPN/mhp_extension/detectron2/docs/Makefile', 'code/Self-Correction-Human-Parsing-for-ACGPN/mhp_extension/detectron2/docs/README.md', 'code/Self-Correction-Human-Parsing-for-ACGPN/mhp_extension/detectron2/docs/conf.py', 'code/Self-Correction-Human-Parsing-for-ACGPN/mhp_extension/detectron2/docs/index.rst', 'code/Self-Correction-Human-Parsing-for-ACGPN/mhp_extension/detectron2/docs/modules', 'code/Self-Correction-Human-Parsing-for-ACGPN/mhp_extension/detectron2/docs/modules/checkpoint.rst', 'code/Self-Correction-Human-Parsing-for-ACGPN/mhp_extension/detectron2/docs/modules/config.rst', 'code/Self-Correction-Human-Parsing-for-ACGPN/mhp_extension/detectron2/docs/modules/data.rst', 'code/Self-Correction-Human-Parsing-for-ACGPN/mhp_extension/detectron2/docs/modules/engine.rst', 'code/Self-Correction-Human-Parsing-for-ACGPN/mhp_extension/detectron2/docs/modules/evaluation.rst', 'code/Self-Correction-Human-Parsing-for-ACGPN/mhp_extension/detectron2/docs/modules/export.rst', 'code/Self-Correction-Human-Parsing-for-ACGPN/mhp_extension/detectron2/docs/modules/index.rst', 'code/Self-Correction-Human-Parsing-for-ACGPN/mhp_extension/detectron2/docs/modules/layers.rst', 'code/Self-Correction-Human-Parsing-for-ACGPN/mhp_extension/detectron2/docs/modules/model_zoo.rst', 'code/Self-Correction-Human-Parsing-for-ACGPN/mhp_extension/detectron2/docs/modules/modeling.rst', 'code/Self-Correction-Human-Parsing-for-ACGPN/mhp_extension/detectron2/docs/modules/solver.rst', 'code/Self-Correction-Human-Parsing-for-ACGPN/mhp_extension/detectron2/docs/modules/structures.rst', 'code/Self-Correction-Human-Parsing-for-ACGPN/mhp_extension/detectron2/docs/modules/utils.rst', 'code/Self-Correction-Human-Parsing-for-ACGPN/mhp_extension/detectron2/docs/notes', 'code/Self-Correction-Human-Parsing-for-ACGPN/mhp_extension/detectron2/docs/notes/benchmarks.md', 'code/Self-Correction-Human-Parsing-for-ACGPN/mhp_extension/detectron2/docs/notes/changelog.md', 'code/Self-Correction-Human-Parsing-for-ACGPN/mhp_extension/detectron2/docs/notes/compatibility.md', 'code/Self-Correction-Human-Parsing-for-ACGPN/mhp_extension/detectron2/docs/notes/contributing.md', 'code/Self-Correction-Human-Parsing-for-ACGPN/mhp_extension/detectron2/docs/notes/index.rst', 'code/Self-Correction-Human-Parsing-for-ACGPN/mhp_extension/detectron2/docs/tutorials', 'code/Self-Correction-Human-Parsing-for-ACGPN/mhp_extension/detectron2/docs/tutorials/README.md', 'code/Self-Correction-Human-Parsing-for-ACGPN/mhp_extension/detectron2/docs/tutorials/builtin_datasets.md', 'code/Self-Correction-Human-Parsing-for-ACGPN/mhp_extension/detectron2/docs/tutorials/configs.md', 'code/Self-Correction-Human-Parsing-for-ACGPN/mhp_extension/detectron2/docs/tutorials/data_loading.md', 'code/Self-Correction-Human-Parsing-for-ACGPN/mhp_extension/detectron2/docs/tutorials/datasets.md', 'code/Self-Correction-Human-Parsing-for-ACGPN/mhp_extension/detectron2/docs/tutorials/deployment.md', 'code/Self-Correction-Human-Parsing-for-ACGPN/mhp_extension/detectron2/docs/tutorials/evaluation.md', 'code/Self-Correction-Human-Parsing-for-ACGPN/mhp_extension/detectron2/docs/tutorials/extend.md', 'code/Self-Correction-Human-Parsing-for-ACGPN/mhp_extension/detectron2/docs/tutorials/getting_started.md', 'code/Self-Correction-Human-Parsing-for-ACGPN/mhp_extension/detectron2/docs/tutorials/index.rst', 'code/Self-Correction-Human-Parsing-for-ACGPN/mhp_extension/detectron2/docs/tutorials/install.md', 'code/Self-Correction-Human-Parsing-for-ACGPN/mhp_extension/detectron2/docs/tutorials/models.md', 'code/Self-Correction-Human-Parsing-for-ACGPN/mhp_extension/detectron2/docs/tutorials/training.md', 'code/Self-Correction-Human-Parsing-for-ACGPN/mhp_extension/detectron2/docs/tutorials/write-models.md', 'code/Self-Correction-Human-Parsing-for-ACGPN/mhp_extension/detectron2/projects', 'code/Self-Correction-Human-Parsing-for-ACGPN/mhp_extension/detectron2/projects/DensePose', 'code/Self-Correction-Human-Parsing-for-ACGPN/mhp_extension/detectron2/projects/DensePose/README.md', 'code/Self-Correction-Human-Parsing-for-ACGPN/mhp_extension/detectron2/projects/DensePose/apply_net.py', 'code/Self-Correction-Human-Parsing-for-ACGPN/mhp_extension/detectron2/projects/DensePose/configs', 'code/Self-Correction-Human-Parsing-for-ACGPN/mhp_extension/detectron2/projects/DensePose/configs/Base-DensePose-RCNN-FPN.yaml', 'code/Self-Correction-Human-Parsing-for-ACGPN/mhp_extension/detectron2/projects/DensePose/configs/densepose_rcnn_R_101_FPN_DL_WC1_s1x.yaml', 'code/Self-Correction-Human-Parsing-for-ACGPN/mhp_extension/detectron2/projects/DensePose/configs/densepose_rcnn_R_101_FPN_DL_WC2_s1x.yaml', 'code/Self-Correction-Human-Parsing-for-ACGPN/mhp_extension/detectron2/projects/DensePose/configs/densepose_rcnn_R_101_FPN_DL_s1x.yaml', 'code/Self-Correction-Human-Parsing-for-ACGPN/mhp_extension/detectron2/projects/DensePose/configs/densepose_rcnn_R_101_FPN_WC1_s1x.yaml', 'code/Self-Correction-Human-Parsing-for-ACGPN/mhp_extension/detectron2/projects/DensePose/configs/densepose_rcnn_R_101_FPN_WC2_s1x.yaml', 'code/Self-Correction-Human-Parsing-for-ACGPN/mhp_extension/detectron2/projects/DensePose/configs/densepose_rcnn_R_101_FPN_s1x.yaml', 'code/Self-Correction-Human-Parsing-for-ACGPN/mhp_extension/detectron2/projects/DensePose/configs/densepose_rcnn_R_101_FPN_s1x_legacy.yaml', 'code/Self-Correction-Human-Parsing-for-ACGPN/mhp_extension/detectron2/projects/DensePose/configs/densepose_rcnn_R_50_FPN_DL_WC1_s1x.yaml', 'code/Self-Correction-Human-Parsing-for-ACGPN/mhp_extension/detectron2/projects/DensePose/configs/densepose_rcnn_R_50_FPN_DL_WC2_s1x.yaml', 'code/Self-Correction-Human-Parsing-for-ACGPN/mhp_extension/detectron2/projects/DensePose/configs/densepose_rcnn_R_50_FPN_DL_s1x.yaml', 'code/Self-Correction-Human-Parsing-for-ACGPN/mhp_extension/detectron2/projects/DensePose/configs/densepose_rcnn_R_50_FPN_WC1_s1x.yaml', 'code/Self-Correction-Human-Parsing-for-ACGPN/mhp_extension/detectron2/projects/DensePose/configs/densepose_rcnn_R_50_FPN_WC2_s1x.yaml', 'code/Self-Correction-Human-Parsing-for-ACGPN/mhp_extension/detectron2/projects/DensePose/configs/densepose_rcnn_R_50_FPN_s1x.yaml', 'code/Self-Correction-Human-Parsing-for-ACGPN/mhp_extension/detectron2/projects/DensePose/configs/densepose_rcnn_R_50_FPN_s1x_legacy.yaml', 'code/Self-Correction-Human-Parsing-for-ACGPN/mhp_extension/detectron2/projects/DensePose/configs/evolution/', 'code/Self-Correction-Human-Parsing-for-ACGPN/mhp_extension/detectron2/projects/DensePose/configs/evolution/Base-RCNN-FPN-MC.yaml', 'code/Self-Correction-Human-Parsing-for-ACGPN/mhp_extension/detectron2/projects/DensePose/configs/evolution/faster_rcnn_R_50_FPN_1x_MC.yaml', 'code/Self-Correction-Human-Parsing-for-ACGPN/mhp_extension/detectron2/projects/DensePose/configs/quick_schedules/', 'code/Self-Correction-Human-Parsing-for-ACGPN/mhp_extension/detectron2/projects/DensePose/configs/quick_schedules/densepose_rcnn_R_50_FPN_DL_instant_test.yaml', 'code/Self-Correction-Human-Parsing-for-ACGPN/mhp_extension/detectron2/projects/DensePose/configs/quick_schedules/densepose_rcnn_R_50_FPN_TTA_inference_acc_test.yaml', 'code/Self-Correction-Human-Parsing-for-ACGPN/mhp_extension/detectron2/projects/DensePose/configs/quick_schedules/densepose_rcnn_R_50_FPN_WC1_instant_test.yaml', 'code/Self-Correction-Human-Parsing-for-ACGPN/mhp_extension/detectron2/projects/DensePose/configs/quick_schedules/densepose_rcnn_R_50_FPN_WC2_instant_test.yaml', 'code/Self-Correction-Human-Parsing-for-ACGPN/mhp_extension/detectron2/projects/DensePose/configs/quick_schedules/densepose_rcnn_R_50_FPN_inference_acc_test.yaml', 'code/Self-Correction-Human-Parsing-for-ACGPN/mhp_extension/detectron2/projects/DensePose/configs/quick_schedules/densepose_rcnn_R_50_FPN_instant_test.yaml', 'code/Self-Correction-Human-Parsing-for-ACGPN/mhp_extension/detectron2/projects/DensePose/configs/quick_schedules/densepose_rcnn_R_50_FPN_training_acc_test.yaml', 'code/Self-Correction-Human-Parsing-for-ACGPN/mhp_extension/detectron2/projects/DensePose/densepose', 'code/Self-Correction-Human-Parsing-for-ACGPN/mhp_extension/detectron2/projects/DensePose/densepose/__init__.py', 'code/Self-Correction-Human-Parsing-for-ACGPN/mhp_extension/detectron2/projects/DensePose/densepose/config.py', 'code/Self-Correction-Human-Parsing-for-ACGPN/mhp_extension/detectron2/projects/DensePose/densepose/densepose_coco_evaluation.py', 'code/Self-Correction-Human-Parsing-for-ACGPN/mhp_extension/detectron2/projects/DensePose/densepose/densepose_head.py', 'code/Self-Correction-Human-Parsing-for-ACGPN/mhp_extension/detectron2/projects/DensePose/densepose/evaluator.py', 'code/Self-Correction-Human-Parsing-for-ACGPN/mhp_extension/detectron2/projects/DensePose/densepose/modeling/', 'code/Self-Correction-Human-Parsing-for-ACGPN/mhp_extension/detectron2/projects/DensePose/densepose/modeling/test_time_augmentation.py', 'code/Self-Correction-Human-Parsing-for-ACGPN/mhp_extension/detectron2/projects/DensePose/densepose/roi_head.py', 'code/Self-Correction-Human-Parsing-for-ACGPN/mhp_extension/detectron2/projects/DensePose/densepose/utils/', 'code/Self-Correction-Human-Parsing-for-ACGPN/mhp_extension/detectron2/projects/DensePose/densepose/utils/dbhelper.py', 'code/Self-Correction-Human-Parsing-for-ACGPN/mhp_extension/detectron2/projects/DensePose/densepose/utils/logger.py', 'code/Self-Correction-Human-Parsing-for-ACGPN/mhp_extension/detectron2/projects/DensePose/densepose/utils/transform.py', 'code/Self-Correction-Human-Parsing-for-ACGPN/mhp_extension/detectron2/projects/DensePose/densepose/vis/', 'code/Self-Correction-Human-Parsing-for-ACGPN/mhp_extension/detectron2/projects/DensePose/densepose/vis/base.py', 'code/Self-Correction-Human-Parsing-for-ACGPN/mhp_extension/detectron2/projects/DensePose/densepose/vis/bounding_box.py', 'code/Self-Correction-Human-Parsing-for-ACGPN/mhp_extension/detectron2/projects/DensePose/densepose/vis/densepose.py', 'code/Self-Correction-Human-Parsing-for-ACGPN/mhp_extension/detectron2/projects/DensePose/densepose/vis/extractor.py', 'code/Self-Correction-Human-Parsing-for-ACGPN/mhp_extension/detectron2/projects/DensePose/dev', 'code/Self-Correction-Human-Parsing-for-ACGPN/mhp_extension/detectron2/projects/DensePose/dev/README.md', 'code/Self-Correction-Human-Parsing-for-ACGPN/mhp_extension/detectron2/projects/DensePose/dev/run_inference_tests.sh', 'code/Self-Correction-Human-Parsing-for-ACGPN/mhp_extension/detectron2/projects/DensePose/dev/run_instant_tests.sh', 'code/Self-Correction-Human-Parsing-for-ACGPN/mhp_extension/detectron2/projects/DensePose/doc', 'code/Self-Correction-Human-Parsing-for-ACGPN/mhp_extension/detectron2/projects/DensePose/doc/GETTING_STARTED.md', 'code/Self-Correction-Human-Parsing-for-ACGPN/mhp_extension/detectron2/projects/DensePose/doc/MODEL_ZOO.md', 'code/Self-Correction-Human-Parsing-for-ACGPN/mhp_extension/detectron2/projects/DensePose/doc/TOOL_APPLY_NET.md', 'code/Self-Correction-Human-Parsing-for-ACGPN/mhp_extension/detectron2/projects/DensePose/doc/TOOL_QUERY_DB.md', 'code/Self-Correction-Human-Parsing-for-ACGPN/mhp_extension/detectron2/projects/DensePose/query_db.py', 'code/Self-Correction-Human-Parsing-for-ACGPN/mhp_extension/detectron2/projects/DensePose/tests', 'code/Self-Correction-Human-Parsing-for-ACGPN/mhp_extension/detectron2/projects/DensePose/tests/common.py', 'code/Self-Correction-Human-Parsing-for-ACGPN/mhp_extension/detectron2/projects/DensePose/tests/test_model_e2e.py', 'code/Self-Correction-Human-Parsing-for-ACGPN/mhp_extension/detectron2/projects/DensePose/tests/test_setup.py', 'code/Self-Correction-Human-Parsing-for-ACGPN/mhp_extension/detectron2/projects/DensePose/tests/test_structures.py', 'code/Self-Correction-Human-Parsing-for-ACGPN/mhp_extension/detectron2/projects/DensePose/train_net.py', 'code/Self-Correction-Human-Parsing-for-ACGPN/mhp_extension/detectron2/projects/PointRend', 'code/Self-Correction-Human-Parsing-for-ACGPN/mhp_extension/detectron2/projects/PointRend/README.md', 'code/Self-Correction-Human-Parsing-for-ACGPN/mhp_extension/detectron2/projects/PointRend/configs', 'code/Self-Correction-Human-Parsing-for-ACGPN/mhp_extension/detectron2/projects/PointRend/configs/InstanceSegmentation/', 'code/Self-Correction-Human-Parsing-for-ACGPN/mhp_extension/detectron2/projects/PointRend/configs/InstanceSegmentation/Base-PointRend-RCNN-FPN.yaml', 'code/Self-Correction-Human-Parsing-for-ACGPN/mhp_extension/detectron2/projects/PointRend/configs/InstanceSegmentation/pointrend_rcnn_R_50_FPN_1x_cityscapes.yaml', 'code/Self-Correction-Human-Parsing-for-ACGPN/mhp_extension/detectron2/projects/PointRend/configs/InstanceSegmentation/pointrend_rcnn_R_50_FPN_1x_coco.yaml', 'code/Self-Correction-Human-Parsing-for-ACGPN/mhp_extension/detectron2/projects/PointRend/configs/InstanceSegmentation/pointrend_rcnn_R_50_FPN_3x_coco.yaml', 'code/Self-Correction-Human-Parsing-for-ACGPN/mhp_extension/detectron2/projects/PointRend/configs/InstanceSegmentation/pointrend_rcnn_R_50_FPN_3x_parsing.yaml', 'code/Self-Correction-Human-Parsing-for-ACGPN/mhp_extension/detectron2/projects/PointRend/configs/InstanceSegmentation/pointrend_rcnn_X_101_32x8d_FPN_3x_parsing.yaml', 'code/Self-Correction-Human-Parsing-for-ACGPN/mhp_extension/detectron2/projects/PointRend/configs/SemanticSegmentation/', 'code/Self-Correction-Human-Parsing-for-ACGPN/mhp_extension/detectron2/projects/PointRend/configs/SemanticSegmentation/Base-PointRend-Semantic-FPN.yaml', 'code/Self-Correction-Human-Parsing-for-ACGPN/mhp_extension/detectron2/projects/PointRend/configs/SemanticSegmentation/pointrend_semantic_R_101_FPN_1x_cityscapes.yaml', 'code/Self-Correction-Human-Parsing-for-ACGPN/mhp_extension/detectron2/projects/PointRend/configs/SemanticSegmentation/pointrend_semantic_R_50_FPN_1x_coco.yaml', 'code/Self-Correction-Human-Parsing-for-ACGPN/mhp_extension/detectron2/projects/PointRend/finetune_net.py', 'code/Self-Correction-Human-Parsing-for-ACGPN/mhp_extension/detectron2/projects/PointRend/logs', 'code/Self-Correction-Human-Parsing-for-ACGPN/mhp_extension/detectron2/projects/PointRend/logs/hadoop.kylin.libdfs.log', 'code/Self-Correction-Human-Parsing-for-ACGPN/mhp_extension/detectron2/projects/PointRend/point_rend', 'code/Self-Correction-Human-Parsing-for-ACGPN/mhp_extension/detectron2/projects/PointRend/point_rend/__init__.py', 'code/Self-Correction-Human-Parsing-for-ACGPN/mhp_extension/detectron2/projects/PointRend/point_rend/coarse_mask_head.py', 'code/Self-Correction-Human-Parsing-for-ACGPN/mhp_extension/detectron2/projects/PointRend/point_rend/color_augmentation.py', 'code/Self-Correction-Human-Parsing-for-ACGPN/mhp_extension/detectron2/projects/PointRend/point_rend/config.py', 'code/Self-Correction-Human-Parsing-for-ACGPN/mhp_extension/detectron2/projects/PointRend/point_rend/dataset_mapper.py', 'code/Self-Correction-Human-Parsing-for-ACGPN/mhp_extension/detectron2/projects/PointRend/point_rend/point_features.py', 'code/Self-Correction-Human-Parsing-for-ACGPN/mhp_extension/detectron2/projects/PointRend/point_rend/point_head.py', 'code/Self-Correction-Human-Parsing-for-ACGPN/mhp_extension/detectron2/projects/PointRend/point_rend/roi_heads.py', 'code/Self-Correction-Human-Parsing-for-ACGPN/mhp_extension/detectron2/projects/PointRend/point_rend/semantic_seg.py', 'code/Self-Correction-Human-Parsing-for-ACGPN/mhp_extension/detectron2/projects/PointRend/run.sh', 'code/Self-Correction-Human-Parsing-for-ACGPN/mhp_extension/detectron2/projects/PointRend/train_net.py', 'code/Self-Correction-Human-Parsing-for-ACGPN/mhp_extension/detectron2/projects/README.md', 'code/Self-Correction-Human-Parsing-for-ACGPN/mhp_extension/detectron2/projects/TensorMask', 'code/Self-Correction-Human-Parsing-for-ACGPN/mhp_extension/detectron2/projects/TensorMask/README.md', 'code/Self-Correction-Human-Parsing-for-ACGPN/mhp_extension/detectron2/projects/TensorMask/configs', 'code/Self-Correction-Human-Parsing-for-ACGPN/mhp_extension/detectron2/projects/TensorMask/configs/Base-TensorMask.yaml', 'code/Self-Correction-Human-Parsing-for-ACGPN/mhp_extension/detectron2/projects/TensorMask/configs/tensormask_R_50_FPN_1x.yaml', 'code/Self-Correction-Human-Parsing-for-ACGPN/mhp_extension/detectron2/projects/TensorMask/configs/tensormask_R_50_FPN_6x.yaml', 'code/Self-Correction-Human-Parsing-for-ACGPN/mhp_extension/detectron2/projects/TensorMask/setup.py', 'code/Self-Correction-Human-Parsing-for-ACGPN/mhp_extension/detectron2/projects/TensorMask/tensormask/', 'code/Self-Correction-Human-Parsing-for-ACGPN/mhp_extension/detectron2/projects/TensorMask/tensormask/__init__.py', 'code/Self-Correction-Human-Parsing-for-ACGPN/mhp_extension/detectron2/projects/TensorMask/tensormask/arch.py', 'code/Self-Correction-Human-Parsing-for-ACGPN/mhp_extension/detectron2/projects/TensorMask/tensormask/config.py', 'code/Self-Correction-Human-Parsing-for-ACGPN/mhp_extension/detectron2/projects/TensorMask/tensormask/layers/', 'code/Self-Correction-Human-Parsing-for-ACGPN/mhp_extension/detectron2/projects/TensorMask/tensormask/layers/__init__.py', 'code/Self-Correction-Human-Parsing-for-ACGPN/mhp_extension/detectron2/projects/TensorMask/tensormask/layers/csrc/', 'code/Self-Correction-Human-Parsing-for-ACGPN/mhp_extension/detectron2/projects/TensorMask/tensormask/layers/csrc/SwapAlign2Nat/', 'code/Self-Correction-Human-Parsing-for-ACGPN/mhp_extension/detectron2/projects/TensorMask/tensormask/layers/csrc/SwapAlign2Nat/SwapAlign2Nat.h', 'code/Self-Correction-Human-Parsing-for-ACGPN/mhp_extension/detectron2/projects/TensorMask/tensormask/layers/csrc/SwapAlign2Nat/SwapAlign2Nat_cuda.cu', 'code/Self-Correction-Human-Parsing-for-ACGPN/mhp_extension/detectron2/projects/TensorMask/tensormask/layers/csrc/vision.cpp', 'code/Self-Correction-Human-Parsing-for-ACGPN/mhp_extension/detectron2/projects/TensorMask/tensormask/layers/swap_align2nat.py', 'code/Self-Correction-Human-Parsing-for-ACGPN/mhp_extension/detectron2/projects/TensorMask/tests', 'code/Self-Correction-Human-Parsing-for-ACGPN/mhp_extension/detectron2/projects/TensorMask/tests/__init__.py', 'code/Self-Correction-Human-Parsing-for-ACGPN/mhp_extension/detectron2/projects/TensorMask/tests/test_swap_align2nat.py', 'code/Self-Correction-Human-Parsing-for-ACGPN/mhp_extension/detectron2/projects/TensorMask/train_net.py', 'code/Self-Correction-Human-Parsing-for-ACGPN/mhp_extension/detectron2/projects/TridentNet', 'code/Self-Correction-Human-Parsing-for-ACGPN/mhp_extension/detectron2/projects/TridentNet/README.md', 'code/Self-Correction-Human-Parsing-for-ACGPN/mhp_extension/detectron2/projects/TridentNet/configs', 'code/Self-Correction-Human-Parsing-for-ACGPN/mhp_extension/detectron2/projects/TridentNet/configs/Base-TridentNet-Fast-C4.yaml', 'code/Self-Correction-Human-Parsing-for-ACGPN/mhp_extension/detectron2/projects/TridentNet/configs/tridentnet_fast_R_101_C4_3x.yaml', 'code/Self-Correction-Human-Parsing-for-ACGPN/mhp_extension/detectron2/projects/TridentNet/configs/tridentnet_fast_R_50_C4_1x.yaml', 'code/Self-Correction-Human-Parsing-for-ACGPN/mhp_extension/detectron2/projects/TridentNet/configs/tridentnet_fast_R_50_C4_3x.yaml', 'code/Self-Correction-Human-Parsing-for-ACGPN/mhp_extension/detectron2/projects/TridentNet/train_net.py', 'code/Self-Correction-Human-Parsing-for-ACGPN/mhp_extension/detectron2/projects/TridentNet/tridentnet/', 'code/Self-Correction-Human-Parsing-for-ACGPN/mhp_extension/detectron2/projects/TridentNet/tridentnet/__init__.py', 'code/Self-Correction-Human-Parsing-for-ACGPN/mhp_extension/detectron2/projects/TridentNet/tridentnet/config.py', 'code/Self-Correction-Human-Parsing-for-ACGPN/mhp_extension/detectron2/projects/TridentNet/tridentnet/trident_backbone.py', 'code/Self-Correction-Human-Parsing-for-ACGPN/mhp_extension/detectron2/projects/TridentNet/tridentnet/trident_conv.py', 'code/Self-Correction-Human-Parsing-for-ACGPN/mhp_extension/detectron2/projects/TridentNet/tridentnet/trident_rcnn.py', 'code/Self-Correction-Human-Parsing-for-ACGPN/mhp_extension/detectron2/projects/TridentNet/tridentnet/trident_rpn.py', 'code/Self-Correction-Human-Parsing-for-ACGPN/mhp_extension/detectron2/setup.cfg', 'code/Self-Correction-Human-Parsing-for-ACGPN/mhp_extension/detectron2/setup.py', 'code/Self-Correction-Human-Parsing-for-ACGPN/mhp_extension/detectron2/tests', 'code/Self-Correction-Human-Parsing-for-ACGPN/mhp_extension/detectron2/tests/README.md', 'code/Self-Correction-Human-Parsing-for-ACGPN/mhp_extension/detectron2/tests/__init__.py', 'code/Self-Correction-Human-Parsing-for-ACGPN/mhp_extension/detectron2/tests/layers', 'code/Self-Correction-Human-Parsing-for-ACGPN/mhp_extension/detectron2/tests/layers/__init__.py', 'code/Self-Correction-Human-Parsing-for-ACGPN/mhp_extension/detectron2/tests/layers/test_mask_ops.py', 'code/Self-Correction-Human-Parsing-for-ACGPN/mhp_extension/detectron2/tests/layers/test_nms_rotated.py', 'code/Self-Correction-Human-Parsing-for-ACGPN/mhp_extension/detectron2/tests/layers/test_roi_align.py', 'code/Self-Correction-Human-Parsing-for-ACGPN/mhp_extension/detectron2/tests/layers/test_roi_align_rotated.py', 'code/Self-Correction-Human-Parsing-for-ACGPN/mhp_extension/detectron2/tests/modeling', 'code/Self-Correction-Human-Parsing-for-ACGPN/mhp_extension/detectron2/tests/modeling/__init__.py', 'code/Self-Correction-Human-Parsing-for-ACGPN/mhp_extension/detectron2/tests/modeling/test_anchor_generator.py', 'code/Self-Correction-Human-Parsing-for-ACGPN/mhp_extension/detectron2/tests/modeling/test_box2box_transform.py', 'code/Self-Correction-Human-Parsing-for-ACGPN/mhp_extension/detectron2/tests/modeling/test_fast_rcnn.py', 'code/Self-Correction-Human-Parsing-for-ACGPN/mhp_extension/detectron2/tests/modeling/test_model_e2e.py', 'code/Self-Correction-Human-Parsing-for-ACGPN/mhp_extension/detectron2/tests/modeling/test_roi_heads.py', 'code/Self-Correction-Human-Parsing-for-ACGPN/mhp_extension/detectron2/tests/modeling/test_roi_pooler.py', 'code/Self-Correction-Human-Parsing-for-ACGPN/mhp_extension/detectron2/tests/modeling/test_rpn.py', 'code/Self-Correction-Human-Parsing-for-ACGPN/mhp_extension/detectron2/tests/structures', 'code/Self-Correction-Human-Parsing-for-ACGPN/mhp_extension/detectron2/tests/structures/__init__.py', 'code/Self-Correction-Human-Parsing-for-ACGPN/mhp_extension/detectron2/tests/structures/test_boxes.py', 'code/Self-Correction-Human-Parsing-for-ACGPN/mhp_extension/detectron2/tests/structures/test_imagelist.py', 'code/Self-Correction-Human-Parsing-for-ACGPN/mhp_extension/detectron2/tests/structures/test_instances.py', 'code/Self-Correction-Human-Parsing-for-ACGPN/mhp_extension/detectron2/tests/structures/test_rotated_boxes.py', 'code/Self-Correction-Human-Parsing-for-ACGPN/mhp_extension/detectron2/tests/test_checkpoint.py', 'code/Self-Correction-Human-Parsing-for-ACGPN/mhp_extension/detectron2/tests/test_config.py', 'code/Self-Correction-Human-Parsing-for-ACGPN/mhp_extension/detectron2/tests/test_export_caffe2.py', 'code/Self-Correction-Human-Parsing-for-ACGPN/mhp_extension/detectron2/tests/test_model_analysis.py', 'code/Self-Correction-Human-Parsing-for-ACGPN/mhp_extension/detectron2/tests/test_model_zoo.py', 'code/Self-Correction-Human-Parsing-for-ACGPN/mhp_extension/detectron2/tests/test_visualizer.py', 'code/Self-Correction-Human-Parsing-for-ACGPN/mhp_extension/detectron2/tools', 'code/Self-Correction-Human-Parsing-for-ACGPN/mhp_extension/detectron2/tools/README.md', 'code/Self-Correction-Human-Parsing-for-ACGPN/mhp_extension/detectron2/tools/analyze_model.py', 'code/Self-Correction-Human-Parsing-for-ACGPN/mhp_extension/detectron2/tools/benchmark.py', 'code/Self-Correction-Human-Parsing-for-ACGPN/mhp_extension/detectron2/tools/convert-torchvision-to-d2.py', 'code/Self-Correction-Human-Parsing-for-ACGPN/mhp_extension/detectron2/tools/deploy', 'code/Self-Correction-Human-Parsing-for-ACGPN/mhp_extension/detectron2/tools/deploy/README.md', 'code/Self-Correction-Human-Parsing-for-ACGPN/mhp_extension/detectron2/tools/deploy/caffe2_converter.py', 'code/Self-Correction-Human-Parsing-for-ACGPN/mhp_extension/detectron2/tools/deploy/caffe2_mask_rcnn.cpp', 'code/Self-Correction-Human-Parsing-for-ACGPN/mhp_extension/detectron2/tools/deploy/torchscript_traced_mask_rcnn.cpp', 'code/Self-Correction-Human-Parsing-for-ACGPN/mhp_extension/detectron2/tools/finetune_net.py', 'code/Self-Correction-Human-Parsing-for-ACGPN/mhp_extension/detectron2/tools/inference.sh', 'code/Self-Correction-Human-Parsing-for-ACGPN/mhp_extension/detectron2/tools/plain_train_net.py', 'code/Self-Correction-Human-Parsing-for-ACGPN/mhp_extension/detectron2/tools/run.sh', 'code/Self-Correction-Human-Parsing-for-ACGPN/mhp_extension/detectron2/tools/train_net.py', 'code/Self-Correction-Human-Parsing-for-ACGPN/mhp_extension/detectron2/tools/visualize_data.py', 'code/Self-Correction-Human-Parsing-for-ACGPN/mhp_extension/detectron2/tools/visualize_json_results.py', 'code/Self-Correction-Human-Parsing-for-ACGPN/mhp_extension/global_local_parsing', 'code/Self-Correction-Human-Parsing-for-ACGPN/mhp_extension/global_local_parsing/global_local_datasets.py', 'code/Self-Correction-Human-Parsing-for-ACGPN/mhp_extension/global_local_parsing/global_local_evaluate.py', 'code/Self-Correction-Human-Parsing-for-ACGPN/mhp_extension/global_local_parsing/global_local_train.py', 'code/Self-Correction-Human-Parsing-for-ACGPN/mhp_extension/global_local_parsing/make_id_list.py', 'code/Self-Correction-Human-Parsing-for-ACGPN/mhp_extension/logits_fusion.py', 'code/Self-Correction-Human-Parsing-for-ACGPN/mhp_extension/make_crop_and_mask_w_mask_nms.py', 'code/Self-Correction-Human-Parsing-for-ACGPN/mhp_extension/scripts', 'code/Self-Correction-Human-Parsing-for-ACGPN/mhp_extension/scripts/make_coco_style_annotation.sh', 'code/Self-Correction-Human-Parsing-for-ACGPN/mhp_extension/scripts/make_crop.sh', 'code/Self-Correction-Human-Parsing-for-ACGPN/mhp_extension/scripts/parsing_fusion.sh', 'code/Self-Correction-Human-Parsing-for-ACGPN/modules', 'code/Self-Correction-Human-Parsing-for-ACGPN/modules/__init__.py', 'code/Self-Correction-Human-Parsing-for-ACGPN/modules/bn.py', 'code/Self-Correction-Human-Parsing-for-ACGPN/modules/deeplab.py', 'code/Self-Correction-Human-Parsing-for-ACGPN/modules/dense.py', 'code/Self-Correction-Human-Parsing-for-ACGPN/modules/functions.py', 'code/Self-Correction-Human-Parsing-for-ACGPN/modules/misc.py', 'code/Self-Correction-Human-Parsing-for-ACGPN/modules/residual.py', 'code/Self-Correction-Human-Parsing-for-ACGPN/modules/src', 'code/Self-Correction-Human-Parsing-for-ACGPN/modules/src/checks.h', 'code/Self-Correction-Human-Parsing-for-ACGPN/modules/src/inplace_abn.cpp', 'code/Self-Correction-Human-Parsing-for-ACGPN/modules/src/inplace_abn.h', 'code/Self-Correction-Human-Parsing-for-ACGPN/modules/src/inplace_abn_cpu.cpp', 'code/Self-Correction-Human-Parsing-for-ACGPN/modules/src/inplace_abn_cuda.cu', 'code/Self-Correction-Human-Parsing-for-ACGPN/modules/src/inplace_abn_cuda_half.cu', 'code/Self-Correction-Human-Parsing-for-ACGPN/modules/src/utils', 'code/Self-Correction-Human-Parsing-for-ACGPN/modules/src/utils/checks.h', 'code/Self-Correction-Human-Parsing-for-ACGPN/modules/src/utils/common.h', 'code/Self-Correction-Human-Parsing-for-ACGPN/modules/src/utils/cuda.cuh', 'code/Self-Correction-Human-Parsing-for-ACGPN/networks', 'code/Self-Correction-Human-Parsing-for-ACGPN/networks/AugmentCE2P.py', 'code/Self-Correction-Human-Parsing-for-ACGPN/networks/__init__.py', 'code/Self-Correction-Human-Parsing-for-ACGPN/networks/backbone', 'code/Self-Correction-Human-Parsing-for-ACGPN/networks/backbone/mobilenetv2.py', 'code/Self-Correction-Human-Parsing-for-ACGPN/networks/backbone/resnet.py', 'code/Self-Correction-Human-Parsing-for-ACGPN/networks/backbone/resnext.py', 'code/Self-Correction-Human-Parsing-for-ACGPN/networks/context_encoding', 'code/Self-Correction-Human-Parsing-for-ACGPN/networks/context_encoding/aspp.py', 'code/Self-Correction-Human-Parsing-for-ACGPN/networks/context_encoding/ocnet.py', 'code/Self-Correction-Human-Parsing-for-ACGPN/networks/context_encoding/psp.py', 'code/Self-Correction-Human-Parsing-for-ACGPN/requirements.txt', 'code/Self-Correction-Human-Parsing-for-ACGPN/simple_extractor.py', 'code/Self-Correction-Human-Parsing-for-ACGPN/simple_extractor_sievenet.py', 'code/Self-Correction-Human-Parsing-for-ACGPN/train.py', 'code/Self-Correction-Human-Parsing-for-ACGPN/utils', 'code/Self-Correction-Human-Parsing-for-ACGPN/utils/__init__.py', 'code/Self-Correction-Human-Parsing-for-ACGPN/utils/consistency_loss.py', 'code/Self-Correction-Human-Parsing-for-ACGPN/utils/criterion.py', 'code/Self-Correction-Human-Parsing-for-ACGPN/utils/encoding.py', 'code/Self-Correction-Human-Parsing-for-ACGPN/utils/kl_loss.py', 'code/Self-Correction-Human-Parsing-for-ACGPN/utils/lovasz_softmax.py', 'code/Self-Correction-Human-Parsing-for-ACGPN/utils/miou.py', 'code/Self-Correction-Human-Parsing-for-ACGPN/utils/schp.py', 'code/Self-Correction-Human-Parsing-for-ACGPN/utils/soft_dice_loss.py', 'code/Self-Correction-Human-Parsing-for-ACGPN/utils/transforms.py', 'code/Self-Correction-Human-Parsing-for-ACGPN/utils/warmup_scheduler.py', 'code/U2Net', 'code/U2Net/.ipynb_checkpoints', 'code/U2Net/.ipynb_checkpoints/u2net_load-checkpoint.py', 'code/U2Net/.ipynb_checkpoints/u2net_run-checkpoint.py', 'code/U2Net/.ipynb_checkpoints/u2net_test-checkpoint.py', 'code/U2Net/__pycache__', 'code/U2Net/__pycache__/data_loader.cpython-38.pyc', 'code/U2Net/data_loader.py', 'code/U2Net/gradio', 'code/U2Net/gradio/demo.py', 'code/U2Net/model', 'code/U2Net/model/__init__.py', 'code/U2Net/model/__pycache__', 'code/U2Net/model/__pycache__/__init__.cpython-36.pyc', 'code/U2Net/model/__pycache__/__init__.cpython-37.pyc', 'code/U2Net/model/__pycache__/__init__.cpython-38.pyc', 'code/U2Net/model/__pycache__/u2net.cpython-36.pyc', 'code/U2Net/model/__pycache__/u2net.cpython-37.pyc', 'code/U2Net/model/__pycache__/u2net.cpython-38.pyc', 'code/U2Net/model/u2net.py', 'code/U2Net/model/u2net_refactor.py', 'code/U2Net/requirements.txt', 'code/U2Net/saved_models', 'code/U2Net/saved_models/face_detection_cv2', 'code/U2Net/saved_models/face_detection_cv2/haarcascade_frontalface_default.xml', 'code/U2Net/saved_models/u2netp', 'code/U2Net/saved_models/u2netp/u2netp.pth', 'code/U2Net/setup_model_weights.py', 'code/U2Net/u2net_human_seg_test.py', 'code/U2Net/u2net_load.py', 'code/U2Net/u2net_portrait_demo.py', 'code/U2Net/u2net_portrait_test.py', 'code/U2Net/u2net_run.py', 'code/U2Net/u2net_test.py', 'code/U2Net/u2net_train.py', 'code/checkpoints', 'code/checkpoints/ACGPN_checkpoints.zip', 'code/checkpoints/label2city', 'code/checkpoints/label2city/latest_net_G.pth', 'code/checkpoints/label2city/latest_net_G1.pth', 'code/checkpoints/label2city/latest_net_G2.pth', 'code/checkpoints/label2city/latest_net_U.pth', 'code/checkpoints/label2city/opt.txt', 'code/data', 'code/data/.ipynb_checkpoints', 'code/data/.ipynb_checkpoints/aligned_dataset-checkpoint.py', 'code/data/.ipynb_checkpoints/base_data_loader-checkpoint.py', 'code/data/.ipynb_checkpoints/base_dataset-checkpoint.py', 'code/data/.ipynb_checkpoints/custom_dataset_data_loader-checkpoint.py', 'code/data/.ipynb_checkpoints/data_loader-checkpoint.py', 'code/data/.ipynb_checkpoints/image_folder-checkpoint.py', 'code/data/__pycache__', 'code/data/__pycache__/aligned_dataset.cpython-36.pyc', 'code/data/__pycache__/aligned_dataset.cpython-38.pyc', 'code/data/__pycache__/base_data_loader.cpython-36.pyc', 'code/data/__pycache__/base_data_loader.cpython-38.pyc', 'code/data/__pycache__/base_dataset.cpython-36.pyc', 'code/data/__pycache__/base_dataset.cpython-38.pyc', 'code/data/__pycache__/custom_dataset_data_loader.cpython-36.pyc', 'code/data/__pycache__/custom_dataset_data_loader.cpython-38.pyc', 'code/data/__pycache__/data_loader.cpython-36.pyc', 'code/data/__pycache__/data_loader.cpython-38.pyc', 'code/data/__pycache__/image_folder.cpython-36.pyc', 'code/data/__pycache__/image_folder.cpython-38.pyc', 'code/data/aligned_dataset.py', 'code/data/base_data_loader.py', 'code/data/base_dataset.py', 'code/data/custom_dataset_data_loader.py', 'code/data/data_loader.py', 'code/data/image_folder.py', 'code/dummy', 'code/dummy/.ipynb_checkpoints', 'code/dummy/dummy.png', 'code/grid_sample.py', 'code/inputs', 'code/inputs/cloth', 'code/inputs/cloth/.ipynb_checkpoints', 'code/inputs/img', 'code/inputs/img/.ipynb_checkpoints', 'code/lip_final.pth', 'code/models', 'code/models/.ipynb_checkpoints', 'code/models/.ipynb_checkpoints/__init__-checkpoint.py', 'code/models/.ipynb_checkpoints/base_model-checkpoint.py', 'code/models/.ipynb_checkpoints/mnist_model-checkpoint.py', 'code/models/.ipynb_checkpoints/mnist_train-checkpoint.py', 'code/models/.ipynb_checkpoints/models-checkpoint.py', 'code/models/.ipynb_checkpoints/pix2pixHD_model-checkpoint.py', 'code/models/.ipynb_checkpoints/test-checkpoint.py', 'code/models/__init__.py', 'code/models/__pycache__', 'code/models/__pycache__/base_model.cpython-36.pyc', 'code/models/__pycache__/base_model.cpython-38.pyc', 'code/models/__pycache__/models.cpython-36.pyc', 'code/models/__pycache__/models.cpython-38.pyc', 'code/models/__pycache__/networks.cpython-36.pyc', 'code/models/__pycache__/networks.cpython-38.pyc', 'code/models/__pycache__/pix2pixHD_model.cpython-36.pyc', 'code/models/__pycache__/pix2pixHD_model.cpython-38.pyc', 'code/models/base_model.py', 'code/models/mnist_model.py', 'code/models/mnist_train.py', 'code/models/models.py', 'code/models/networks.py', 'code/models/networks_backup.py', 'code/models/pix2pixHD_model.py', 'code/models/test.py', 'code/options', 'code/options/.ipynb_checkpoints', 'code/options/.ipynb_checkpoints/base_options-checkpoint.py', 'code/options/.ipynb_checkpoints/test_options-checkpoint.py', 'code/options/.ipynb_checkpoints/train_options-checkpoint.py', 'code/options/__pycache__', 'code/options/__pycache__/base_options.cpython-36.pyc', 'code/options/__pycache__/base_options.cpython-38.pyc', 'code/options/__pycache__/test_options.cpython-38.pyc', 'code/options/__pycache__/train_options.cpython-36.pyc', 'code/options/__pycache__/train_options.cpython-38.pyc', 'code/options/base_options.py', 'code/options/test_options.py', 'code/options/train_options.py', 'code/pose', 'code/pose/pose_deploy_linevec.prototxt', 'code/pose/pose_iter_440000.caffemodel', 'code/predict_pose.py', 'code/preprocessing.py', 'code/requirements.txt', 'code/test.py', 'code/tps_grid_gen.py', 'code/train.py', 'code/util', 'code/util/.ipynb_checkpoints', 'code/util/.ipynb_checkpoints/image_pool-checkpoint.py', 'code/util/.ipynb_checkpoints/util-checkpoint.py', 'code/util/__pycache__', 'code/util/__pycache__/image_pool.cpython-36.pyc', 'code/util/__pycache__/image_pool.cpython-38.pyc', 'code/util/__pycache__/util.cpython-36.pyc', 'code/util/__pycache__/util.cpython-38.pyc', 'code/util/image_pool.py', 'code/util/util.py']\n"
     ]
    }
   ],
   "source": [
    "#unzipping the code backup tarfile\n",
    "# importing the \"tarfile\" module\n",
    "import tarfile\n",
    "# open file\n",
    "file = tarfile.open('code_backup.tar.gz')\n",
    "# print file names\n",
    "print(file.getnames())\n",
    "# extract files\n",
    "file.extractall('./backup')\n",
    "# close file\n",
    "file.close()"
   ]
  },
  {
   "cell_type": "code",
   "execution_count": 20,
   "id": "79176878-8ee7-4560-abe4-df7739911eff",
   "metadata": {},
   "outputs": [],
   "source": [
    "#uploading the code backup to S3\n",
    "import boto3\n",
    "import base64\n",
    "from boto3 import client\n",
    "s3 = boto3.resource('s3')\n",
    "s3.meta.client.upload_file(\"code_backup.tar.gz\",'cp6-digitailinstore-bucket','code_backup.tar.gz')"
   ]
  },
  {
   "cell_type": "code",
   "execution_count": null,
   "id": "1bfa5736-e84d-4b6c-beb9-bbd9c173e195",
   "metadata": {},
   "outputs": [],
   "source": [
    "# background removal code\n",
    "\n",
    "import cv2\n",
    "import numpy as np\n",
    "\n",
    "# load image\n",
    "img = cv2.imread('outputs/output2/Profile_resized.jpg')\n",
    "\n",
    "# convert to graky\n",
    "gray = cv2.cvtColor(img, cv2.COLOR_BGR2GRAY)\n",
    "\n",
    "# threshold input image as mask\n",
    "mask = cv2.threshold(gray, 250, 255, cv2.THRESH_BINARY)[1]\n",
    "\n",
    "# negate mask\n",
    "mask = 255 - mask\n",
    "\n",
    "# apply morphology to remove isolated extraneous noise\n",
    "# use borderconstant of black since foreground touches the edges\n",
    "kernel = np.ones((3,3), np.uint8)\n",
    "mask = cv2.morphologyEx(mask, cv2.MORPH_OPEN, kernel)\n",
    "mask = cv2.morphologyEx(mask, cv2.MORPH_CLOSE, kernel)\n",
    "\n",
    "# anti-alias the mask -- blur then stretch\n",
    "# blur alpha channel\n",
    "mask = cv2.GaussianBlur(mask, (0,0), sigmaX=2, sigmaY=2, borderType = cv2.BORDER_DEFAULT)\n",
    "\n",
    "# linear stretch so that 127.5 goes to 0, but 255 stays 255\n",
    "mask = (2*(mask.astype(np.float32))-255.0).clip(0,255).astype(np.uint8)\n",
    "\n",
    "# put mask into alpha channel\n",
    "result = img.copy()\n",
    "result = cv2.cvtColor(result, cv2.COLOR_BGR2BGRA)\n",
    "result[:, :, 3] = mask\n",
    "\n",
    "# save resulting masked image\n",
    "cv2.imwrite('person_transp_bckgrnd.png', result)\n",
    "\n",
    "# display result, though it won't show transparency\n",
    "cv2.imshow(\"INPUT\", img)\n",
    "cv2.imshow(\"GRAY\", gray)\n",
    "cv2.imshow(\"MASK\", mask)\n",
    "cv2.imshow(\"RESULT\", result)\n",
    "# cv2.waitKey(0)\n",
    "# cv2.destroyAllWindows()"
   ]
  }
 ],
 "metadata": {
  "kernelspec": {
   "display_name": "venv",
   "language": "python",
   "name": "venv"
  },
  "language_info": {
   "codemirror_mode": {
    "name": "ipython",
    "version": 3
   },
   "file_extension": ".py",
   "mimetype": "text/x-python",
   "name": "python",
   "nbconvert_exporter": "python",
   "pygments_lexer": "ipython3",
   "version": "3.10.6"
  }
 },
 "nbformat": 4,
 "nbformat_minor": 5
}
