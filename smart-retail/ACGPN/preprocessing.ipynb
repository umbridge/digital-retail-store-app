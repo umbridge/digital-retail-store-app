{
 "cells": [
  {
   "cell_type": "code",
   "execution_count": 1,
   "id": "7c39c955-d210-4003-ba5a-e2bf83b4cf05",
   "metadata": {
    "tags": []
   },
   "outputs": [],
   "source": [
    "import tarfile\n",
    "with tarfile.open(\"model.tar.gz\", \"w:gz\") as f:\n",
    "    f.add(\"model.pth\")\n",
    "    f.add(\"code\")"
   ]
  },
  {
   "cell_type": "code",
   "execution_count": 2,
   "id": "a06ba10d-dc5e-4032-85dd-22ce785f7ed7",
   "metadata": {
    "tags": []
   },
   "outputs": [],
   "source": [
    "import boto3\n",
    "from boto3 import client\n",
    "s3 = boto3.resource('s3')\n",
    "s3.meta.client.upload_file(\"model.tar.gz\",'cp6-digitailinstore-bucket','model.tar.gz')"
   ]
  },
  {
   "cell_type": "code",
   "execution_count": 1,
   "id": "3dc5499b-d50b-43aa-a186-c47c8ecb0f00",
   "metadata": {
    "tags": []
   },
   "outputs": [],
   "source": [
    "import boto3\n",
    "import base64\n",
    "from boto3 import client\n",
    "from sagemaker.pytorch import PyTorchModel\n",
    "from sagemaker import get_execution_role\n",
    "role = get_execution_role()"
   ]
  },
  {
   "cell_type": "code",
   "execution_count": 2,
   "id": "17d00c67-1bda-486b-96b6-aa991794e14a",
   "metadata": {
    "tags": []
   },
   "outputs": [],
   "source": [
    "pytorch_model = PyTorchModel(model_data='s3://cp6-digitailinstore-bucket/model.tar.gz',\n",
    "                             role=role, entry_point='person_preprocessing.py', source_dir= 's3://cp6-digitailinstore-bucket/model.tar.gz',\n",
    "                             framework_version='1.5.0', py_version='py3')"
   ]
  },
  {
   "cell_type": "code",
   "execution_count": 3,
   "id": "50723205-d441-4319-b3a9-a4a227848e91",
   "metadata": {
    "tags": []
   },
   "outputs": [
    {
     "name": "stdout",
     "output_type": "stream",
     "text": [
      "----------!"
     ]
    }
   ],
   "source": [
    "predictor = pytorch_model.deploy(instance_type='ml.g4dn.xlarge', initial_instance_count=1)"
   ]
  },
  {
   "cell_type": "code",
   "execution_count": 4,
   "id": "2a340ab9-f8e6-4c7c-b233-b97731eaed72",
   "metadata": {
    "tags": []
   },
   "outputs": [
    {
     "name": "stderr",
     "output_type": "stream",
     "text": [
      "The endpoint attribute has been renamed in sagemaker>=2.\n",
      "See: https://sagemaker.readthedocs.io/en/stable/v2.html for details.\n"
     ]
    },
    {
     "data": {
      "text/plain": [
       "'pytorch-inference-2023-02-28-06-49-47-279'"
      ]
     },
     "execution_count": 4,
     "metadata": {},
     "output_type": "execute_result"
    }
   ],
   "source": [
    "predictor.endpoint"
   ]
  },
  {
   "cell_type": "code",
   "execution_count": 6,
   "id": "8022b7ca-6fd6-4472-8e85-0d6cdcf446c2",
   "metadata": {
    "tags": []
   },
   "outputs": [
    {
     "name": "stdout",
     "output_type": "stream",
     "text": [
      "252\n"
     ]
    }
   ],
   "source": [
    "import boto3\n",
    "import json\n",
    "\n",
    "runtime_client = boto3.client('sagemaker-runtime')\n",
    "content_type = \"application/json\"\n",
    "request_body = {'Input': \"252.png\"}\n",
    "data = json.loads(json.dumps(request_body))\n",
    "payload = json.dumps(data)\n",
    "endpoint_name = \"pytorch-inference-2023-02-28-06-49-47-279\"\n",
    "\n",
    "response = runtime_client.invoke_endpoint(\n",
    "    EndpointName=endpoint_name,\n",
    "    ContentType=content_type,\n",
    "    Body=payload)\n",
    "result = json.loads(response['Body'].read().decode())['Output']\n",
    "print(result)"
   ]
  },
  {
   "cell_type": "code",
   "execution_count": 7,
   "id": "b4cf6aad-c86e-4c3a-89e6-91fb945544db",
   "metadata": {},
   "outputs": [],
   "source": [
    "import boto3\n",
    "s3 = boto3.resource('s3')"
   ]
  },
  {
   "cell_type": "code",
   "execution_count": 8,
   "id": "d644cead-0924-4ce7-96f4-5b3e1bdadc8f",
   "metadata": {},
   "outputs": [],
   "source": [
    "s3.meta.client.download_file('cp6-digitailinstore-bucket', \"person_metadata/252_test_img.png\"  , \"252_test_img.png\")"
   ]
  },
  {
   "cell_type": "code",
   "execution_count": 7,
   "id": "3e0f21e6-fd51-4276-aa91-5d33c319ee52",
   "metadata": {},
   "outputs": [],
   "source": [
    "s3.meta.client.download_file('cp6-digitailinstore-bucket', \"person_metadata/2_keypoints.json\"  , \"2_keypoints.json\")"
   ]
  },
  {
   "cell_type": "code",
   "execution_count": 8,
   "id": "fd488087-e9c3-41a0-9f5f-23f022cd9b0a",
   "metadata": {},
   "outputs": [],
   "source": [
    "s3.meta.client.download_file('cp6-digitailinstore-bucket', \"person_metadata/2_keypoints.json\"  , \"2_test_label.png\")"
   ]
  },
  {
   "cell_type": "code",
   "execution_count": 29,
   "id": "aa4b6ce4-6932-4fe9-97d7-f0c707ce4c5f",
   "metadata": {},
   "outputs": [],
   "source": [
    "s3.meta.client.download_file('cp6-digitailinstore-bucket', \"user_images/235.png\"  , \"235.png\")"
   ]
  },
  {
   "cell_type": "code",
   "execution_count": null,
   "id": "5cab3fd8-24b9-48c1-8206-883908a26a46",
   "metadata": {},
   "outputs": [],
   "source": []
  }
 ],
 "metadata": {
  "kernelspec": {
   "display_name": "venv",
   "language": "python",
   "name": "venv"
  },
  "language_info": {
   "codemirror_mode": {
    "name": "ipython",
    "version": 3
   },
   "file_extension": ".py",
   "mimetype": "text/x-python",
   "name": "python",
   "nbconvert_exporter": "python",
   "pygments_lexer": "ipython3",
   "version": "3.10.6"
  }
 },
 "nbformat": 4,
 "nbformat_minor": 5
}
